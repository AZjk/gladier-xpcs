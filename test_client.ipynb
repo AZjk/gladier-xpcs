{
 "cells": [
  {
   "cell_type": "markdown",
   "metadata": {},
   "source": [
    "# XPCS Gladier \n"
   ]
  },
  {
   "cell_type": "code",
   "execution_count": 1,
   "metadata": {},
   "outputs": [
    {
     "output_type": "stream",
     "name": "stdout",
     "text": [
      "Starting Gladier Library with following GladierBaseClasses\n['GladierBaseClient', 'GladierBaseContainer', 'GladierBaseTool']\n"
     ]
    }
   ],
   "source": [
    "from gladier import GladierBaseClient"
   ]
  },
  {
   "cell_type": "code",
   "execution_count": 2,
   "metadata": {},
   "outputs": [],
   "source": [
    "from flow_defs.corr_basic_flow import corr_basic_flow_definition"
   ]
  },
  {
   "cell_type": "code",
   "execution_count": 3,
   "metadata": {},
   "outputs": [],
   "source": [
    "class XPCS_Client(GladierBaseClient):\n",
    "    client_id = 'e6c75d97-532a-4c88-b031-8584a319fa3e'\n",
    "    gladier_tools = [\n",
    "        'gladier_tools.xpcs.EigenCorr'\n",
    "    ]\n",
    "    flow_definition = corr_basic_flow_definition\n",
    "corr_cli = XPCS_Client()\n"
   ]
  },
  {
   "cell_type": "code",
   "execution_count": 4,
   "metadata": {},
   "outputs": [],
   "source": [
    "import os\r\n",
    "\r\n",
    "data = {\r\n",
    "    \"input\": {\r\n",
    "        # funcX endpoints \r\n",
    "        \"funcx_ep\": '8f2f2eab-90d2-45ba-a771-b96e6d530cad',\r\n",
    "        #Processing variables\r\n",
    "        \"proc_dir\": '/projects/APSDataAnalysis/Braid/xpcs_test/',\r\n",
    "        \"corr_loc\": '/lus/theta-fs0/projects/APSDataAnalysis/XPCS/xpcs-eigen/build/corr'\r\n",
    "        #Eigen specific variables\r\n",
    "        \"hdf\": \"A001_Aerogel_1mm_att6_Lq0_001_0001-1000/A001_Aerogel_1mm_att6_Lq0_001_0001-1000.hdf\",\r\n",
    "        \"imm\": \"A001_Aerogel_1mm_att6_Lq0_001_0001-1000/A001_Aerogel_1mm_att6_Lq0_001_00001-01000.imm\",\r\n",
    "        \"flags\": ''}}"
   ]
  },
  {
   "cell_type": "code",
   "execution_count": 5,
   "metadata": {},
   "outputs": [],
   "source": [
    "corr_flow = corr_cli.run_flow(flow_input=data)\n"
   ]
  },
  {
   "cell_type": "code",
   "execution_count": 6,
   "metadata": {},
   "outputs": [
    {
     "output_type": "stream",
     "name": "stdout",
     "text": [
      "[ACTIVE]: Polling for completion of action state Eigen Corr\n",
      "[ACTIVE]: Polling for completion of action state Eigen Corr\n",
      "[ACTIVE]: Polling for completion of action state Eigen Corr\n",
      "[ACTIVE]: Polling for completion of action state Eigen Corr\n",
      "[ACTIVE]: Polling for completion of action state Eigen Corr\n",
      "[ACTIVE]: Polling for completion of action state Eigen Corr\n",
      "[ACTIVE]: Polling for completion of action state Eigen Corr\n",
      "[ACTIVE]: Polling for completion of action state Eigen Corr\n",
      "[ACTIVE]: Polling for completion of action state Eigen Corr\n",
      "[ACTIVE]: Polling for completion of action state Eigen Corr\n",
      "[ACTIVE]: Polling for completion of action state Eigen Corr\n",
      "[ACTIVE]: Polling for completion of action state Eigen Corr\n",
      "[ACTIVE]: Polling for completion of action state Eigen Corr\n"
     ]
    }
   ],
   "source": [
    "corr_cli.progress(corr_flow['action_id'])"
   ]
  },
  {
   "cell_type": "code",
   "execution_count": null,
   "metadata": {},
   "outputs": [],
   "source": []
  }
 ],
 "metadata": {
  "kernelspec": {
   "name": "python3",
   "display_name": "Python 3",
   "language": "python"
  },
  "language_info": {
   "codemirror_mode": {
    "name": "ipython",
    "version": 3
   },
   "file_extension": ".py",
   "mimetype": "text/x-python",
   "name": "python",
   "nbconvert_exporter": "python",
   "pygments_lexer": "ipython3",
   "version": "3.8.5-final"
  }
 },
 "nbformat": 4,
 "nbformat_minor": 4
}