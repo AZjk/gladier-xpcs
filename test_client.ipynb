{
 "cells": [
  {
   "cell_type": "markdown",
   "metadata": {},
   "source": [
    "# XPCS Gladier \n"
   ]
  },
  {
   "cell_type": "code",
   "execution_count": 6,
   "metadata": {},
   "outputs": [],
   "source": [
    "from gladier import GladierBaseClient"
   ]
  },
  {
   "cell_type": "code",
   "execution_count": 7,
   "metadata": {},
   "outputs": [],
   "source": [
    "from flow_defs import corr_basic_flow_definition, qmap_flow_definition"
   ]
  },
  {
   "cell_type": "code",
   "execution_count": 8,
   "metadata": {},
   "outputs": [],
   "source": [
    "##TODO check Class __init__ to map flows also.\n",
    "##TODO make the class initialization print some info and checkings\n",
    "class XPCS_Corr_Client(GladierBaseClient):\n",
    "    gladier_tools = [\n",
    "        'gladier_tools.xpcs.EigenCorr',\n",
    "    ]\n",
    "    flow_definition = corr_basic_flow_definition \n",
    "    ##TODO change that to the original flow ryan was using\n",
    "    ##TODO check if this flow is defined and working\n",
    "    funcx_endpoint = [\n",
    "        'theta_raf1',\n",
    "        'theta_raf1_queue'\n",
    "        ]\n",
    "    containers = [\n",
    "        'eigen'\n",
    "        ]\n",
    "\n",
    "\n",
    "class XPCS_Qmap_Client(GladierBaseClient):\n",
    "    gladier_tools = [\n",
    "        'gladier_tools.xpcs.ApplyQmap',\n",
    "    ]\n",
    "    flow_definition = qmap_flow_definition "
   ]
  },
  {
   "cell_type": "code",
   "execution_count": null,
   "metadata": {},
   "outputs": [],
   "source": [
    "# [xpcs__client]\n",
    "# eigen_corr_funcx_id = 4e1b76a3-d9ca-40d5-a2a3-e87ae756a7bb\n",
    "# eigen_corr_funcx_container_name = eigen_v1\n",
    "# eigen_corr_funcx_id_checksum = 9bfd69696d8769a5eaace67356e0b786b84f6dbfd3008f3a8f38f570f33c2a08\n",
    "# apply_qmap_funcx_id = 54ae5543-03c8-4851-b667-80ae1b54965b\n",
    "# apply_qmap_funcx_container_name = None\n",
    "# apply_qmap_funcx_id_checksum = 4b13b773caae2588a0d7e881d8f39df6fbe61cd296f003c4f11fc947e5888e07\n",
    "# eigen_v1_container_id = xxxx-yyyy-zzzz-qqqaa-etcetc\n",
    "# eigen_v1_container_loc = /.gladier/containers/\n",
    "##\n",
    "# beamline_trigger1 = '??'"
   ]
  },
  {
   "cell_type": "code",
   "execution_count": null,
   "metadata": {},
   "outputs": [],
   "source": [
    "XPCS_Corr_Client.check_endpoints()\n",
    "XPCS_Corr_Client.check_auth()\n",
    "XPCS_Corr_Client.check_container_version()\n",
    "\n",
    "##check which function, container, endpoint, etc is used on which flow/action\n",
    "XPCS_Corr_Client.map_flow()\n"
   ]
  },
  {
   "cell_type": "code",
   "execution_count": null,
   "metadata": {},
   "outputs": [],
   "source": [
    "# ##TODO check Class __init__ to map flows also.\n",
    "# ##TODO make the class initialization print some info and checkings\n",
    "# XPCS_Corr_Client = GladierBaseClient()\n",
    "# XPCS_Corr_Client.gladier_tools = [\n",
    "#         'gladier_tools.xpcs.EigenCorr',\n",
    "#     ]\n",
    "# XPCS_Corr_Client.flow_definition = corr_basic_flow_definition \n",
    "#     ##TODO change that to the original flow ryan was using\n",
    "#     ##TODO check if this flow is defined and working"
   ]
  },
  {
   "cell_type": "code",
   "execution_count": 9,
   "metadata": {},
   "outputs": [
    {
     "output_type": "execute_result",
     "data": {
      "text/plain": [
       "{'input': {'funcx_ep': '8f2f2eab-90d2-45ba-a771-b96e6d530cad',\n",
       "  'proc_dir': '/lus/theta-fs0/projects/APSDataAnalysis/Braid/test_xpcs',\n",
       "  'corr_loc': '/lus/theta-fs0/projects/APSDataAnalysis/XPCS/xpcs-eigen/build/corr',\n",
       "  'hdf': 'A001_Aerogel_1mm_att6_Lq0_001_0001-1000/A001_Aerogel_1mm_att6_Lq0_001_0001-1000.hdf',\n",
       "  'imm': 'A001_Aerogel_1mm_att6_Lq0_001_0001-1000/A001_Aerogel_1mm_att6_Lq0_001_00001-01000.imm',\n",
       "  'flags': '',\n",
       "  'qmap': 'sanat201903_qmap_S270_D54_lin.h5',\n",
       "  'flatfield': 'Flatfiel_AsKa_Th5p5keV.hdf',\n",
       "  'output': 'A001_Aerogel_1mm_att6_Lq0_001_0001-1000/A001_Aerogel_1mm_att6_Lq0_001_0001-1000_qmap.hdf'}}"
      ]
     },
     "metadata": {},
     "execution_count": 9
    }
   ],
   "source": [
    "from payload import data\n",
    "data "
   ]
  },
  {
   "cell_type": "code",
   "execution_count": 10,
   "metadata": {},
   "outputs": [
    {
     "output_type": "stream",
     "name": "stdout",
     "text": [
      "Starting login with Globus Auth, press ^C to cancel.\n"
     ]
    }
   ],
   "source": [
    "corr_cli = XPCS_Corr_Client()\n",
    "corr_flow_v1 = corr_cli.run_flow(flow_input=data)"
   ]
  },
  {
   "cell_type": "code",
   "execution_count": 11,
   "metadata": {},
   "outputs": [],
   "source": [
    "qmap_cli = XPCS_Qmap_Client()\n",
    "qmap_flow_v1 = qmap_cli.run_flow(flow_input=data)"
   ]
  },
  {
   "cell_type": "code",
   "execution_count": null,
   "metadata": {},
   "outputs": [],
   "source": []
  }
 ],
 "metadata": {
  "kernelspec": {
   "name": "python3",
   "display_name": "Python 3",
   "language": "python"
  },
  "language_info": {
   "codemirror_mode": {
    "name": "ipython",
    "version": 3
   },
   "file_extension": ".py",
   "mimetype": "text/x-python",
   "name": "python",
   "nbconvert_exporter": "python",
   "pygments_lexer": "ipython3",
   "version": "3.8.5-final"
  }
 },
 "nbformat": 4,
 "nbformat_minor": 4
}