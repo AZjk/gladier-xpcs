{
 "cells": [
  {
   "cell_type": "markdown",
   "metadata": {},
   "source": [
    "# XPCS Gladier \n"
   ]
  },
  {
   "cell_type": "code",
   "execution_count": 1,
   "metadata": {},
   "outputs": [
    {
     "output_type": "stream",
     "name": "stdout",
     "text": [
      "Starting Gladier Library with following GladierBaseClasses\n['GladierBaseClient', 'GladierBaseContainer', 'GladierBaseTool']\n"
     ]
    }
   ],
   "source": [
    "from gladier import GladierBaseClient"
   ]
  },
  {
   "cell_type": "code",
   "execution_count": 2,
   "metadata": {},
   "outputs": [],
   "source": [
    "from flow_defs import corr_basic_flow_definition, qmap_flow_definition"
   ]
  },
  {
   "cell_type": "code",
   "execution_count": 9,
   "metadata": {},
   "outputs": [],
   "source": [
    "XPCS_Corr_Client = GladierBaseClient()\n",
    "XPCS_Corr_Client.gladier_tools = [\n",
    "        'gladier_tools.xpcs.EigenCorr'\n",
    "    ]\n",
    "XPCS_Corr_Client.flow_definition = corr_basic_flow_definition \n",
    "\n"
   ]
  },
  {
   "cell_type": "code",
   "execution_count": 10,
   "metadata": {},
   "outputs": [
    {
     "output_type": "execute_result",
     "data": {
      "text/plain": [
       "{'input': {'funcx_ep': '8f2f2eab-90d2-45ba-a771-b96e6d530cad',\n",
       "  'proc_dir': '/lus/theta-fs0/projects/APSDataAnalysis/Braid/test_xpcs',\n",
       "  'corr_loc': '/lus/theta-fs0/projects/APSDataAnalysis/XPCS/xpcs-eigen/build/corr',\n",
       "  'hdf_file': 'A001_Aerogel_1mm_att6_Lq0_001_0001-1000/A001_Aerogel_1mm_att6_Lq0_001_0001-1000.hdf',\n",
       "  'imm_file': 'A001_Aerogel_1mm_att6_Lq0_001_0001-1000/A001_Aerogel_1mm_att6_Lq0_001_00001-01000.imm',\n",
       "  'flags': '',\n",
       "  'qmap_file': 'sanat201903_qmap_S270_D54_lin.h5',\n",
       "  'flat_file': 'Flatfiel_AsKa_Th5p5keV.hdf',\n",
       "  'output_file': 'A001_Aerogel_1mm_att6_Lq0_001_0001-1000/A001_Aerogel_1mm_att6_Lq0_001_0001-1000_qmap.hdf'}}"
      ]
     },
     "metadata": {},
     "execution_count": 10
    }
   ],
   "source": [
    "from payload import data\n",
    "data "
   ]
  },
  {
   "cell_type": "code",
   "execution_count": 11,
   "metadata": {},
   "outputs": [
    {
     "output_type": "execute_result",
     "data": {
      "text/plain": [
       "{'eigen_corr_funcx_id': 'bfed551c-3330-40aa-a5ff-3fd402f6b7dd'}"
      ]
     },
     "metadata": {},
     "execution_count": 11
    }
   ],
   "source": [
    "XPCS_Corr_Client.get_funcx_function_ids()"
   ]
  },
  {
   "cell_type": "code",
   "execution_count": 14,
   "metadata": {},
   "outputs": [],
   "source": [
    "corr_flow_v1 = XPCS_Corr_Client.run_flow(flow_input=data)"
   ]
  },
  {
   "cell_type": "code",
   "execution_count": 15,
   "metadata": {},
   "outputs": [
    {
     "output_type": "execute_result",
     "data": {
      "text/plain": [
       "{'action_id': 'dd3c7566-6895-4ef3-9cc3-54fec00524ae',\n",
       " 'completion_time': 'None',\n",
       " 'created_by': 'urn:globus:auth:identity:95278182-10a1-11e6-9c7e-7b385f033313',\n",
       " 'details': {'code': 'ActionStarted',\n",
       "  'description': 'State Eigen Corr of type Action started',\n",
       "  'details': {'input': {'tasks': [{'endpoint': '8f2f2eab-90d2-45ba-a771-b96e6d530cad',\n",
       "      'func': 'bfed551c-3330-40aa-a5ff-3fd402f6b7dd',\n",
       "      'payload': {'input': {'corr_loc': '/lus/theta-fs0/projects/APSDataAnalysis/XPCS/xpcs-eigen/build/corr',\n",
       "        'eigen_corr_funcx_id': 'bfed551c-3330-40aa-a5ff-3fd402f6b7dd',\n",
       "        'flags': '',\n",
       "        'flat_file': 'Flatfiel_AsKa_Th5p5keV.hdf',\n",
       "        'funcx_ep': '8f2f2eab-90d2-45ba-a771-b96e6d530cad',\n",
       "        'hdf_file': 'A001_Aerogel_1mm_att6_Lq0_001_0001-1000/A001_Aerogel_1mm_att6_Lq0_001_0001-1000.hdf',\n",
       "        'imm_file': 'A001_Aerogel_1mm_att6_Lq0_001_0001-1000/A001_Aerogel_1mm_att6_Lq0_001_00001-01000.imm',\n",
       "        'output_file': 'A001_Aerogel_1mm_att6_Lq0_001_0001-1000/A001_Aerogel_1mm_att6_Lq0_001_0001-1000_qmap.hdf',\n",
       "        'proc_dir': '/lus/theta-fs0/projects/APSDataAnalysis/Braid/test_xpcs',\n",
       "        'qmap_file': 'sanat201903_qmap_S270_D54_lin.h5'}}}]},\n",
       "   'state_name': 'Eigen Corr',\n",
       "   'state_type': 'Action'},\n",
       "  'time': '2021-03-25T02:39:13.952000+00:00'},\n",
       " 'start_time': '2021-03-25T02:39:13.925000+00:00',\n",
       " 'status': 'ACTIVE'}"
      ]
     },
     "metadata": {},
     "execution_count": 15
    }
   ],
   "source": [
    "corr_flow_v1"
   ]
  },
  {
   "cell_type": "code",
   "execution_count": 43,
   "metadata": {},
   "outputs": [],
   "source": [
    "XPCS_Qmap_Client = GladierBaseClient()\n",
    "XPCS_Qmap_Client.gladier_tools = [\n",
    "        'gladier_tools.xpcs.ApplyQmap',\n",
    "        'gladier_tools.xpcs.EigenCorr'\n",
    "    ]\n",
    "XPCS_Qmap_Client.flow_definition = qmap_flow_definition \n",
    "\n",
    "qmap_flow_v1 = XPCS_Qmap_Client.run_flow(flow_input=data)"
   ]
  },
  {
   "cell_type": "code",
   "execution_count": null,
   "metadata": {},
   "outputs": [],
   "source": [
    "##TODO check Class __init__ to map flows also.\n",
    "##TODO make the class initialization print some info and checkings\n",
    "##TODO change that to the original flow ryan was using\n",
    "##TODO check if this flow is defined and working"
   ]
  },
  {
   "cell_type": "code",
   "execution_count": 48,
   "metadata": {},
   "outputs": [
    {
     "output_type": "stream",
     "name": "stdout",
     "text": [
      "First State = Apply QMap\n------------------\nState : Apply QMap\nType : FuncX Action\nfuncx_ep\napply_qmap_funcx_id\n\n------------------\nState : Eigen Corr\nType : FuncX Action\nfuncx_ep\ncorr_fxid\n\n"
     ]
    }
   ],
   "source": [
    "\n",
    "def map_flow(flow,config=None):\n",
    "    f_states = flow['States'].keys()\n",
    "\n",
    "    print('First State = '+ flow['StartAt'] )\n",
    "    # if f_states[0]==flow['StartAt']:\n",
    "    #     print('First State ok.')\n",
    "    # else:\n",
    "    #     print('Revise First State.')\n",
    "    for st in f_states:\n",
    "        print('------------------')\n",
    "        if flow['States'][st]['Type']=='Action':\n",
    "            if 'funcx' in flow['States'][st]['ActionUrl']:\n",
    "                st_type = 'FuncX Action'\n",
    "                st_endpoint = flow['States'][st]['Parameters']['tasks'][0]['endpoint.$']\n",
    "                st_func = flow['States'][st]['Parameters']['tasks'][0]['func.$']\n",
    "            else:\n",
    "                st_type = 'Random Action'\n",
    "        print('State : '+st)\n",
    "        print('Type : '+st_type)\n",
    "        print(st_endpoint.replace('$.input.',''))\n",
    "        print(st_func.replace('$.input.',''))\n",
    "        print()\n",
    "        \n",
    "        \n",
    "#######\n",
    "test_flow = XPCS_Qmap_Client.flow_definition\n",
    "test_config = XPCS_Qmap_Client.config\n",
    "\n",
    "map_flow(test_flow)\n"
   ]
  },
  {
   "cell_type": "code",
   "execution_count": 52,
   "metadata": {},
   "outputs": [
    {
     "output_type": "error",
     "ename": "NameError",
     "evalue": "name 'self' is not defined",
     "traceback": [
      "\u001b[1;31m---------------------------------------------------------------------------\u001b[0m",
      "\u001b[1;31mNameError\u001b[0m                                 Traceback (most recent call last)",
      "\u001b[1;32m<ipython-input-52-e1b02a72d82e>\u001b[0m in \u001b[0;36m<module>\u001b[1;34m\u001b[0m\n\u001b[1;32m----> 1\u001b[1;33m \u001b[0mtest_config\u001b[0m\u001b[1;33m.\u001b[0m\u001b[0mread\u001b[0m\u001b[1;33m(\u001b[0m\u001b[0mself\u001b[0m\u001b[1;33m.\u001b[0m\u001b[0mfilename\u001b[0m\u001b[1;33m)\u001b[0m\u001b[1;33m\u001b[0m\u001b[1;33m\u001b[0m\u001b[0m\n\u001b[0m",
      "\u001b[1;31mNameError\u001b[0m: name 'self' is not defined"
     ]
    }
   ],
   "source": [
    "test_config.read()"
   ]
  },
  {
   "cell_type": "code",
   "execution_count": null,
   "metadata": {},
   "outputs": [],
   "source": []
  }
 ],
 "metadata": {
  "kernelspec": {
   "name": "funcx",
   "display_name": "FuncX",
   "language": "python"
  },
  "language_info": {
   "codemirror_mode": {
    "name": "ipython",
    "version": 3
   },
   "file_extension": ".py",
   "mimetype": "text/x-python",
   "name": "python",
   "nbconvert_exporter": "python",
   "pygments_lexer": "ipython3",
   "version": "3.8.5-final"
  }
 },
 "nbformat": 4,
 "nbformat_minor": 4
}