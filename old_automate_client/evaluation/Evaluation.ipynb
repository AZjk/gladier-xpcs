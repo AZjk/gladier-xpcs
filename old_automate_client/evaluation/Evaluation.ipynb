{
 "cells": [
  {
   "cell_type": "markdown",
   "metadata": {},
   "source": [
    "# Automate XPCS"
   ]
  },
  {
   "cell_type": "code",
   "execution_count": 1,
   "metadata": {},
   "outputs": [],
   "source": [
    "from globus_automate_client import (create_flows_client, graphviz_format, state_colors_for_log,\n",
    "                                    get_access_token_for_scope, create_action_client, \n",
    "                                    create_flows_client)\n",
    "from IPython.display import display, display_svg, clear_output\n",
    "from ipywidgets import widgets\n",
    "import time\n",
    "import json\n",
    "import sys\n",
    "import os\n",
    "\n",
    "from funcx.sdk.client import FuncXClient\n",
    "\n",
    "\n",
    "import pandas as pd\n",
    "\n",
    "import matplotlib\n",
    "import numpy as np\n",
    "import matplotlib.pyplot as plt\n",
    "%matplotlib inline  \n",
    "\n",
    "\n",
    "sys.path.append(\".\")\n",
    "os.environ['JUPYTER_PATH'] = '.'\n",
    "CLIENT_ID = \"e6c75d97-532a-4c88-b031-8584a319fa3e\""
   ]
  },
  {
   "cell_type": "code",
   "execution_count": 2,
   "metadata": {},
   "outputs": [],
   "source": [
    "# Set up a database to record experiments\n",
    "import sqlite3\n",
    "conn = sqlite3.connect('xpcs_exp.db')\n",
    "cur = conn.cursor()\n",
    "\n",
    "\n",
    "cur.execute('''CREATE TABLE if not exists configs\n",
    "             (id INTEGER PRIMARY KEY AUTOINCREMENT, flow_id text, flow_scope, fx_corr, fx_plot, fx_pilot, login_ep, theta_ep, tag) ''')\n",
    "\n",
    "cur.execute('''CREATE TABLE if not exists experiments\n",
    "             (id INTEGER PRIMARY KEY AUTOINCREMENT, config integer, action_id text, start DATETIME, end DATETIME, tag) ''')\n",
    "conn.commit()"
   ]
  },
  {
   "cell_type": "markdown",
   "metadata": {},
   "source": [
    "## funcX\n",
    "\n",
    "Deine the analysis and plotting functions used in the flow."
   ]
  },
  {
   "cell_type": "code",
   "execution_count": 3,
   "metadata": {},
   "outputs": [],
   "source": [
    "fxc = FuncXClient()"
   ]
  },
  {
   "cell_type": "code",
   "execution_count": 4,
   "metadata": {},
   "outputs": [],
   "source": [
    "login_ep = '6c4323f4-a062-4551-a883-146a352a43f5'\n",
    "theta_ep = '9f84f41e-dfb6-4633-97be-b46901e9384c'\n",
    "theta_30_ep = 'ab9abc3e-9595-4eae-99f3-fac5c7f6282e'\n",
    "# local_ep = '4a308ac0-1b73-4196-8a7d-792427901f0f'"
   ]
  },
  {
   "cell_type": "code",
   "execution_count": 5,
   "metadata": {},
   "outputs": [
    {
     "name": "stdout",
     "output_type": "stream",
     "text": [
      "8540f6fc-f766-4fc0-9547-dc6e6d1dd7f0\n"
     ]
    }
   ],
   "source": [
    "def alcf_xpcs_corr(event):\n",
    "    import time\n",
    "    import json\n",
    "    import subprocess\n",
    "    from subprocess import PIPE\n",
    "    \n",
    "    print(\"Starting XPCS Corr\")\n",
    "    \n",
    "    hdf_file = event['data']['hdf']\n",
    "    imm_file = event['data']['imm']\n",
    "    \n",
    "    flags = \"\"\n",
    "    if \"flags\" in event['data']:\n",
    "        flags = event['data']\n",
    "    \n",
    "    cmd = f\"/soft/datascience/xpcs_eigen/build/corr {hdf_file} -imm {imm_file} {flags}\"\n",
    "    cmd = cmd.strip().split(\" \")\n",
    "    \n",
    "    res = subprocess.run(cmd, stdout=PIPE, stderr=PIPE)\n",
    "    print(res.stdout)\n",
    "    print(res.stderr)\n",
    "    return str(res.stdout)\n",
    "\n",
    "alcf_xpcs_corr_func_uuid = fxc.register_function(alcf_xpcs_corr, description=\"An XPCS corr function.\")\n",
    "print(alcf_xpcs_corr_func_uuid)"
   ]
  },
  {
   "cell_type": "code",
   "execution_count": 6,
   "metadata": {},
   "outputs": [
    {
     "name": "stdout",
     "output_type": "stream",
     "text": [
      "e6af6111-ad3f-404e-a68c-229496075681\n"
     ]
    }
   ],
   "source": [
    "def plot_xpcs(event):\n",
    "    import os\n",
    "    import time\n",
    "    import json\n",
    "    import shutil\n",
    "    import pickle\n",
    "    import subprocess\n",
    "    from subprocess import PIPE\n",
    "    \n",
    "    hdf_file = event['data']['hdf']\n",
    "    hdf_file_name = hdf_file.split(\"/\")[-1]\n",
    "    exp_name = \".\".join(hdf_file.split(\"/\")[-1].split(\".\")[:-1])\n",
    "    \n",
    "    dir_name = \"/\".join(hdf_file.split('/')[:-1])\n",
    "\n",
    "    os.chdir(dir_name)\n",
    "    \n",
    "    python = '/home/rchard/.conda/envs/funcx-theta/bin/python'\n",
    "    xpcs_plot = '/home/rchard/APSDataAnalysis/tools/pilot1-tools/scripts/xpcs_plots.py'\n",
    "    xpcs_meta = '/home/rchard/APSDataAnalysis/tools/pilot1-tools/scripts/xpcs_metadata.py'\n",
    "    xpcs_qc = '/home/rchard/APSDataAnalysis/tools/pilot1-tools/scripts/xpcs_qc.py'\n",
    "\n",
    "    cmd = f\"{python} {xpcs_plot} {hdf_file}\"\n",
    "    print(cmd)\n",
    "    cmd = cmd.split(\" \")\n",
    "    res = subprocess.run(cmd, stdout=PIPE, stderr=PIPE)\n",
    "    print(res.stdout)\n",
    "    \n",
    "    cmd = f\"{python} {xpcs_meta} gather {hdf_file}\"\n",
    "    print(cmd)\n",
    "    \n",
    "    my_env = os.environ.copy()\n",
    "    my_env[\"LC_ALL\"] = \"C.UTF-8\"\n",
    "    my_env[\"LANG\"] = \"C.UTF-8\"\n",
    "    \n",
    "    cmd = cmd.split(\" \")\n",
    "    res = subprocess.run(cmd, stdout=PIPE, stderr=PIPE, env=my_env)\n",
    "    print(res.stdout)\n",
    "    print(res.stderr) \n",
    "\n",
    "    return cmd\n",
    "    return 'done'\n",
    "\n",
    "plot_xpcs_func_uuid = fxc.register_function(plot_xpcs, description=\"An XPCS corr function.\")\n",
    "print(plot_xpcs_func_uuid)"
   ]
  },
  {
   "cell_type": "code",
   "execution_count": 7,
   "metadata": {},
   "outputs": [
    {
     "name": "stdout",
     "output_type": "stream",
     "text": [
      "c1314fac-7f59-40d6-8aa8-700df84d64b6\n"
     ]
    }
   ],
   "source": [
    "def alcf_xpcs_pilot(event):\n",
    "    import os\n",
    "    import time\n",
    "    import json\n",
    "    import subprocess\n",
    "    from subprocess import PIPE\n",
    "    \n",
    "    print(\"Starting XPCS Pilot\")\n",
    "    \n",
    "    meta_file = event['data']['metadata']\n",
    "    exp_dir = \"/\".join(event['data']['hdf'].split(\"/\")[:-2])\n",
    "    exp_name = event['data']['hdf'].split(\"/\")[-1].replace(\".hdf\", \"\")\n",
    "    os.chdir(exp_dir)\n",
    "    \n",
    "    pilot = '/home/rchard/.conda/envs/funcx-theta/bin/pilot'\n",
    "\n",
    "    cmd = f\"{pilot} upload -u -j {meta_file} {exp_name} /\"\n",
    "    print(cmd)\n",
    "\n",
    "    res = subprocess.run(cmd.split(\" \"), stdout=PIPE, stderr=PIPE,\n",
    "    env={'LC_ALL': 'C.UTF-8', 'LANG': 'C.UTF-8'})\n",
    "    \n",
    "    print(res.stdout)\n",
    "    return str(res.stdout)\n",
    "\n",
    "pilot_func_uuid = fxc.register_function(alcf_xpcs_pilot, description=\"An XPCS pilot function.\")\n",
    "print(pilot_func_uuid)"
   ]
  },
  {
   "cell_type": "markdown",
   "metadata": {},
   "source": [
    "# Evaluation\n",
    "\n",
    "Compare the performance of different flows, inputs, and compute resources."
   ]
  },
  {
   "cell_type": "markdown",
   "metadata": {},
   "source": [
    "## Flow 1: XPCS Corr"
   ]
  },
  {
   "cell_type": "code",
   "execution_count": 18,
   "metadata": {},
   "outputs": [],
   "source": [
    "# Run XPCS Corr and return the result. Doesn't plot or use Pilot.\n",
    "\n",
    "flow_definition = {\n",
    "  \"Comment\": \"Automate XPCS\",\n",
    "  \"StartAt\": \"Transfer1\",\n",
    "  \"States\": {\n",
    "    \"Transfer1\": {\n",
    "      \"Comment\": \"Initial Transfer from APS to ALCF\",\n",
    "      \"Type\": \"Action\",\n",
    "      \"ActionUrl\": \"https://actions.automate.globus.org/transfer/transfer\",\n",
    "      \"ActionScope\": \"https://auth.globus.org/scopes/actions.globus.org/transfer/transfer\",\n",
    "      \"InputPath\": \"$.Transfer1Input\",\n",
    "      \"ResultPath\": \"$.Transfer1Result\",\n",
    "      \"WaitTime\": 6000,\n",
    "      \"Next\": \"ExecCorr\"\n",
    "    },\n",
    "    \"ExecCorr\": {\n",
    "      \"Comment\": \"Use corr to process the data\",\n",
    "      \"Type\": \"Action\",\n",
    "      \"ActionUrl\": \"https://funcx.org/automate\",\n",
    "      \"ActionScope\": \"https://auth.globus.org/scopes/facd7ccc-c5f4-42aa-916b-a0e270e2c2a9/automate2\",\n",
    "      \"InputPath\": \"$.Exec1Input\",\n",
    "      \"ResultPath\": \"$.Exec1Result\",\n",
    "      \"WaitTime\": 12000,\n",
    "      \"Next\": \"Transfer2\"\n",
    "    },\n",
    "    \"Transfer2\": {\n",
    "      \"Comment\": \"Initial Transfer from APS to ALCF\",\n",
    "      \"Type\": \"Action\",\n",
    "      \"ActionUrl\": \"https://actions.automate.globus.org/transfer/transfer\",\n",
    "      \"ActionScope\": \"https://auth.globus.org/scopes/actions.globus.org/transfer/transfer\",\n",
    "      \"InputPath\": \"$.Transfer2Input\",\n",
    "      \"ResultPath\": \"$.Transfer2Result\",\n",
    "      \"WaitTime\": 6000,\n",
    "      \"End\": True\n",
    "    }\n",
    "  }\n",
    "}"
   ]
  },
  {
   "cell_type": "code",
   "execution_count": 19,
   "metadata": {
    "scrolled": true
   },
   "outputs": [
    {
     "name": "stdout",
     "output_type": "stream",
     "text": [
      "GlobusHTTPResponse({'administered_by': [], 'api_version': '1.0', 'definition': {'Comment': 'Automate XPCS', 'StartAt': 'Transfer1', 'States': {'ExecCorr': {'ActionScope': 'https://auth.globus.org/scopes/facd7ccc-c5f4-42aa-916b-a0e270e2c2a9/automate2', 'ActionUrl': 'https://funcx.org/automate', 'Comment': 'Use corr to process the data', 'InputPath': '$.Exec1Input', 'Next': 'Transfer2', 'ResultPath': '$.Exec1Result', 'Type': 'Action', 'WaitTime': 12000}, 'Transfer1': {'ActionScope': 'https://auth.globus.org/scopes/actions.globus.org/transfer/transfer', 'ActionUrl': 'https://actions.automate.globus.org/transfer/transfer', 'Comment': 'Initial Transfer from APS to ALCF', 'InputPath': '$.Transfer1Input', 'Next': 'ExecCorr', 'ResultPath': '$.Transfer1Result', 'Type': 'Action', 'WaitTime': 6000}, 'Transfer2': {'ActionScope': 'https://auth.globus.org/scopes/actions.globus.org/transfer/transfer', 'ActionUrl': 'https://actions.automate.globus.org/transfer/transfer', 'Comment': 'Initial Transfer from APS to ALCF', 'End': True, 'InputPath': '$.Transfer2Input', 'ResultPath': '$.Transfer2Result', 'Type': 'Action', 'WaitTime': 6000}}}, 'description': '', 'globus_auth_scope': 'https://auth.globus.org/scopes/0175c296-8d6f-4d0d-b4e7-27f11b4eace6/flow_0175c296_8d6f_4d0d_b4e7_27f11b4eace6', 'globus_auth_username': '0175c296-8d6f-4d0d-b4e7-27f11b4eace6@clients.auth.globus.org', 'id': '0175c296-8d6f-4d0d-b4e7-27f11b4eace6', 'keywords': [], 'log_supported': True, 'principal_urn': 'urn:globus:auth:identity:0175c296-8d6f-4d0d-b4e7-27f11b4eace6', 'runnable_by': [], 'subtitle': '', 'synchronous': False, 'title': 'XPCS', 'types': ['Action'], 'visible_to': []})\n",
      "GlobusHTTPResponse({'administered_by': [], 'api_version': '1.0', 'definition': {'Comment': 'Automate XPCS', 'StartAt': 'Transfer1', 'States': {'ExecCorr': {'ActionScope': 'https://auth.globus.org/scopes/facd7ccc-c5f4-42aa-916b-a0e270e2c2a9/automate2', 'ActionUrl': 'https://funcx.org/automate', 'Comment': 'Use corr to process the data', 'InputPath': '$.Exec1Input', 'Next': 'Transfer2', 'ResultPath': '$.Exec1Result', 'Type': 'Action', 'WaitTime': 12000}, 'Transfer1': {'ActionScope': 'https://auth.globus.org/scopes/actions.globus.org/transfer/transfer', 'ActionUrl': 'https://actions.automate.globus.org/transfer/transfer', 'Comment': 'Initial Transfer from APS to ALCF', 'InputPath': '$.Transfer1Input', 'Next': 'ExecCorr', 'ResultPath': '$.Transfer1Result', 'Type': 'Action', 'WaitTime': 6000}, 'Transfer2': {'ActionScope': 'https://auth.globus.org/scopes/actions.globus.org/transfer/transfer', 'ActionUrl': 'https://actions.automate.globus.org/transfer/transfer', 'Comment': 'Initial Transfer from APS to ALCF', 'End': True, 'InputPath': '$.Transfer2Input', 'ResultPath': '$.Transfer2Result', 'Type': 'Action', 'WaitTime': 6000}}}, 'description': '', 'globus_auth_scope': 'https://auth.globus.org/scopes/0175c296-8d6f-4d0d-b4e7-27f11b4eace6/flow_0175c296_8d6f_4d0d_b4e7_27f11b4eace6', 'globus_auth_username': '0175c296-8d6f-4d0d-b4e7-27f11b4eace6@clients.auth.globus.org', 'id': '0175c296-8d6f-4d0d-b4e7-27f11b4eace6', 'keywords': [], 'log_supported': True, 'principal_urn': 'urn:globus:auth:identity:0175c296-8d6f-4d0d-b4e7-27f11b4eace6', 'runnable_by': [], 'subtitle': '', 'synchronous': False, 'title': 'XPCS', 'types': ['Action'], 'visible_to': []})\n",
      "Newly created flow with id:\n",
      "0175c296-8d6f-4d0d-b4e7-27f11b4eace6\n",
      "and scope:\n",
      "https://auth.globus.org/scopes/0175c296-8d6f-4d0d-b4e7-27f11b4eace6/flow_0175c296_8d6f_4d0d_b4e7_27f11b4eace6\n"
     ]
    }
   ],
   "source": [
    "flows_client = create_flows_client(CLIENT_ID)\n",
    "flow = flows_client.deploy_flow(flow_definition, title=\"XPCS\")\n",
    "from pprint import pprint\n",
    "pprint(flow)\n",
    "flow_id = flow.data['id']\n",
    "print(flow)\n",
    "flow_scope = flow['globus_auth_scope']\n",
    "print(f'Newly created flow with id:\\n{flow_id}\\nand scope:\\n{flow_scope}')"
   ]
  },
  {
   "cell_type": "markdown",
   "metadata": {},
   "source": [
    "Store things in the database to track this experiment"
   ]
  },
  {
   "cell_type": "code",
   "execution_count": 20,
   "metadata": {},
   "outputs": [
    {
     "name": "stdout",
     "output_type": "stream",
     "text": [
      "0175c296-8d6f-4d0d-b4e7-27f11b4eace6\n",
      "https://auth.globus.org/scopes/0175c296-8d6f-4d0d-b4e7-27f11b4eace6/flow_0175c296_8d6f_4d0d_b4e7_27f11b4eace6\n",
      "8540f6fc-f766-4fc0-9547-dc6e6d1dd7f0\n",
      "e6af6111-ad3f-404e-a68c-229496075681\n",
      "c1314fac-7f59-40d6-8aa8-700df84d64b6\n",
      "3\n"
     ]
    }
   ],
   "source": [
    "# Store this config as an experiment definition so we can track what was used.\n",
    "\n",
    "print(flow_id)\n",
    "print(flow_scope)\n",
    "print(alcf_xpcs_corr_func_uuid)\n",
    "print(plot_xpcs_func_uuid)\n",
    "print(pilot_func_uuid)\n",
    "\n",
    "tag = 'test'\n",
    "\n",
    "cmd = f\"insert into configs (flow_id, flow_scope, fx_corr, fx_plot, fx_pilot, login_ep, theta_ep, tag) \" \\\n",
    "      f\"values ('{flow_id}', '{flow_scope}', '{alcf_xpcs_corr_func_uuid}', '{plot_xpcs_func_uuid}', '{pilot_func_uuid}', '{login_ep}', '{theta_ep}', '{tag}');\"\n",
    "\n",
    "cur.execute(cmd)\n",
    "conn.commit()\n",
    "config_id = cur.lastrowid\n",
    "print(config_id)"
   ]
  },
  {
   "cell_type": "code",
   "execution_count": 21,
   "metadata": {},
   "outputs": [
    {
     "data": {
      "image/svg+xml": [
       "<?xml version=\"1.0\" encoding=\"UTF-8\" standalone=\"no\"?>\n",
       "<!DOCTYPE svg PUBLIC \"-//W3C//DTD SVG 1.1//EN\"\n",
       " \"http://www.w3.org/Graphics/SVG/1.1/DTD/svg11.dtd\">\n",
       "<!-- Generated by graphviz version 2.40.1 (20161225.0304)\n",
       " -->\n",
       "<!-- Title: %3 Pages: 1 -->\n",
       "<svg width=\"176pt\" height=\"194pt\"\n",
       " viewBox=\"0.00 0.00 176.00 194.00\" xmlns=\"http://www.w3.org/2000/svg\" xmlns:xlink=\"http://www.w3.org/1999/xlink\">\n",
       "<g id=\"graph0\" class=\"graph\" transform=\"scale(1 1) rotate(0) translate(4 190)\">\n",
       "<title>%3</title>\n",
       "<polygon fill=\"#ffffff\" stroke=\"transparent\" points=\"-4,4 -4,-190 172,-190 172,4 -4,4\"/>\n",
       "<!-- ExecCorr -->\n",
       "<g id=\"node1\" class=\"node\">\n",
       "<title>ExecCorr</title>\n",
       "<polygon fill=\"none\" stroke=\"#000000\" points=\"158.5,-112 9.5,-112 9.5,-74 158.5,-74 158.5,-112\"/>\n",
       "<text text-anchor=\"start\" x=\"58\" y=\"-96.8\" font-family=\"Times,serif\" font-size=\"14.00\" fill=\"#000000\">ExecCorr</text>\n",
       "<text text-anchor=\"start\" x=\"17.5\" y=\"-81.8\" font-family=\"Times,serif\" font-size=\"14.00\" fill=\"#000000\">InputPath: $.Exec1Input</text>\n",
       "</g>\n",
       "<!-- Transfer2 -->\n",
       "<g id=\"node2\" class=\"node\">\n",
       "<title>Transfer2</title>\n",
       "<polygon fill=\"none\" stroke=\"#000000\" points=\"168,-38 0,-38 0,0 168,0 168,-38\"/>\n",
       "<text text-anchor=\"start\" x=\"57.5\" y=\"-22.8\" font-family=\"Times,serif\" font-size=\"14.00\" fill=\"#000000\">Transfer2</text>\n",
       "<text text-anchor=\"start\" x=\"8\" y=\"-7.8\" font-family=\"Times,serif\" font-size=\"14.00\" fill=\"#000000\">InputPath: $.Transfer2Input</text>\n",
       "</g>\n",
       "<!-- ExecCorr&#45;&gt;Transfer2 -->\n",
       "<g id=\"edge1\" class=\"edge\">\n",
       "<title>ExecCorr&#45;&gt;Transfer2</title>\n",
       "<path fill=\"none\" stroke=\"#000000\" d=\"M84,-73.9432C84,-66.1493 84,-56.9538 84,-48.3381\"/>\n",
       "<polygon fill=\"#000000\" stroke=\"#000000\" points=\"87.5001,-48.2494 84,-38.2495 80.5001,-48.2495 87.5001,-48.2494\"/>\n",
       "</g>\n",
       "<!-- Transfer1 -->\n",
       "<g id=\"node3\" class=\"node\">\n",
       "<title>Transfer1</title>\n",
       "<polygon fill=\"none\" stroke=\"#000000\" points=\"168,-186 0,-186 0,-148 168,-148 168,-186\"/>\n",
       "<text text-anchor=\"start\" x=\"57.5\" y=\"-170.8\" font-family=\"Times,serif\" font-size=\"14.00\" fill=\"#000000\">Transfer1</text>\n",
       "<text text-anchor=\"start\" x=\"8\" y=\"-155.8\" font-family=\"Times,serif\" font-size=\"14.00\" fill=\"#000000\">InputPath: $.Transfer1Input</text>\n",
       "</g>\n",
       "<!-- Transfer1&#45;&gt;ExecCorr -->\n",
       "<g id=\"edge2\" class=\"edge\">\n",
       "<title>Transfer1&#45;&gt;ExecCorr</title>\n",
       "<path fill=\"none\" stroke=\"#000000\" d=\"M84,-147.9432C84,-140.1493 84,-130.9538 84,-122.3381\"/>\n",
       "<polygon fill=\"#000000\" stroke=\"#000000\" points=\"87.5001,-122.2494 84,-112.2495 80.5001,-122.2495 87.5001,-122.2494\"/>\n",
       "</g>\n",
       "</g>\n",
       "</svg>\n"
      ],
      "text/plain": [
       "<graphviz.dot.Digraph at 0x7f8232fbd5f8>"
      ]
     },
     "metadata": {},
     "output_type": "display_data"
    }
   ],
   "source": [
    "get_resp = flows_client.get_flow(flow_id)\n",
    "flow_def = get_resp.data['definition']\n",
    "flow_graph = graphviz_format(flow_def)\n",
    "display(flow_graph)"
   ]
  },
  {
   "cell_type": "markdown",
   "metadata": {},
   "source": [
    "Define a function to serialize inputs for funcX"
   ]
  },
  {
   "cell_type": "code",
   "execution_count": 22,
   "metadata": {},
   "outputs": [],
   "source": [
    "def serialize_fx_inputs(*args, **kwargs):\n",
    "    from funcx.serialize import FuncXSerializer\n",
    "    fx_serializer = FuncXSerializer()\n",
    "    ser_args = fx_serializer.serialize(args)\n",
    "    ser_kwargs = fx_serializer.serialize(kwargs)\n",
    "    payload = fx_serializer.pack_buffers([ser_args, ser_kwargs])\n",
    "    return payload"
   ]
  },
  {
   "cell_type": "code",
   "execution_count": 23,
   "metadata": {},
   "outputs": [],
   "source": [
    "event = {\"data\": {\n",
    "         \"hdf\": \"/projects/APSDataAnalysis/Automate/test/test.hdf\",\n",
    "         \"imm\": \"/projects/APSDataAnalysis/Automate/test/test.imm\",\n",
    "#          \"flags\": \"--rigaku\",     \n",
    "         \"metadata\": \"/projects/APSDataAnalysis/Automate/test/test.json\"      \n",
    "     }}\n",
    "funcx_payload = serialize_fx_inputs(event=event)\n",
    "# print(funcx_payload)"
   ]
  },
  {
   "cell_type": "code",
   "execution_count": 24,
   "metadata": {},
   "outputs": [],
   "source": [
    "# A real dataset from Suresh\n",
    "\n",
    "# \"Transfer1Input\": {\n",
    "#       \"source_endpoint_id\": \"fdc7e74a-fa78-11e8-9342-0e3d676669f4\",\n",
    "#       \"destination_endpoint_id\": \"08925f04-569f-11e7-bef8-22000b9a448b\",\n",
    "#       \"transfer_items\": [\n",
    "#         {\n",
    "#           \"source_path\": \"/data/xpcs8/2019-3/sanat201911/cluster_results/A011_MJ_PMA_47g29kDa_att2_140C_Lq0_001_0002-0768.hdf\",\n",
    "#           \"destination_path\": \"/projects/APSDataAnalysis/Automate/A011_MJ_PMA_47g29kDa_att2_140C_Lq0_001_0002-0768/A011_MJ_PMA_47g29kDa_att2_140C_Lq0_001_0002-0768.hdf\",\n",
    "#           \"recursive\": false\n",
    "#         },\n",
    "#         {\n",
    "#           \"source_path\": \"/data/xpcs8/2019-3/sanat201911/A011_MJ_PMA_47g29kDa_att2_140C_Lq0_001/A011_MJ_PMA_47g29kDa_att2_140C_Lq0_001_00001-00768.imm\",\n",
    "#           \"destination_path\": \"/projects/APSDataAnalysis/Automate/A011_MJ_PMA_47g29kDa_att2_140C_Lq0_001_0002-0768/A011_MJ_PMA_47g29kDa_att2_140C_Lq0_001_00001-00768.imm\",\n",
    "#           \"recursive\": false\n",
    "#         }\n",
    "#       ]\n",
    "#     },\n",
    "#     \"Exec1Input\": {\n",
    "#       \"endpoint\": \"9f84f41e-dfb6-4633-97be-b46901e9384c\",\n",
    "#       \"func\": \"9460c8b8-0d72-483a-9fa4-2a3c39d762b1\",\n",
    "#       \"payload\": \"12\\n01\\ngAMpLg==\\n688\\n01\\ngAN9cQBYBQAAAGV2ZW50cQF9cQJYBAAAAGRhdGFxA31xBChYAwAAAGhkZnEFWIgAAAAvcHJvamVj\\ndHMvQVBTRGF0YUFuYWx5c2lzL0F1dG9tYXRlL0EwMTFfTUpfUE1BXzQ3ZzI5a0RhX2F0dDJfMTQw\\nQ19McTBfMDAxXzAwMDItMDc2OC9BMDExX01KX1BNQV80N2cyOWtEYV9hdHQyXzE0MENfTHEwXzAw\\nMV8wMDAyLTA3NjguaGRmcQZYAwAAAGltbXEHWIoAAAAvcHJvamVjdHMvQVBTRGF0YUFuYWx5c2lz\\nL0F1dG9tYXRlL0EwMTFfTUpfUE1BXzQ3ZzI5a0RhX2F0dDJfMTQwQ19McTBfMDAxXzAwMDItMDc2\\nOC9BMDExX01KX1BNQV80N2cyOWtEYV9hdHQyXzE0MENfTHEwXzAwMV8wMDAwMS0wMDc2OC5pbW1x\\nCFgIAAAAbWV0YWRhdGFxCViJAAAAL3Byb2plY3RzL0FQU0RhdGFBbmFseXNpcy9BdXRvbWF0ZS9B\\nMDExX01KX1BNQV80N2cyOWtEYV9hdHQyXzE0MENfTHEwXzAwMV8wMDAyLTA3NjgvQTAxMV9NSl9Q\\nTUFfNDdnMjlrRGFfYXR0Ml8xNDBDX0xxMF8wMDFfMDAwMi0wNzY4Lmpzb25xCnVzcy4=\\n\"\n",
    "#     },\n",
    "#     \"Exec2Input\": {\n",
    "#       \"endpoint\": \"9f84f41e-dfb6-4633-97be-b46901e9384c\",\n",
    "#       \"func\": \"7bf3891a-a23d-40dc-a218-236964cf3963\",\n",
    "#       \"payload\": \"12\\n01\\ngAMpLg==\\n688\\n01\\ngAN9cQBYBQAAAGV2ZW50cQF9cQJYBAAAAGRhdGFxA31xBChYAwAAAGhkZnEFWIgAAAAvcHJvamVj\\ndHMvQVBTRGF0YUFuYWx5c2lzL0F1dG9tYXRlL0EwMTFfTUpfUE1BXzQ3ZzI5a0RhX2F0dDJfMTQw\\nQ19McTBfMDAxXzAwMDItMDc2OC9BMDExX01KX1BNQV80N2cyOWtEYV9hdHQyXzE0MENfTHEwXzAw\\nMV8wMDAyLTA3NjguaGRmcQZYAwAAAGltbXEHWIoAAAAvcHJvamVjdHMvQVBTRGF0YUFuYWx5c2lz\\nL0F1dG9tYXRlL0EwMTFfTUpfUE1BXzQ3ZzI5a0RhX2F0dDJfMTQwQ19McTBfMDAxXzAwMDItMDc2\\nOC9BMDExX01KX1BNQV80N2cyOWtEYV9hdHQyXzE0MENfTHEwXzAwMV8wMDAwMS0wMDc2OC5pbW1x\\nCFgIAAAAbWV0YWRhdGFxCViJAAAAL3Byb2plY3RzL0FQU0RhdGFBbmFseXNpcy9BdXRvbWF0ZS9B\\nMDExX01KX1BNQV80N2cyOWtEYV9hdHQyXzE0MENfTHEwXzAwMV8wMDAyLTA3NjgvQTAxMV9NSl9Q\\nTUFfNDdnMjlrRGFfYXR0Ml8xNDBDX0xxMF8wMDFfMDAwMi0wNzY4Lmpzb25xCnVzcy4=\\n\"\n",
    "#     },\n",
    "#     \"Exec3Input\": {\n",
    "#       \"endpoint\": \"6c4323f4-a062-4551-a883-146a352a43f5\",\n",
    "#       \"func\": \"a0c5efbc-a73c-464f-b80b-353f14cdf3dc\",\n",
    "#       \"payload\": \"12\\n01\\ngAMpLg==\\n688\\n01\\ngAN9cQBYBQAAAGV2ZW50cQF9cQJYBAAAAGRhdGFxA31xBChYAwAAAGhkZnEFWIgAAAAvcHJvamVj\\ndHMvQVBTRGF0YUFuYWx5c2lzL0F1dG9tYXRlL0EwMTFfTUpfUE1BXzQ3ZzI5a0RhX2F0dDJfMTQw\\nQ19McTBfMDAxXzAwMDItMDc2OC9BMDExX01KX1BNQV80N2cyOWtEYV9hdHQyXzE0MENfTHEwXzAw\\nMV8wMDAyLTA3NjguaGRmcQZYAwAAAGltbXEHWIoAAAAvcHJvamVjdHMvQVBTRGF0YUFuYWx5c2lz\\nL0F1dG9tYXRlL0EwMTFfTUpfUE1BXzQ3ZzI5a0RhX2F0dDJfMTQwQ19McTBfMDAxXzAwMDItMDc2\\nOC9BMDExX01KX1BNQV80N2cyOWtEYV9hdHQyXzE0MENfTHEwXzAwMV8wMDAwMS0wMDc2OC5pbW1x\\nCFgIAAAAbWV0YWRhdGFxCViJAAAAL3Byb2plY3RzL0FQU0RhdGFBbmFseXNpcy9BdXRvbWF0ZS9B\\nMDExX01KX1BNQV80N2cyOWtEYV9hdHQyXzE0MENfTHEwXzAwMV8wMDAyLTA3NjgvQTAxMV9NSl9Q\\nTUFfNDdnMjlrRGFfYXR0Ml8xNDBDX0xxMF8wMDFfMDAwMi0wNzY4Lmpzb25xCnVzcy4=\\n\"\n",
    "#     },\n",
    "#     \"Transfer2Input\": {\n",
    "#       \"source_endpoint_id\": \"08925f04-569f-11e7-bef8-22000b9a448b\",\n",
    "#       \"destination_endpoint_id\": \"fdc7e74a-fa78-11e8-9342-0e3d676669f4\",\n",
    "#       \"transfer_items\": [\n",
    "#         {\n",
    "#           \"source_path\": \"/projects/APSDataAnalysis/Automate/A011_MJ_PMA_47g29kDa_att2_140C_Lq0_001_0002-0768/A011_MJ_PMA_47g29kDa_att2_140C_Lq0_001_0002-0768.hdf\",\n",
    "#           \"destination_path\": \"/data/xpcs8/2019-3/sanat201911/ALCF_results/A011_MJ_PMA_47g29kDa_att2_140C_Lq0_001_0002-0768.hdf\",\n",
    "#           \"recursive\": false\n",
    "#         }\n",
    "#       ]\n",
    "#     }\n",
    "#   },"
   ]
  },
  {
   "cell_type": "code",
   "execution_count": 25,
   "metadata": {},
   "outputs": [],
   "source": [
    "flow_input = {\n",
    "  \"Transfer1Input\": {\n",
    "    \"source_endpoint_id\": \"fdc7e74a-fa78-11e8-9342-0e3d676669f4\",\n",
    "    \"destination_endpoint_id\": \"08925f04-569f-11e7-bef8-22000b9a448b\",\n",
    "    \"transfer_items\": [\n",
    "      {\n",
    "        \"source_path\": \"/data/xpcs8/2019-3/sanat201911/cluster_results/A008_MJ_PMA_47g80kDa_att2_180C_Lq0_004_0002-0400.hdf\",\n",
    "        \"destination_path\": event['data']['hdf'],\n",
    "        \"recursive\": False\n",
    "      },\n",
    "      {\n",
    "        \"source_path\": \"/data/xpcs8/2019-3/sanat201911/A008_MJ_PMA_47g80kDa_att2_180C_Lq0_004/A008_MJ_PMA_47g80kDa_att2_180C_Lq0_004_00001-00400.imm\",\n",
    "        \"destination_path\": event['data']['imm'],\n",
    "        \"recursive\": False\n",
    "      }\n",
    "    ]\n",
    "  },\n",
    "  \"Exec1Input\": {\n",
    "    \"endpoint\":theta_30_ep,\n",
    "     \"func\":alcf_xpcs_corr_func_uuid,\n",
    "     \"payload\": funcx_payload\n",
    "  },\n",
    "  \"Exec2Input\": {\n",
    "    \"endpoint\":theta_ep,\n",
    "     \"func\":plot_xpcs_func_uuid,\n",
    "     \"payload\": funcx_payload\n",
    "  },\n",
    "  \"Exec3Input\": {\n",
    "      \"endpoint\": login_ep,\n",
    "      \"func\": pilot_func_uuid,\n",
    "      \"payload\": funcx_payload\n",
    "  },\n",
    "    \"Transfer2Input\": {\n",
    "      \"source_endpoint_id\": \"08925f04-569f-11e7-bef8-22000b9a448b\",\n",
    "      \"destination_endpoint_id\": \"fdc7e74a-fa78-11e8-9342-0e3d676669f4\",\n",
    "      \"transfer_items\": [\n",
    "        {\n",
    "          \"source_path\": event['data']['hdf'],\n",
    "          \"destination_path\": \"/data/xpcs8/2019-1/comm201901/ALCF_results/test.hdf\",\n",
    "          \"recursive\": False\n",
    "        }\n",
    "      ]\n",
    "    }\n",
    "}\n"
   ]
  },
  {
   "cell_type": "code",
   "execution_count": 26,
   "metadata": {},
   "outputs": [
    {
     "name": "stdout",
     "output_type": "stream",
     "text": [
      "Login Here:\n",
      "\n",
      "https://auth.globus.org/v2/oauth2/authorize?client_id=e6c75d97-532a-4c88-b031-8584a319fa3e&redirect_uri=https%3A%2F%2Fauth.globus.org%2Fv2%2Fweb%2Fauth-code&scope=https%3A%2F%2Fauth.globus.org%2Fscopes%2F0175c296-8d6f-4d0d-b4e7-27f11b4eace6%2Fflow_0175c296_8d6f_4d0d_b4e7_27f11b4eace6&state=_default&response_type=code&code_challenge=iMY7myvGJuQt2VNULBpVabpEkIwuHlMaIJdTb1QV0Uo&code_challenge_method=S256&access_type=offline&prefill_named_grant=Globus+Automate+Client\n",
      "\n",
      "\n",
      "Note that this link can only be used once! If login or a later step in the flow fails, you must restart it.\n",
      "Enter resulting code:2Lshnl1hhkTdnr2jDgUuwmcdzKHjsA\n",
      "GlobusHTTPResponse({'action_id': 'c1e757b0-fcbd-4fc8-86d0-70a417d26b75', 'completion_time': 'None', 'created_by': 'urn:globus:auth:identity:c4765424-d274-11e5-b894-cb4139f74ecf', 'details': {'code': 'ActionStarted', 'description': 'State Transfer1 of type Action started', 'details': {'input': {'Exec1Input': {'endpoint': 'ab9abc3e-9595-4eae-99f3-fac5c7f6282e', 'func': '8540f6fc-f766-4fc0-9547-dc6e6d1dd7f0', 'payload': '12\\n01\\ngAMpLg==\\n328\\n01\\ngAN9cQBYBQAAAGV2ZW50cQF9cQJYBAAAAGRhdGFxA31xBChYAwAAAGhkZnEFWDAAAAAvcHJvamVj\\ndHMvQVBTRGF0YUFuYWx5c2lzL0F1dG9tYXRlL3Rlc3QvdGVzdC5oZGZxBlgDAAAAaW1tcQdYMAAA\\nAC9wcm9qZWN0cy9BUFNEYXRhQW5hbHlzaXMvQXV0b21hdGUvdGVzdC90ZXN0LmltbXEIWAgAAABt\\nZXRhZGF0YXEJWDEAAAAvcHJvamVjdHMvQVBTRGF0YUFuYWx5c2lzL0F1dG9tYXRlL3Rlc3QvdGVz\\ndC5qc29ucQp1c3Mu\\n'}, 'Exec2Input': {'endpoint': '9f84f41e-dfb6-4633-97be-b46901e9384c', 'func': 'e6af6111-ad3f-404e-a68c-229496075681', 'payload': '12\\n01\\ngAMpLg==\\n328\\n01\\ngAN9cQBYBQAAAGV2ZW50cQF9cQJYBAAAAGRhdGFxA31xBChYAwAAAGhkZnEFWDAAAAAvcHJvamVj\\ndHMvQVBTRGF0YUFuYWx5c2lzL0F1dG9tYXRlL3Rlc3QvdGVzdC5oZGZxBlgDAAAAaW1tcQdYMAAA\\nAC9wcm9qZWN0cy9BUFNEYXRhQW5hbHlzaXMvQXV0b21hdGUvdGVzdC90ZXN0LmltbXEIWAgAAABt\\nZXRhZGF0YXEJWDEAAAAvcHJvamVjdHMvQVBTRGF0YUFuYWx5c2lzL0F1dG9tYXRlL3Rlc3QvdGVz\\ndC5qc29ucQp1c3Mu\\n'}, 'Exec3Input': {'endpoint': '6c4323f4-a062-4551-a883-146a352a43f5', 'func': 'c1314fac-7f59-40d6-8aa8-700df84d64b6', 'payload': '12\\n01\\ngAMpLg==\\n328\\n01\\ngAN9cQBYBQAAAGV2ZW50cQF9cQJYBAAAAGRhdGFxA31xBChYAwAAAGhkZnEFWDAAAAAvcHJvamVj\\ndHMvQVBTRGF0YUFuYWx5c2lzL0F1dG9tYXRlL3Rlc3QvdGVzdC5oZGZxBlgDAAAAaW1tcQdYMAAA\\nAC9wcm9qZWN0cy9BUFNEYXRhQW5hbHlzaXMvQXV0b21hdGUvdGVzdC90ZXN0LmltbXEIWAgAAABt\\nZXRhZGF0YXEJWDEAAAAvcHJvamVjdHMvQVBTRGF0YUFuYWx5c2lzL0F1dG9tYXRlL3Rlc3QvdGVz\\ndC5qc29ucQp1c3Mu\\n'}, 'Transfer1Input': {'destination_endpoint_id': '08925f04-569f-11e7-bef8-22000b9a448b', 'source_endpoint_id': 'fdc7e74a-fa78-11e8-9342-0e3d676669f4', 'transfer_items': [{'destination_path': '/projects/APSDataAnalysis/Automate/test/test.hdf', 'recursive': False, 'source_path': '/data/xpcs8/2019-3/sanat201911/cluster_results/A008_MJ_PMA_47g80kDa_att2_180C_Lq0_004_0002-0400.hdf'}, {'destination_path': '/projects/APSDataAnalysis/Automate/test/test.imm', 'recursive': False, 'source_path': '/data/xpcs8/2019-3/sanat201911/A008_MJ_PMA_47g80kDa_att2_180C_Lq0_004/A008_MJ_PMA_47g80kDa_att2_180C_Lq0_004_00001-00400.imm'}]}, 'Transfer2Input': {'destination_endpoint_id': 'fdc7e74a-fa78-11e8-9342-0e3d676669f4', 'source_endpoint_id': '08925f04-569f-11e7-bef8-22000b9a448b', 'transfer_items': [{'destination_path': '/data/xpcs8/2019-1/comm201901/ALCF_results/test.hdf', 'recursive': False, 'source_path': '/projects/APSDataAnalysis/Automate/test/test.hdf'}]}}, 'state_name': 'Transfer1', 'state_type': 'Action'}, 'time': '2020-02-14T21:46:57.921000+00:00'}, 'start_time': '2020-02-14T21:46:57.879000+00:00', 'status': 'ACTIVE'})\n",
      "Flow action started with id: c1e757b0-fcbd-4fc8-86d0-70a417d26b75\n",
      "Flow status: ACTIVE\n",
      "Flow status: ACTIVE\n",
      "Flow status: ACTIVE\n",
      "Flow status: ACTIVE\n",
      "Flow status: ACTIVE\n",
      "Flow status: ACTIVE\n",
      "Flow status: ACTIVE\n",
      "Flow status: ACTIVE\n",
      "Flow status: ACTIVE\n",
      "Flow status: ACTIVE\n",
      "Flow status: ACTIVE\n",
      "Flow status: ACTIVE\n",
      "Flow status: ACTIVE\n",
      "Flow status: ACTIVE\n",
      "Flow status: ACTIVE\n",
      "Flow status: ACTIVE\n",
      "Flow status: ACTIVE\n",
      "Flow status: ACTIVE\n",
      "Flow status: ACTIVE\n",
      "Flow status: ACTIVE\n",
      "Flow status: ACTIVE\n",
      "Flow status: ACTIVE\n",
      "Flow status: ACTIVE\n",
      "Flow status: ACTIVE\n",
      "Flow status: ACTIVE\n",
      "Flow status: ACTIVE\n",
      "Flow status: ACTIVE\n",
      "Flow status: SUCCEEDED\n"
     ]
    }
   ],
   "source": [
    "flow_action = flows_client.run_flow(flow_id, flow_scope, flow_input)\n",
    "print(flow_action)\n",
    "flow_action_id = flow_action['action_id']\n",
    "flow_status = flow_action['status']\n",
    "print(f'Flow action started with id: {flow_action_id}')\n",
    "while flow_status == 'ACTIVE':\n",
    "    time.sleep(10)\n",
    "    flow_action = flows_client.flow_action_status(flow_id, flow_scope, flow_action_id)\n",
    "    flow_status = flow_action['status']\n",
    "    print(f'Flow status: {flow_status}')"
   ]
  },
  {
   "cell_type": "code",
   "execution_count": 183,
   "metadata": {},
   "outputs": [
    {
     "data": {
      "text/plain": [
       "GlobusHTTPResponse({'action_id': '803e65b3-662f-487a-8be7-07555b7f9373', 'completion_time': '2020-01-22T00:30:46.070000+00:00', 'created_by': 'urn:globus:auth:identity:c4765424-d274-11e5-b894-cb4139f74ecf', 'details': {'output': {'Exec1Input': {'endpoint': 'ab9abc3e-9595-4eae-99f3-fac5c7f6282e', 'func': '9d63bf59-114b-4de4-92b6-b88c97898ec6', 'payload': '12\\n01\\ngAMpLg==\\n328\\n01\\ngAN9cQBYBQAAAGV2ZW50cQF9cQJYBAAAAGRhdGFxA31xBChYAwAAAGhkZnEFWDAAAAAvcHJvamVj\\ndHMvQVBTRGF0YUFuYWx5c2lzL0F1dG9tYXRlL3Rlc3QvdGVzdC5oZGZxBlgDAAAAaW1tcQdYMAAA\\nAC9wcm9qZWN0cy9BUFNEYXRhQW5hbHlzaXMvQXV0b21hdGUvdGVzdC90ZXN0LmltbXEIWAgAAABt\\nZXRhZGF0YXEJWDEAAAAvcHJvamVjdHMvQVBTRGF0YUFuYWx5c2lzL0F1dG9tYXRlL3Rlc3QvdGVz\\ndC5qc29ucQp1c3Mu\\n'}, 'Exec1Result': {'action_id': '6faf0e23-56e1-49c5-b286-aaa3cd08b02f', 'details': {'completion_t': 1579653033.2178738, 'result': '01\\ngANYBwMAAGInWzIwMjAtMDEtMjIgMDA6Mjk6MTYuMjQwXSBbY29uc29sZV0gW2luZm9dIEg1IG1l\\ndGFkYXRhIHBhdGggL3hwY3NcblsyMDIwLTAxLTIyIDAwOjI5OjE2LjYzM10gW2NvbnNvbGVdIFtp\\nbmZvXSBCdWlsZFFNYXAoKSB0b29rIDE5NCBtc1xuWzIwMjAtMDEtMjIgMDA6Mjk6MTYuNjM2XSBb\\nY29uc29sZV0gW2luZm9dIENvbmZpZ3VyYXRpb24gVG90YWwgdG9vayAzODAgbXNcblsyMDIwLTAx\\nLTIyIDAwOjI5OjE2LjYzNl0gW2NvbnNvbGVdIFtpbmZvXSBQcm9jZXNzaW5nIElNTSBmaWxlIGF0\\nIHBhdGggL3Byb2plY3RzL0FQU0RhdGFBbmFseXNpcy9BdXRvbWF0ZS90ZXN0L3Rlc3QuaW1tLi5c\\nblsyMDIwLTAxLTIyIDAwOjI5OjE2LjYzOF0gW2NvbnNvbGVdIFtpbmZvXSBGaWxlIHNpemUgMTc1\\nLjY2NCBNYnl0ZXNcblsyMDIwLTAxLTIyIDAwOjI5OjE2LjYzOF0gW2NvbnNvbGVdIFtpbmZvXSBE\\nYXRhIGZyYW1lcz0zOTkgc3RyaWRlPTEgYXZlcmFnZT0xXG5bMjAyMC0wMS0yMiAwMDoyOTozNC4w\\nNTddIFtjb25zb2xlXSBbaW5mb10gTG9hZGluZyBkYXRhIHRvb2sgMTYuODY0IHNcblsyMDIwLTAx\\nLTIyIDAwOjMwOjI0LjkxM10gW2NvbnNvbGVdIFtpbmZvXSBDb21wdXRpbmcgRzIgTXVsdGlUYXUg\\ndG9vayA1MC44MDUgc1xuWzIwMjAtMDEtMjIgMDA6MzA6MzMuMDcxXSBbY29uc29sZV0gW2luZm9d\\nIE5vcm1hbGl6aW5nIERhdGEgdG9vayA4LjE1OCBzXG5bMjAyMC0wMS0yMiAwMDozMDozMy4wNzFd\\nIFtjb25zb2xlXSBbaW5mb10gVG90YWwgdG9vayAxLjI4MDUyIG1cbidxAC4=\\n', 'status': 'SUCCEEDED', 'task_id': '6faf0e23-56e1-49c5-b286-aaa3cd08b02f'}, 'release_after': 'P30D', 'status': 'SUCCEEDED'}, 'Exec2Input': {'endpoint': '9f84f41e-dfb6-4633-97be-b46901e9384c', 'func': '8bb88ffa-a240-4433-9cd0-237f37def8fa', 'payload': '12\\n01\\ngAMpLg==\\n328\\n01\\ngAN9cQBYBQAAAGV2ZW50cQF9cQJYBAAAAGRhdGFxA31xBChYAwAAAGhkZnEFWDAAAAAvcHJvamVj\\ndHMvQVBTRGF0YUFuYWx5c2lzL0F1dG9tYXRlL3Rlc3QvdGVzdC5oZGZxBlgDAAAAaW1tcQdYMAAA\\nAC9wcm9qZWN0cy9BUFNEYXRhQW5hbHlzaXMvQXV0b21hdGUvdGVzdC90ZXN0LmltbXEIWAgAAABt\\nZXRhZGF0YXEJWDEAAAAvcHJvamVjdHMvQVBTRGF0YUFuYWx5c2lzL0F1dG9tYXRlL3Rlc3QvdGVz\\ndC5qc29ucQp1c3Mu\\n'}, 'Exec3Input': {'endpoint': '6c4323f4-a062-4551-a883-146a352a43f5', 'func': '899f2762-ca09-4f42-a158-a2de3ede2277', 'payload': '12\\n01\\ngAMpLg==\\n328\\n01\\ngAN9cQBYBQAAAGV2ZW50cQF9cQJYBAAAAGRhdGFxA31xBChYAwAAAGhkZnEFWDAAAAAvcHJvamVj\\ndHMvQVBTRGF0YUFuYWx5c2lzL0F1dG9tYXRlL3Rlc3QvdGVzdC5oZGZxBlgDAAAAaW1tcQdYMAAA\\nAC9wcm9qZWN0cy9BUFNEYXRhQW5hbHlzaXMvQXV0b21hdGUvdGVzdC90ZXN0LmltbXEIWAgAAABt\\nZXRhZGF0YXEJWDEAAAAvcHJvamVjdHMvQVBTRGF0YUFuYWx5c2lzL0F1dG9tYXRlL3Rlc3QvdGVz\\ndC5qc29ucQp1c3Mu\\n'}, 'Transfer1Input': {'destination_endpoint_id': '08925f04-569f-11e7-bef8-22000b9a448b', 'source_endpoint_id': 'fdc7e74a-fa78-11e8-9342-0e3d676669f4', 'transfer_items': [{'destination_path': '/projects/APSDataAnalysis/Automate/test/test.hdf', 'recursive': False, 'source_path': '/data/xpcs8/2019-3/sanat201911/cluster_results/A008_MJ_PMA_47g80kDa_att2_180C_Lq0_004_0002-0400.hdf'}, {'destination_path': '/projects/APSDataAnalysis/Automate/test/test.imm', 'recursive': False, 'source_path': '/data/xpcs8/2019-3/sanat201911/A008_MJ_PMA_47g80kDa_att2_180C_Lq0_004/A008_MJ_PMA_47g80kDa_att2_180C_Lq0_004_00001-00400.imm'}]}, 'Transfer1Result': {'action_id': '1KqSEZxoXYkVr', 'creator_id': 'urn:globus:auth:identity:c4765424-d274-11e5-b894-cb4139f74ecf', 'details': {'DATA_TYPE': 'task', 'bytes_checksummed': 0, 'bytes_transferred': 197920489, 'canceled_by_admin': None, 'canceled_by_admin_message': None, 'command': 'API 0.10', 'completion_time': '2020-01-22 00:27:37+00:00', 'deadline': '2020-01-23 00:27:30+00:00', 'delete_destination_extra': False, 'destination_endpoint': 'alcf#08925f04-569f-11e7-bef8-22000b9a448b', 'destination_endpoint_display_name': 'alcf#dtn_theta', 'destination_endpoint_id': '08925f04-569f-11e7-bef8-22000b9a448b', 'directories': 0, 'effective_bytes_per_second': 31761016, 'encrypt_data': False, 'event_link': {'DATA_TYPE': 'link', 'href': 'task/f9713264-3cad-11ea-ab4c-0a7959ea6081/event_list?format=json', 'rel': 'child', 'resource': 'event list', 'title': 'child event list'}, 'fatal_error': None, 'faults': 0, 'files': 2, 'files_skipped': 0, 'files_transferred': 2, 'history_deleted': False, 'is_paused': False, 'label': 'For Action id 1KqSEZxoXYkVr', 'nice_status': None, 'nice_status_details': None, 'nice_status_expires_in': None, 'nice_status_short_description': None, 'owner_id': 'c4765424-d274-11e5-b894-cb4139f74ecf', 'preserve_timestamp': False, 'recursive_symlinks': 'ignore', 'request_time': '2020-01-22 00:27:30+00:00', 'source_endpoint': 'aps#clutchsdmz', 'source_endpoint_display_name': 'aps#clutchsdmz', 'source_endpoint_id': 'fdc7e74a-fa78-11e8-9342-0e3d676669f4', 'status': 'SUCCEEDED', 'subtasks_canceled': 0, 'subtasks_expired': 0, 'subtasks_failed': 0, 'subtasks_pending': 0, 'subtasks_retrying': 0, 'subtasks_succeeded': 4, 'subtasks_total': 4, 'symlinks': 0, 'sync_level': None, 'task_id': 'f9713264-3cad-11ea-ab4c-0a7959ea6081', 'type': 'TRANSFER', 'username': 'ryan', 'verify_checksum': False}, 'release_after': '2592000', 'start_time': '2020-01-22T00:27:28.390097Z', 'status': 'SUCCEEDED'}, 'Transfer2Input': {'destination_endpoint_id': 'fdc7e74a-fa78-11e8-9342-0e3d676669f4', 'source_endpoint_id': '08925f04-569f-11e7-bef8-22000b9a448b', 'transfer_items': [{'destination_path': '/data/xpcs8/2019-1/comm201901/ALCF_results/test.hdf', 'recursive': False, 'source_path': '/projects/APSDataAnalysis/Automate/test/test.hdf'}]}, 'Transfer2Result': {'action_id': 'r3ZqmotZZOyx', 'creator_id': 'urn:globus:auth:identity:c4765424-d274-11e5-b894-cb4139f74ecf', 'details': {'DATA_TYPE': 'task', 'bytes_checksummed': 0, 'bytes_transferred': 16996283, 'canceled_by_admin': None, 'canceled_by_admin_message': None, 'command': 'API 0.10', 'completion_time': '2020-01-22 00:30:41+00:00', 'deadline': '2020-01-23 00:30:38+00:00', 'delete_destination_extra': False, 'destination_endpoint': 'aps#clutchsdmz', 'destination_endpoint_display_name': 'aps#clutchsdmz', 'destination_endpoint_id': 'fdc7e74a-fa78-11e8-9342-0e3d676669f4', 'directories': 0, 'effective_bytes_per_second': 5516393, 'encrypt_data': False, 'event_link': {'DATA_TYPE': 'link', 'href': 'task/69750234-3cae-11ea-b963-0e16720bb42f/event_list?format=json', 'rel': 'child', 'resource': 'event list', 'title': 'child event list'}, 'fatal_error': None, 'faults': 0, 'files': 1, 'files_skipped': 0, 'files_transferred': 1, 'history_deleted': False, 'is_paused': False, 'label': 'For Action id r3ZqmotZZOyx', 'nice_status': None, 'nice_status_details': None, 'nice_status_expires_in': None, 'nice_status_short_description': None, 'owner_id': 'c4765424-d274-11e5-b894-cb4139f74ecf', 'preserve_timestamp': False, 'recursive_symlinks': 'ignore', 'request_time': '2020-01-22 00:30:38+00:00', 'source_endpoint': 'alcf#08925f04-569f-11e7-bef8-22000b9a448b', 'source_endpoint_display_name': 'alcf#dtn_theta', 'source_endpoint_id': '08925f04-569f-11e7-bef8-22000b9a448b', 'status': 'SUCCEEDED', 'subtasks_canceled': 0, 'subtasks_expired': 0, 'subtasks_failed': 0, 'subtasks_pending': 0, 'subtasks_retrying': 0, 'subtasks_succeeded': 2, 'subtasks_total': 2, 'symlinks': 0, 'sync_level': None, 'task_id': '69750234-3cae-11ea-b963-0e16720bb42f', 'type': 'TRANSFER', 'username': 'ryan', 'verify_checksum': False}, 'release_after': '2592000', 'start_time': '2020-01-22T00:30:36.754797Z', 'status': 'SUCCEEDED'}}}, 'start_time': '2020-01-22T00:27:27.613000+00:00', 'status': 'SUCCEEDED'})"
      ]
     },
     "execution_count": 183,
     "metadata": {},
     "output_type": "execute_result"
    }
   ],
   "source": [
    "flow_action"
   ]
  },
  {
   "cell_type": "code",
   "execution_count": 184,
   "metadata": {},
   "outputs": [
    {
     "name": "stdout",
     "output_type": "stream",
     "text": [
      "2020-01-22T00:27:27.613000+00:00\n",
      "2020-01-22T00:30:46.070000+00:00\n"
     ]
    },
    {
     "data": {
      "text/plain": [
       "'f9713264-3cad-11ea-ab4c-0a7959ea6081'"
      ]
     },
     "execution_count": 184,
     "metadata": {},
     "output_type": "execute_result"
    }
   ],
   "source": [
    "# Run time info\n",
    "print(flow_action['start_time'])\n",
    "print(flow_action['completion_time'])\n",
    "\n",
    "# Transfer info\n",
    "flow_action['details']['output']['Transfer1Result']['details']['task_id']"
   ]
  },
  {
   "cell_type": "code",
   "execution_count": 185,
   "metadata": {},
   "outputs": [],
   "source": [
    "results.append({flow_action['action_id']: {'start': flow_action['start_time'], 'stop': flow_action['completion_time']}})"
   ]
  },
  {
   "cell_type": "markdown",
   "metadata": {},
   "source": [
    "Repeat the test to hopefully get a shorter period of time"
   ]
  },
  {
   "cell_type": "code",
   "execution_count": 186,
   "metadata": {},
   "outputs": [
    {
     "name": "stdout",
     "output_type": "stream",
     "text": [
      "GlobusHTTPResponse({'action_id': '0c800086-4dc6-4bed-b5e5-32bcaaceec45', 'completion_time': 'None', 'created_by': 'urn:globus:auth:identity:c4765424-d274-11e5-b894-cb4139f74ecf', 'details': {'code': 'ActionStarted', 'description': 'State Transfer1 of type Action started', 'details': {'input': {'Exec1Input': {'endpoint': 'ab9abc3e-9595-4eae-99f3-fac5c7f6282e', 'func': '9d63bf59-114b-4de4-92b6-b88c97898ec6', 'payload': '12\\n01\\ngAMpLg==\\n328\\n01\\ngAN9cQBYBQAAAGV2ZW50cQF9cQJYBAAAAGRhdGFxA31xBChYAwAAAGhkZnEFWDAAAAAvcHJvamVj\\ndHMvQVBTRGF0YUFuYWx5c2lzL0F1dG9tYXRlL3Rlc3QvdGVzdC5oZGZxBlgDAAAAaW1tcQdYMAAA\\nAC9wcm9qZWN0cy9BUFNEYXRhQW5hbHlzaXMvQXV0b21hdGUvdGVzdC90ZXN0LmltbXEIWAgAAABt\\nZXRhZGF0YXEJWDEAAAAvcHJvamVjdHMvQVBTRGF0YUFuYWx5c2lzL0F1dG9tYXRlL3Rlc3QvdGVz\\ndC5qc29ucQp1c3Mu\\n'}, 'Exec2Input': {'endpoint': '9f84f41e-dfb6-4633-97be-b46901e9384c', 'func': '8bb88ffa-a240-4433-9cd0-237f37def8fa', 'payload': '12\\n01\\ngAMpLg==\\n328\\n01\\ngAN9cQBYBQAAAGV2ZW50cQF9cQJYBAAAAGRhdGFxA31xBChYAwAAAGhkZnEFWDAAAAAvcHJvamVj\\ndHMvQVBTRGF0YUFuYWx5c2lzL0F1dG9tYXRlL3Rlc3QvdGVzdC5oZGZxBlgDAAAAaW1tcQdYMAAA\\nAC9wcm9qZWN0cy9BUFNEYXRhQW5hbHlzaXMvQXV0b21hdGUvdGVzdC90ZXN0LmltbXEIWAgAAABt\\nZXRhZGF0YXEJWDEAAAAvcHJvamVjdHMvQVBTRGF0YUFuYWx5c2lzL0F1dG9tYXRlL3Rlc3QvdGVz\\ndC5qc29ucQp1c3Mu\\n'}, 'Exec3Input': {'endpoint': '6c4323f4-a062-4551-a883-146a352a43f5', 'func': '899f2762-ca09-4f42-a158-a2de3ede2277', 'payload': '12\\n01\\ngAMpLg==\\n328\\n01\\ngAN9cQBYBQAAAGV2ZW50cQF9cQJYBAAAAGRhdGFxA31xBChYAwAAAGhkZnEFWDAAAAAvcHJvamVj\\ndHMvQVBTRGF0YUFuYWx5c2lzL0F1dG9tYXRlL3Rlc3QvdGVzdC5oZGZxBlgDAAAAaW1tcQdYMAAA\\nAC9wcm9qZWN0cy9BUFNEYXRhQW5hbHlzaXMvQXV0b21hdGUvdGVzdC90ZXN0LmltbXEIWAgAAABt\\nZXRhZGF0YXEJWDEAAAAvcHJvamVjdHMvQVBTRGF0YUFuYWx5c2lzL0F1dG9tYXRlL3Rlc3QvdGVz\\ndC5qc29ucQp1c3Mu\\n'}, 'Transfer1Input': {'destination_endpoint_id': '08925f04-569f-11e7-bef8-22000b9a448b', 'source_endpoint_id': 'fdc7e74a-fa78-11e8-9342-0e3d676669f4', 'transfer_items': [{'destination_path': '/projects/APSDataAnalysis/Automate/test/test.hdf', 'recursive': False, 'source_path': '/data/xpcs8/2019-3/sanat201911/cluster_results/A008_MJ_PMA_47g80kDa_att2_180C_Lq0_004_0002-0400.hdf'}, {'destination_path': '/projects/APSDataAnalysis/Automate/test/test.imm', 'recursive': False, 'source_path': '/data/xpcs8/2019-3/sanat201911/A008_MJ_PMA_47g80kDa_att2_180C_Lq0_004/A008_MJ_PMA_47g80kDa_att2_180C_Lq0_004_00001-00400.imm'}]}, 'Transfer2Input': {'destination_endpoint_id': 'fdc7e74a-fa78-11e8-9342-0e3d676669f4', 'source_endpoint_id': '08925f04-569f-11e7-bef8-22000b9a448b', 'transfer_items': [{'destination_path': '/data/xpcs8/2019-1/comm201901/ALCF_results/test.hdf', 'recursive': False, 'source_path': '/projects/APSDataAnalysis/Automate/test/test.hdf'}]}}, 'state_name': 'Transfer1', 'state_type': 'Action'}, 'time': '2020-01-22T00:30:51.224000+00:00'}, 'start_time': '2020-01-22T00:30:51.193000+00:00', 'status': 'ACTIVE'})\n",
      "Flow action started with id: 0c800086-4dc6-4bed-b5e5-32bcaaceec45\n",
      "Flow status: ACTIVE\n",
      "Flow status: ACTIVE\n",
      "Flow status: ACTIVE\n",
      "Flow status: ACTIVE\n",
      "Flow status: ACTIVE\n",
      "Flow status: ACTIVE\n",
      "Flow status: ACTIVE\n",
      "Flow status: ACTIVE\n",
      "Flow status: ACTIVE\n",
      "Flow status: SUCCEEDED\n"
     ]
    }
   ],
   "source": [
    "flow_action = flows_client.run_flow(flow_id, flow_scope, flow_input)\n",
    "print(flow_action)\n",
    "flow_action_id = flow_action['action_id']\n",
    "flow_status = flow_action['status']\n",
    "print(f'Flow action started with id: {flow_action_id}')\n",
    "while flow_status == 'ACTIVE':\n",
    "    time.sleep(10)\n",
    "    flow_action = flows_client.flow_action_status(flow_id, flow_scope, flow_action_id)\n",
    "    flow_status = flow_action['status']\n",
    "    print(f'Flow status: {flow_status}')"
   ]
  },
  {
   "cell_type": "code",
   "execution_count": 187,
   "metadata": {},
   "outputs": [],
   "source": [
    "results.append({flow_action['action_id']: {'start': flow_action['start_time'], 'stop': flow_action['completion_time']}})"
   ]
  },
  {
   "cell_type": "code",
   "execution_count": 188,
   "metadata": {},
   "outputs": [
    {
     "name": "stdout",
     "output_type": "stream",
     "text": [
      "2020-01-22T00:30:51.193000+00:00\n",
      "2020-01-22T00:32:31.821000+00:00\n"
     ]
    }
   ],
   "source": [
    "# Run time info\n",
    "print(flow_action['start_time'])\n",
    "print(flow_action['completion_time'])"
   ]
  },
  {
   "cell_type": "code",
   "execution_count": null,
   "metadata": {},
   "outputs": [],
   "source": []
  },
  {
   "cell_type": "markdown",
   "metadata": {},
   "source": [
    "# Plotting"
   ]
  },
  {
   "cell_type": "markdown",
   "metadata": {},
   "source": [
    "List out the invocations of this flow"
   ]
  },
  {
   "cell_type": "code",
   "execution_count": 84,
   "metadata": {},
   "outputs": [],
   "source": [
    "fc = flows_client\n",
    "flow_runs = fc.list_flow_actions(flow_id, flow_scope, statuses=None)"
   ]
  },
  {
   "cell_type": "markdown",
   "metadata": {},
   "source": [
    "Check one of them to see what it looks like."
   ]
  },
  {
   "cell_type": "code",
   "execution_count": 85,
   "metadata": {},
   "outputs": [
    {
     "name": "stdout",
     "output_type": "stream",
     "text": [
      "{'action_id': '367a61bf-63d0-4d57-9b74-f3b9d7b2461c', 'completion_time': 'None', 'created_by': 'urn:globus:auth:identity:c4765424-d274-11e5-b894-cb4139f74ecf', 'details': {'code': 'ActionStarted', 'description': 'State Transfer1 of type Action started', 'details': {'input': {'Exec1Input': {'endpoint': 'ab9abc3e-9595-4eae-99f3-fac5c7f6282e', 'func': '9d63bf59-114b-4de4-92b6-b88c97898ec6', 'payload': '12\\n01\\ngAMpLg==\\n328\\n01\\ngAN9cQBYBQAAAGV2ZW50cQF9cQJYBAAAAGRhdGFxA31xBChYAwAAAGhkZnEFWDAAAAAvcHJvamVj\\ndHMvQVBTRGF0YUFuYWx5c2lzL0F1dG9tYXRlL3Rlc3QvdGVzdC5oZGZxBlgDAAAAaW1tcQdYMAAA\\nAC9wcm9qZWN0cy9BUFNEYXRhQW5hbHlzaXMvQXV0b21hdGUvdGVzdC90ZXN0LmltbXEIWAgAAABt\\nZXRhZGF0YXEJWDEAAAAvcHJvamVjdHMvQVBTRGF0YUFuYWx5c2lzL0F1dG9tYXRlL3Rlc3QvdGVz\\ndC5qc29ucQp1c3Mu\\n'}, 'Exec2Input': {'endpoint': '9f84f41e-dfb6-4633-97be-b46901e9384c', 'func': '8bb88ffa-a240-4433-9cd0-237f37def8fa', 'payload': '12\\n01\\ngAMpLg==\\n328\\n01\\ngAN9cQBYBQAAAGV2ZW50cQF9cQJYBAAAAGRhdGFxA31xBChYAwAAAGhkZnEFWDAAAAAvcHJvamVj\\ndHMvQVBTRGF0YUFuYWx5c2lzL0F1dG9tYXRlL3Rlc3QvdGVzdC5oZGZxBlgDAAAAaW1tcQdYMAAA\\nAC9wcm9qZWN0cy9BUFNEYXRhQW5hbHlzaXMvQXV0b21hdGUvdGVzdC90ZXN0LmltbXEIWAgAAABt\\nZXRhZGF0YXEJWDEAAAAvcHJvamVjdHMvQVBTRGF0YUFuYWx5c2lzL0F1dG9tYXRlL3Rlc3QvdGVz\\ndC5qc29ucQp1c3Mu\\n'}, 'Exec3Input': {'endpoint': '6c4323f4-a062-4551-a883-146a352a43f5', 'func': '899f2762-ca09-4f42-a158-a2de3ede2277', 'payload': '12\\n01\\ngAMpLg==\\n328\\n01\\ngAN9cQBYBQAAAGV2ZW50cQF9cQJYBAAAAGRhdGFxA31xBChYAwAAAGhkZnEFWDAAAAAvcHJvamVj\\ndHMvQVBTRGF0YUFuYWx5c2lzL0F1dG9tYXRlL3Rlc3QvdGVzdC5oZGZxBlgDAAAAaW1tcQdYMAAA\\nAC9wcm9qZWN0cy9BUFNEYXRhQW5hbHlzaXMvQXV0b21hdGUvdGVzdC90ZXN0LmltbXEIWAgAAABt\\nZXRhZGF0YXEJWDEAAAAvcHJvamVjdHMvQVBTRGF0YUFuYWx5c2lzL0F1dG9tYXRlL3Rlc3QvdGVz\\ndC5qc29ucQp1c3Mu\\n'}, 'Transfer1Input': {'destination_endpoint_id': '08925f04-569f-11e7-bef8-22000b9a448b', 'source_endpoint_id': 'fdc7e74a-fa78-11e8-9342-0e3d676669f4', 'transfer_items': [{'destination_path': '/projects/APSDataAnalysis/Automate/test/test.hdf', 'recursive': False, 'source_path': '/data/xpcs8/2019-3/sanat201911/cluster_results/A011_MJ_PMA_47g29kDa_att2_140C_Lq0_001_0002-0768.hdf'}, {'destination_path': '/projects/APSDataAnalysis/Automate/test/test.imm', 'recursive': False, 'source_path': '/data/xpcs8/2019-3/sanat201911/A011_MJ_PMA_47g29kDa_att2_140C_Lq0_001/A011_MJ_PMA_47g29kDa_att2_140C_Lq0_001_00001-00768.imm'}]}, 'Transfer2Input': {'destination_endpoint_id': 'fdc7e74a-fa78-11e8-9342-0e3d676669f4', 'source_endpoint_id': '08925f04-569f-11e7-bef8-22000b9a448b', 'transfer_items': [{'destination_path': '/data/xpcs8/2019-1/comm201901/ALCF_results/test.hdf', 'recursive': False, 'source_path': '/projects/APSDataAnalysis/Automate/test/test.hdf'}]}}, 'state_name': 'Transfer1', 'state_type': 'Action'}, 'time': '2020-01-21T20:44:01.173000+00:00'}, 'start_time': '2020-01-21T20:44:01.145000+00:00', 'status': 'ACTIVE'}\n"
     ]
    }
   ],
   "source": [
    "# print(len(flow_runs['actions']))\n",
    "print(flow_runs['actions'][0])"
   ]
  },
  {
   "cell_type": "code",
   "execution_count": 86,
   "metadata": {},
   "outputs": [],
   "source": [
    "# action_id = 'eecff227-a692-4fdd-835d-77595fd4e5e7'\n",
    "action_id = flow_runs['actions'][0]['action_id']"
   ]
  },
  {
   "cell_type": "markdown",
   "metadata": {},
   "source": [
    "Check the action logs for this flow"
   ]
  },
  {
   "cell_type": "code",
   "execution_count": 87,
   "metadata": {},
   "outputs": [],
   "source": [
    "flow_log = fc.flow_action_log(flow_id, flow_scope, action_id)"
   ]
  },
  {
   "cell_type": "code",
   "execution_count": 88,
   "metadata": {
    "scrolled": true
   },
   "outputs": [
    {
     "data": {
      "text/plain": [
       "GlobusHTTPResponse({'entries': [{'code': 'FlowSucceeded', 'description': 'The Flow Instance completed successfully', 'details': {'output': {'Exec1Input': {'endpoint': 'ab9abc3e-9595-4eae-99f3-fac5c7f6282e', 'func': '9d63bf59-114b-4de4-92b6-b88c97898ec6', 'payload': '12\\n01\\ngAMpLg==\\n328\\n01\\ngAN9cQBYBQAAAGV2ZW50cQF9cQJYBAAAAGRhdGFxA31xBChYAwAAAGhkZnEFWDAAAAAvcHJvamVj\\ndHMvQVBTRGF0YUFuYWx5c2lzL0F1dG9tYXRlL3Rlc3QvdGVzdC5oZGZxBlgDAAAAaW1tcQdYMAAA\\nAC9wcm9qZWN0cy9BUFNEYXRhQW5hbHlzaXMvQXV0b21hdGUvdGVzdC90ZXN0LmltbXEIWAgAAABt\\nZXRhZGF0YXEJWDEAAAAvcHJvamVjdHMvQVBTRGF0YUFuYWx5c2lzL0F1dG9tYXRlL3Rlc3QvdGVz\\ndC5qc29ucQp1c3Mu\\n'}, 'Exec1Result': {'action_id': 'acb12387-b098-4a62-8509-4185d6e4d031', 'details': {'completion_t': 1579639732.6274486, 'result': '01\\ngANYBQMAAGInWzIwMjAtMDEtMjEgMjA6NDY6MzIuNzU3XSBbY29uc29sZV0gW2luZm9dIEg1IG1l\\ndGFkYXRhIHBhdGggL3hwY3NcblsyMDIwLTAxLTIxIDIwOjQ2OjMzLjEyOF0gW2NvbnNvbGVdIFtp\\nbmZvXSBCdWlsZFFNYXAoKSB0b29rIDE5MSBtc1xuWzIwMjAtMDEtMjEgMjA6NDY6MzMuMTMxXSBb\\nY29uc29sZV0gW2luZm9dIENvbmZpZ3VyYXRpb24gVG90YWwgdG9vayAzNTMgbXNcblsyMDIwLTAx\\nLTIxIDIwOjQ2OjMzLjEzMV0gW2NvbnNvbGVdIFtpbmZvXSBQcm9jZXNzaW5nIElNTSBmaWxlIGF0\\nIHBhdGggL3Byb2plY3RzL0FQU0RhdGFBbmFseXNpcy9BdXRvbWF0ZS90ZXN0L3Rlc3QuaW1tLi5c\\nblsyMDIwLTAxLTIxIDIwOjQ2OjMzLjEzM10gW2NvbnNvbGVdIFtpbmZvXSBGaWxlIHNpemUgMzIy\\nLjc0IE1ieXRlc1xuWzIwMjAtMDEtMjEgMjA6NDY6MzMuMTMzXSBbY29uc29sZV0gW2luZm9dIERh\\ndGEgZnJhbWVzPTc2NyBzdHJpZGU9MSBhdmVyYWdlPTFcblsyMDIwLTAxLTIxIDIwOjQ3OjA2Ljc4\\nNV0gW2NvbnNvbGVdIFtpbmZvXSBMb2FkaW5nIGRhdGEgdG9vayAzMy4wNyBzXG5bMjAyMC0wMS0y\\nMSAyMDo0ODo0My43MTZdIFtjb25zb2xlXSBbaW5mb10gQ29tcHV0aW5nIEcyIE11bHRpVGF1IHRv\\nb2sgMS42MTQ2MyBtXG5bMjAyMC0wMS0yMSAyMDo0ODo1Mi40MjZdIFtjb25zb2xlXSBbaW5mb10g\\nTm9ybWFsaXppbmcgRGF0YSB0b29rIDguNzEgc1xuWzIwMjAtMDEtMjEgMjA6NDg6NTIuNDI2XSBb\\nY29uc29sZV0gW2luZm9dIFRvdGFsIHRvb2sgMi4zMjc4MiBtXG4ncQAu\\n', 'status': 'SUCCEEDED', 'task_id': 'acb12387-b098-4a62-8509-4185d6e4d031'}, 'release_after': 'P30D', 'status': 'SUCCEEDED'}, 'Exec2Input': {'endpoint': '9f84f41e-dfb6-4633-97be-b46901e9384c', 'func': '8bb88ffa-a240-4433-9cd0-237f37def8fa', 'payload': '12\\n01\\ngAMpLg==\\n328\\n01\\ngAN9cQBYBQAAAGV2ZW50cQF9cQJYBAAAAGRhdGFxA31xBChYAwAAAGhkZnEFWDAAAAAvcHJvamVj\\ndHMvQVBTRGF0YUFuYWx5c2lzL0F1dG9tYXRlL3Rlc3QvdGVzdC5oZGZxBlgDAAAAaW1tcQdYMAAA\\nAC9wcm9qZWN0cy9BUFNEYXRhQW5hbHlzaXMvQXV0b21hdGUvdGVzdC90ZXN0LmltbXEIWAgAAABt\\nZXRhZGF0YXEJWDEAAAAvcHJvamVjdHMvQVBTRGF0YUFuYWx5c2lzL0F1dG9tYXRlL3Rlc3QvdGVz\\ndC5qc29ucQp1c3Mu\\n'}, 'Exec3Input': {'endpoint': '6c4323f4-a062-4551-a883-146a352a43f5', 'func': '899f2762-ca09-4f42-a158-a2de3ede2277', 'payload': '12\\n01\\ngAMpLg==\\n328\\n01\\ngAN9cQBYBQAAAGV2ZW50cQF9cQJYBAAAAGRhdGFxA31xBChYAwAAAGhkZnEFWDAAAAAvcHJvamVj\\ndHMvQVBTRGF0YUFuYWx5c2lzL0F1dG9tYXRlL3Rlc3QvdGVzdC5oZGZxBlgDAAAAaW1tcQdYMAAA\\nAC9wcm9qZWN0cy9BUFNEYXRhQW5hbHlzaXMvQXV0b21hdGUvdGVzdC90ZXN0LmltbXEIWAgAAABt\\nZXRhZGF0YXEJWDEAAAAvcHJvamVjdHMvQVBTRGF0YUFuYWx5c2lzL0F1dG9tYXRlL3Rlc3QvdGVz\\ndC5qc29ucQp1c3Mu\\n'}, 'Transfer1Input': {'destination_endpoint_id': '08925f04-569f-11e7-bef8-22000b9a448b', 'source_endpoint_id': 'fdc7e74a-fa78-11e8-9342-0e3d676669f4', 'transfer_items': [{'destination_path': '/projects/APSDataAnalysis/Automate/test/test.hdf', 'recursive': False, 'source_path': '/data/xpcs8/2019-3/sanat201911/cluster_results/A011_MJ_PMA_47g29kDa_att2_140C_Lq0_001_0002-0768.hdf'}, {'destination_path': '/projects/APSDataAnalysis/Automate/test/test.imm', 'recursive': False, 'source_path': '/data/xpcs8/2019-3/sanat201911/A011_MJ_PMA_47g29kDa_att2_140C_Lq0_001/A011_MJ_PMA_47g29kDa_att2_140C_Lq0_001_00001-00768.imm'}]}, 'Transfer1Result': {'action_id': '1GuEf2uGr08lk', 'creator_id': 'urn:globus:auth:identity:c4765424-d274-11e5-b894-cb4139f74ecf', 'details': {'DATA_TYPE': 'task', 'bytes_checksummed': 0, 'bytes_transferred': 352140615, 'canceled_by_admin': None, 'canceled_by_admin_message': None, 'command': 'API 0.10', 'completion_time': '2020-01-21 20:44:16+00:00', 'deadline': '2020-01-22 20:44:04+00:00', 'delete_destination_extra': False, 'destination_endpoint': 'alcf#08925f04-569f-11e7-bef8-22000b9a448b', 'destination_endpoint_display_name': 'alcf#dtn_theta', 'destination_endpoint_id': '08925f04-569f-11e7-bef8-22000b9a448b', 'directories': 0, 'effective_bytes_per_second': 30442477, 'encrypt_data': False, 'event_link': {'DATA_TYPE': 'link', 'href': 'task/c29c4220-3c8e-11ea-b963-0e16720bb42f/event_list?format=json', 'rel': 'child', 'resource': 'event list', 'title': 'child event list'}, 'fatal_error': None, 'faults': 0, 'files': 2, 'files_skipped': 0, 'files_transferred': 2, 'history_deleted': False, 'is_paused': False, 'label': 'For Action id 1GuEf2uGr08lk', 'nice_status': None, 'nice_status_details': None, 'nice_status_expires_in': None, 'nice_status_short_description': None, 'owner_id': 'c4765424-d274-11e5-b894-cb4139f74ecf', 'preserve_timestamp': False, 'recursive_symlinks': 'ignore', 'request_time': '2020-01-21 20:44:04+00:00', 'source_endpoint': 'aps#clutchsdmz', 'source_endpoint_display_name': 'aps#clutchsdmz', 'source_endpoint_id': 'fdc7e74a-fa78-11e8-9342-0e3d676669f4', 'status': 'SUCCEEDED', 'subtasks_canceled': 0, 'subtasks_expired': 0, 'subtasks_failed': 0, 'subtasks_pending': 0, 'subtasks_retrying': 0, 'subtasks_succeeded': 4, 'subtasks_total': 4, 'symlinks': 0, 'sync_level': None, 'task_id': 'c29c4220-3c8e-11ea-b963-0e16720bb42f', 'type': 'TRANSFER', 'username': 'ryan', 'verify_checksum': False}, 'release_after': '2592000', 'start_time': '2020-01-21T20:44:02.198890Z', 'status': 'SUCCEEDED'}, 'Transfer2Input': {'destination_endpoint_id': 'fdc7e74a-fa78-11e8-9342-0e3d676669f4', 'source_endpoint_id': '08925f04-569f-11e7-bef8-22000b9a448b', 'transfer_items': [{'destination_path': '/data/xpcs8/2019-1/comm201901/ALCF_results/test.hdf', 'recursive': False, 'source_path': '/projects/APSDataAnalysis/Automate/test/test.hdf'}]}, 'Transfer2Result': {'action_id': '1FN9d7VxWGhC9', 'creator_id': 'urn:globus:auth:identity:c4765424-d274-11e5-b894-cb4139f74ecf', 'details': {'DATA_TYPE': 'task', 'bytes_checksummed': 0, 'bytes_transferred': 17012311, 'canceled_by_admin': None, 'canceled_by_admin_message': None, 'command': 'API 0.10', 'completion_time': '2020-01-21 20:49:03+00:00', 'deadline': '2020-01-22 20:48:59+00:00', 'delete_destination_extra': False, 'destination_endpoint': 'aps#clutchsdmz', 'destination_endpoint_display_name': 'aps#clutchsdmz', 'destination_endpoint_id': 'fdc7e74a-fa78-11e8-9342-0e3d676669f4', 'directories': 0, 'effective_bytes_per_second': 4908914, 'encrypt_data': False, 'event_link': {'DATA_TYPE': 'link', 'href': 'task/72ce80e0-3c8f-11ea-b963-0e16720bb42f/event_list?format=json', 'rel': 'child', 'resource': 'event list', 'title': 'child event list'}, 'fatal_error': None, 'faults': 0, 'files': 1, 'files_skipped': 0, 'files_transferred': 1, 'history_deleted': False, 'is_paused': False, 'label': 'For Action id 1FN9d7VxWGhC9', 'nice_status': None, 'nice_status_details': None, 'nice_status_expires_in': None, 'nice_status_short_description': None, 'owner_id': 'c4765424-d274-11e5-b894-cb4139f74ecf', 'preserve_timestamp': False, 'recursive_symlinks': 'ignore', 'request_time': '2020-01-21 20:48:59+00:00', 'source_endpoint': 'alcf#08925f04-569f-11e7-bef8-22000b9a448b', 'source_endpoint_display_name': 'alcf#dtn_theta', 'source_endpoint_id': '08925f04-569f-11e7-bef8-22000b9a448b', 'status': 'SUCCEEDED', 'subtasks_canceled': 0, 'subtasks_expired': 0, 'subtasks_failed': 0, 'subtasks_pending': 0, 'subtasks_retrying': 0, 'subtasks_succeeded': 2, 'subtasks_total': 2, 'symlinks': 0, 'sync_level': None, 'task_id': '72ce80e0-3c8f-11ea-b963-0e16720bb42f', 'type': 'TRANSFER', 'username': 'ryan', 'verify_checksum': False}, 'release_after': '2592000', 'start_time': '2020-01-21T20:48:57.844565Z', 'status': 'SUCCEEDED'}}}, 'time': '2020-01-21T20:49:07.989000+00:00'}, {'code': 'ActionCompleted', 'description': 'State Transfer2 of type Action completed', 'details': {'output': {'Exec1Input': {'endpoint': 'ab9abc3e-9595-4eae-99f3-fac5c7f6282e', 'func': '9d63bf59-114b-4de4-92b6-b88c97898ec6', 'payload': '12\\n01\\ngAMpLg==\\n328\\n01\\ngAN9cQBYBQAAAGV2ZW50cQF9cQJYBAAAAGRhdGFxA31xBChYAwAAAGhkZnEFWDAAAAAvcHJvamVj\\ndHMvQVBTRGF0YUFuYWx5c2lzL0F1dG9tYXRlL3Rlc3QvdGVzdC5oZGZxBlgDAAAAaW1tcQdYMAAA\\nAC9wcm9qZWN0cy9BUFNEYXRhQW5hbHlzaXMvQXV0b21hdGUvdGVzdC90ZXN0LmltbXEIWAgAAABt\\nZXRhZGF0YXEJWDEAAAAvcHJvamVjdHMvQVBTRGF0YUFuYWx5c2lzL0F1dG9tYXRlL3Rlc3QvdGVz\\ndC5qc29ucQp1c3Mu\\n'}, 'Exec1Result': {'action_id': 'acb12387-b098-4a62-8509-4185d6e4d031', 'details': {'completion_t': 1579639732.6274486, 'result': '01\\ngANYBQMAAGInWzIwMjAtMDEtMjEgMjA6NDY6MzIuNzU3XSBbY29uc29sZV0gW2luZm9dIEg1IG1l\\ndGFkYXRhIHBhdGggL3hwY3NcblsyMDIwLTAxLTIxIDIwOjQ2OjMzLjEyOF0gW2NvbnNvbGVdIFtp\\nbmZvXSBCdWlsZFFNYXAoKSB0b29rIDE5MSBtc1xuWzIwMjAtMDEtMjEgMjA6NDY6MzMuMTMxXSBb\\nY29uc29sZV0gW2luZm9dIENvbmZpZ3VyYXRpb24gVG90YWwgdG9vayAzNTMgbXNcblsyMDIwLTAx\\nLTIxIDIwOjQ2OjMzLjEzMV0gW2NvbnNvbGVdIFtpbmZvXSBQcm9jZXNzaW5nIElNTSBmaWxlIGF0\\nIHBhdGggL3Byb2plY3RzL0FQU0RhdGFBbmFseXNpcy9BdXRvbWF0ZS90ZXN0L3Rlc3QuaW1tLi5c\\nblsyMDIwLTAxLTIxIDIwOjQ2OjMzLjEzM10gW2NvbnNvbGVdIFtpbmZvXSBGaWxlIHNpemUgMzIy\\nLjc0IE1ieXRlc1xuWzIwMjAtMDEtMjEgMjA6NDY6MzMuMTMzXSBbY29uc29sZV0gW2luZm9dIERh\\ndGEgZnJhbWVzPTc2NyBzdHJpZGU9MSBhdmVyYWdlPTFcblsyMDIwLTAxLTIxIDIwOjQ3OjA2Ljc4\\nNV0gW2NvbnNvbGVdIFtpbmZvXSBMb2FkaW5nIGRhdGEgdG9vayAzMy4wNyBzXG5bMjAyMC0wMS0y\\nMSAyMDo0ODo0My43MTZdIFtjb25zb2xlXSBbaW5mb10gQ29tcHV0aW5nIEcyIE11bHRpVGF1IHRv\\nb2sgMS42MTQ2MyBtXG5bMjAyMC0wMS0yMSAyMDo0ODo1Mi40MjZdIFtjb25zb2xlXSBbaW5mb10g\\nTm9ybWFsaXppbmcgRGF0YSB0b29rIDguNzEgc1xuWzIwMjAtMDEtMjEgMjA6NDg6NTIuNDI2XSBb\\nY29uc29sZV0gW2luZm9dIFRvdGFsIHRvb2sgMi4zMjc4MiBtXG4ncQAu\\n', 'status': 'SUCCEEDED', 'task_id': 'acb12387-b098-4a62-8509-4185d6e4d031'}, 'release_after': 'P30D', 'status': 'SUCCEEDED'}, 'Exec2Input': {'endpoint': '9f84f41e-dfb6-4633-97be-b46901e9384c', 'func': '8bb88ffa-a240-4433-9cd0-237f37def8fa', 'payload': '12\\n01\\ngAMpLg==\\n328\\n01\\ngAN9cQBYBQAAAGV2ZW50cQF9cQJYBAAAAGRhdGFxA31xBChYAwAAAGhkZnEFWDAAAAAvcHJvamVj\\ndHMvQVBTRGF0YUFuYWx5c2lzL0F1dG9tYXRlL3Rlc3QvdGVzdC5oZGZxBlgDAAAAaW1tcQdYMAAA\\nAC9wcm9qZWN0cy9BUFNEYXRhQW5hbHlzaXMvQXV0b21hdGUvdGVzdC90ZXN0LmltbXEIWAgAAABt\\nZXRhZGF0YXEJWDEAAAAvcHJvamVjdHMvQVBTRGF0YUFuYWx5c2lzL0F1dG9tYXRlL3Rlc3QvdGVz\\ndC5qc29ucQp1c3Mu\\n'}, 'Exec3Input': {'endpoint': '6c4323f4-a062-4551-a883-146a352a43f5', 'func': '899f2762-ca09-4f42-a158-a2de3ede2277', 'payload': '12\\n01\\ngAMpLg==\\n328\\n01\\ngAN9cQBYBQAAAGV2ZW50cQF9cQJYBAAAAGRhdGFxA31xBChYAwAAAGhkZnEFWDAAAAAvcHJvamVj\\ndHMvQVBTRGF0YUFuYWx5c2lzL0F1dG9tYXRlL3Rlc3QvdGVzdC5oZGZxBlgDAAAAaW1tcQdYMAAA\\nAC9wcm9qZWN0cy9BUFNEYXRhQW5hbHlzaXMvQXV0b21hdGUvdGVzdC90ZXN0LmltbXEIWAgAAABt\\nZXRhZGF0YXEJWDEAAAAvcHJvamVjdHMvQVBTRGF0YUFuYWx5c2lzL0F1dG9tYXRlL3Rlc3QvdGVz\\ndC5qc29ucQp1c3Mu\\n'}, 'Transfer1Input': {'destination_endpoint_id': '08925f04-569f-11e7-bef8-22000b9a448b', 'source_endpoint_id': 'fdc7e74a-fa78-11e8-9342-0e3d676669f4', 'transfer_items': [{'destination_path': '/projects/APSDataAnalysis/Automate/test/test.hdf', 'recursive': False, 'source_path': '/data/xpcs8/2019-3/sanat201911/cluster_results/A011_MJ_PMA_47g29kDa_att2_140C_Lq0_001_0002-0768.hdf'}, {'destination_path': '/projects/APSDataAnalysis/Automate/test/test.imm', 'recursive': False, 'source_path': '/data/xpcs8/2019-3/sanat201911/A011_MJ_PMA_47g29kDa_att2_140C_Lq0_001/A011_MJ_PMA_47g29kDa_att2_140C_Lq0_001_00001-00768.imm'}]}, 'Transfer1Result': {'action_id': '1GuEf2uGr08lk', 'creator_id': 'urn:globus:auth:identity:c4765424-d274-11e5-b894-cb4139f74ecf', 'details': {'DATA_TYPE': 'task', 'bytes_checksummed': 0, 'bytes_transferred': 352140615, 'canceled_by_admin': None, 'canceled_by_admin_message': None, 'command': 'API 0.10', 'completion_time': '2020-01-21 20:44:16+00:00', 'deadline': '2020-01-22 20:44:04+00:00', 'delete_destination_extra': False, 'destination_endpoint': 'alcf#08925f04-569f-11e7-bef8-22000b9a448b', 'destination_endpoint_display_name': 'alcf#dtn_theta', 'destination_endpoint_id': '08925f04-569f-11e7-bef8-22000b9a448b', 'directories': 0, 'effective_bytes_per_second': 30442477, 'encrypt_data': False, 'event_link': {'DATA_TYPE': 'link', 'href': 'task/c29c4220-3c8e-11ea-b963-0e16720bb42f/event_list?format=json', 'rel': 'child', 'resource': 'event list', 'title': 'child event list'}, 'fatal_error': None, 'faults': 0, 'files': 2, 'files_skipped': 0, 'files_transferred': 2, 'history_deleted': False, 'is_paused': False, 'label': 'For Action id 1GuEf2uGr08lk', 'nice_status': None, 'nice_status_details': None, 'nice_status_expires_in': None, 'nice_status_short_description': None, 'owner_id': 'c4765424-d274-11e5-b894-cb4139f74ecf', 'preserve_timestamp': False, 'recursive_symlinks': 'ignore', 'request_time': '2020-01-21 20:44:04+00:00', 'source_endpoint': 'aps#clutchsdmz', 'source_endpoint_display_name': 'aps#clutchsdmz', 'source_endpoint_id': 'fdc7e74a-fa78-11e8-9342-0e3d676669f4', 'status': 'SUCCEEDED', 'subtasks_canceled': 0, 'subtasks_expired': 0, 'subtasks_failed': 0, 'subtasks_pending': 0, 'subtasks_retrying': 0, 'subtasks_succeeded': 4, 'subtasks_total': 4, 'symlinks': 0, 'sync_level': None, 'task_id': 'c29c4220-3c8e-11ea-b963-0e16720bb42f', 'type': 'TRANSFER', 'username': 'ryan', 'verify_checksum': False}, 'release_after': '2592000', 'start_time': '2020-01-21T20:44:02.198890Z', 'status': 'SUCCEEDED'}, 'Transfer2Input': {'destination_endpoint_id': 'fdc7e74a-fa78-11e8-9342-0e3d676669f4', 'source_endpoint_id': '08925f04-569f-11e7-bef8-22000b9a448b', 'transfer_items': [{'destination_path': '/data/xpcs8/2019-1/comm201901/ALCF_results/test.hdf', 'recursive': False, 'source_path': '/projects/APSDataAnalysis/Automate/test/test.hdf'}]}, 'Transfer2Result': {'action_id': '1FN9d7VxWGhC9', 'creator_id': 'urn:globus:auth:identity:c4765424-d274-11e5-b894-cb4139f74ecf', 'details': {'DATA_TYPE': 'task', 'bytes_checksummed': 0, 'bytes_transferred': 17012311, 'canceled_by_admin': None, 'canceled_by_admin_message': None, 'command': 'API 0.10', 'completion_time': '2020-01-21 20:49:03+00:00', 'deadline': '2020-01-22 20:48:59+00:00', 'delete_destination_extra': False, 'destination_endpoint': 'aps#clutchsdmz', 'destination_endpoint_display_name': 'aps#clutchsdmz', 'destination_endpoint_id': 'fdc7e74a-fa78-11e8-9342-0e3d676669f4', 'directories': 0, 'effective_bytes_per_second': 4908914, 'encrypt_data': False, 'event_link': {'DATA_TYPE': 'link', 'href': 'task/72ce80e0-3c8f-11ea-b963-0e16720bb42f/event_list?format=json', 'rel': 'child', 'resource': 'event list', 'title': 'child event list'}, 'fatal_error': None, 'faults': 0, 'files': 1, 'files_skipped': 0, 'files_transferred': 1, 'history_deleted': False, 'is_paused': False, 'label': 'For Action id 1FN9d7VxWGhC9', 'nice_status': None, 'nice_status_details': None, 'nice_status_expires_in': None, 'nice_status_short_description': None, 'owner_id': 'c4765424-d274-11e5-b894-cb4139f74ecf', 'preserve_timestamp': False, 'recursive_symlinks': 'ignore', 'request_time': '2020-01-21 20:48:59+00:00', 'source_endpoint': 'alcf#08925f04-569f-11e7-bef8-22000b9a448b', 'source_endpoint_display_name': 'alcf#dtn_theta', 'source_endpoint_id': '08925f04-569f-11e7-bef8-22000b9a448b', 'status': 'SUCCEEDED', 'subtasks_canceled': 0, 'subtasks_expired': 0, 'subtasks_failed': 0, 'subtasks_pending': 0, 'subtasks_retrying': 0, 'subtasks_succeeded': 2, 'subtasks_total': 2, 'symlinks': 0, 'sync_level': None, 'task_id': '72ce80e0-3c8f-11ea-b963-0e16720bb42f', 'type': 'TRANSFER', 'username': 'ryan', 'verify_checksum': False}, 'release_after': '2592000', 'start_time': '2020-01-21T20:48:57.844565Z', 'status': 'SUCCEEDED'}}, 'state_name': 'Transfer2', 'state_type': 'Action'}, 'time': '2020-01-21T20:49:07.989000+00:00'}, {'action_url': 'https://actions.automate.globus.org/transfer/transfer', 'code': 'ActionPolled', 'description': 'Polling for completion of action state Transfer2', 'details': {'state_name': 'Transfer2'}, 'time': '2020-01-21T20:49:07.549000+00:00'}, {'action_url': 'https://actions.automate.globus.org/transfer/transfer', 'code': 'ActionPolled', 'description': 'Polling for completion of action state Transfer2', 'details': {'state_name': 'Transfer2'}, 'time': '2020-01-21T20:49:00.958000+00:00'}, {'code': 'ActionCompleted', 'description': 'State Transfer2 of type Action completed', 'details': {'output': {'Exec1Input': {'endpoint': 'ab9abc3e-9595-4eae-99f3-fac5c7f6282e', 'func': '9d63bf59-114b-4de4-92b6-b88c97898ec6', 'payload': '12\\n01\\ngAMpLg==\\n328\\n01\\ngAN9cQBYBQAAAGV2ZW50cQF9cQJYBAAAAGRhdGFxA31xBChYAwAAAGhkZnEFWDAAAAAvcHJvamVj\\ndHMvQVBTRGF0YUFuYWx5c2lzL0F1dG9tYXRlL3Rlc3QvdGVzdC5oZGZxBlgDAAAAaW1tcQdYMAAA\\nAC9wcm9qZWN0cy9BUFNEYXRhQW5hbHlzaXMvQXV0b21hdGUvdGVzdC90ZXN0LmltbXEIWAgAAABt\\nZXRhZGF0YXEJWDEAAAAvcHJvamVjdHMvQVBTRGF0YUFuYWx5c2lzL0F1dG9tYXRlL3Rlc3QvdGVz\\ndC5qc29ucQp1c3Mu\\n'}, 'Exec1Result': {'action_id': 'acb12387-b098-4a62-8509-4185d6e4d031', 'details': {'completion_t': 1579639732.6274486, 'result': '01\\ngANYBQMAAGInWzIwMjAtMDEtMjEgMjA6NDY6MzIuNzU3XSBbY29uc29sZV0gW2luZm9dIEg1IG1l\\ndGFkYXRhIHBhdGggL3hwY3NcblsyMDIwLTAxLTIxIDIwOjQ2OjMzLjEyOF0gW2NvbnNvbGVdIFtp\\nbmZvXSBCdWlsZFFNYXAoKSB0b29rIDE5MSBtc1xuWzIwMjAtMDEtMjEgMjA6NDY6MzMuMTMxXSBb\\nY29uc29sZV0gW2luZm9dIENvbmZpZ3VyYXRpb24gVG90YWwgdG9vayAzNTMgbXNcblsyMDIwLTAx\\nLTIxIDIwOjQ2OjMzLjEzMV0gW2NvbnNvbGVdIFtpbmZvXSBQcm9jZXNzaW5nIElNTSBmaWxlIGF0\\nIHBhdGggL3Byb2plY3RzL0FQU0RhdGFBbmFseXNpcy9BdXRvbWF0ZS90ZXN0L3Rlc3QuaW1tLi5c\\nblsyMDIwLTAxLTIxIDIwOjQ2OjMzLjEzM10gW2NvbnNvbGVdIFtpbmZvXSBGaWxlIHNpemUgMzIy\\nLjc0IE1ieXRlc1xuWzIwMjAtMDEtMjEgMjA6NDY6MzMuMTMzXSBbY29uc29sZV0gW2luZm9dIERh\\ndGEgZnJhbWVzPTc2NyBzdHJpZGU9MSBhdmVyYWdlPTFcblsyMDIwLTAxLTIxIDIwOjQ3OjA2Ljc4\\nNV0gW2NvbnNvbGVdIFtpbmZvXSBMb2FkaW5nIGRhdGEgdG9vayAzMy4wNyBzXG5bMjAyMC0wMS0y\\nMSAyMDo0ODo0My43MTZdIFtjb25zb2xlXSBbaW5mb10gQ29tcHV0aW5nIEcyIE11bHRpVGF1IHRv\\nb2sgMS42MTQ2MyBtXG5bMjAyMC0wMS0yMSAyMDo0ODo1Mi40MjZdIFtjb25zb2xlXSBbaW5mb10g\\nTm9ybWFsaXppbmcgRGF0YSB0b29rIDguNzEgc1xuWzIwMjAtMDEtMjEgMjA6NDg6NTIuNDI2XSBb\\nY29uc29sZV0gW2luZm9dIFRvdGFsIHRvb2sgMi4zMjc4MiBtXG4ncQAu\\n', 'status': 'SUCCEEDED', 'task_id': 'acb12387-b098-4a62-8509-4185d6e4d031'}, 'release_after': 'P30D', 'status': 'SUCCEEDED'}, 'Exec2Input': {'endpoint': '9f84f41e-dfb6-4633-97be-b46901e9384c', 'func': '8bb88ffa-a240-4433-9cd0-237f37def8fa', 'payload': '12\\n01\\ngAMpLg==\\n328\\n01\\ngAN9cQBYBQAAAGV2ZW50cQF9cQJYBAAAAGRhdGFxA31xBChYAwAAAGhkZnEFWDAAAAAvcHJvamVj\\ndHMvQVBTRGF0YUFuYWx5c2lzL0F1dG9tYXRlL3Rlc3QvdGVzdC5oZGZxBlgDAAAAaW1tcQdYMAAA\\nAC9wcm9qZWN0cy9BUFNEYXRhQW5hbHlzaXMvQXV0b21hdGUvdGVzdC90ZXN0LmltbXEIWAgAAABt\\nZXRhZGF0YXEJWDEAAAAvcHJvamVjdHMvQVBTRGF0YUFuYWx5c2lzL0F1dG9tYXRlL3Rlc3QvdGVz\\ndC5qc29ucQp1c3Mu\\n'}, 'Exec3Input': {'endpoint': '6c4323f4-a062-4551-a883-146a352a43f5', 'func': '899f2762-ca09-4f42-a158-a2de3ede2277', 'payload': '12\\n01\\ngAMpLg==\\n328\\n01\\ngAN9cQBYBQAAAGV2ZW50cQF9cQJYBAAAAGRhdGFxA31xBChYAwAAAGhkZnEFWDAAAAAvcHJvamVj\\ndHMvQVBTRGF0YUFuYWx5c2lzL0F1dG9tYXRlL3Rlc3QvdGVzdC5oZGZxBlgDAAAAaW1tcQdYMAAA\\nAC9wcm9qZWN0cy9BUFNEYXRhQW5hbHlzaXMvQXV0b21hdGUvdGVzdC90ZXN0LmltbXEIWAgAAABt\\nZXRhZGF0YXEJWDEAAAAvcHJvamVjdHMvQVBTRGF0YUFuYWx5c2lzL0F1dG9tYXRlL3Rlc3QvdGVz\\ndC5qc29ucQp1c3Mu\\n'}, 'Transfer1Input': {'destination_endpoint_id': '08925f04-569f-11e7-bef8-22000b9a448b', 'source_endpoint_id': 'fdc7e74a-fa78-11e8-9342-0e3d676669f4', 'transfer_items': [{'destination_path': '/projects/APSDataAnalysis/Automate/test/test.hdf', 'recursive': False, 'source_path': '/data/xpcs8/2019-3/sanat201911/cluster_results/A011_MJ_PMA_47g29kDa_att2_140C_Lq0_001_0002-0768.hdf'}, {'destination_path': '/projects/APSDataAnalysis/Automate/test/test.imm', 'recursive': False, 'source_path': '/data/xpcs8/2019-3/sanat201911/A011_MJ_PMA_47g29kDa_att2_140C_Lq0_001/A011_MJ_PMA_47g29kDa_att2_140C_Lq0_001_00001-00768.imm'}]}, 'Transfer1Result': {'action_id': '1GuEf2uGr08lk', 'creator_id': 'urn:globus:auth:identity:c4765424-d274-11e5-b894-cb4139f74ecf', 'details': {'DATA_TYPE': 'task', 'bytes_checksummed': 0, 'bytes_transferred': 352140615, 'canceled_by_admin': None, 'canceled_by_admin_message': None, 'command': 'API 0.10', 'completion_time': '2020-01-21 20:44:16+00:00', 'deadline': '2020-01-22 20:44:04+00:00', 'delete_destination_extra': False, 'destination_endpoint': 'alcf#08925f04-569f-11e7-bef8-22000b9a448b', 'destination_endpoint_display_name': 'alcf#dtn_theta', 'destination_endpoint_id': '08925f04-569f-11e7-bef8-22000b9a448b', 'directories': 0, 'effective_bytes_per_second': 30442477, 'encrypt_data': False, 'event_link': {'DATA_TYPE': 'link', 'href': 'task/c29c4220-3c8e-11ea-b963-0e16720bb42f/event_list?format=json', 'rel': 'child', 'resource': 'event list', 'title': 'child event list'}, 'fatal_error': None, 'faults': 0, 'files': 2, 'files_skipped': 0, 'files_transferred': 2, 'history_deleted': False, 'is_paused': False, 'label': 'For Action id 1GuEf2uGr08lk', 'nice_status': None, 'nice_status_details': None, 'nice_status_expires_in': None, 'nice_status_short_description': None, 'owner_id': 'c4765424-d274-11e5-b894-cb4139f74ecf', 'preserve_timestamp': False, 'recursive_symlinks': 'ignore', 'request_time': '2020-01-21 20:44:04+00:00', 'source_endpoint': 'aps#clutchsdmz', 'source_endpoint_display_name': 'aps#clutchsdmz', 'source_endpoint_id': 'fdc7e74a-fa78-11e8-9342-0e3d676669f4', 'status': 'SUCCEEDED', 'subtasks_canceled': 0, 'subtasks_expired': 0, 'subtasks_failed': 0, 'subtasks_pending': 0, 'subtasks_retrying': 0, 'subtasks_succeeded': 4, 'subtasks_total': 4, 'symlinks': 0, 'sync_level': None, 'task_id': 'c29c4220-3c8e-11ea-b963-0e16720bb42f', 'type': 'TRANSFER', 'username': 'ryan', 'verify_checksum': False}, 'release_after': '2592000', 'start_time': '2020-01-21T20:44:02.198890Z', 'status': 'SUCCEEDED'}, 'Transfer2Input': {'destination_endpoint_id': 'fdc7e74a-fa78-11e8-9342-0e3d676669f4', 'source_endpoint_id': '08925f04-569f-11e7-bef8-22000b9a448b', 'transfer_items': [{'destination_path': '/data/xpcs8/2019-1/comm201901/ALCF_results/test.hdf', 'recursive': False, 'source_path': '/projects/APSDataAnalysis/Automate/test/test.hdf'}]}}, 'state_name': 'Transfer2', 'state_type': 'Action'}, 'time': '2020-01-21T20:49:00.947000+00:00'}, {'code': 'ActionFailed', 'details': {'cause': '1FN9d7VxWGhC9'}, 'time': '2020-01-21T20:49:00.947000+00:00'}, {'action_url': 'https://actions.automate.globus.org/transfer/transfer', 'code': 'ActionPolled', 'description': 'Polling for completion of action state ExecCorr', 'details': {'state_name': 'ExecCorr'}, 'time': '2020-01-21T20:48:57.357000+00:00'}, {'code': 'ActionCompleted', 'description': 'State ExecCorr of type Action completed', 'details': {'output': {'Exec1Input': {'endpoint': 'ab9abc3e-9595-4eae-99f3-fac5c7f6282e', 'func': '9d63bf59-114b-4de4-92b6-b88c97898ec6', 'payload': '12\\n01\\ngAMpLg==\\n328\\n01\\ngAN9cQBYBQAAAGV2ZW50cQF9cQJYBAAAAGRhdGFxA31xBChYAwAAAGhkZnEFWDAAAAAvcHJvamVj\\ndHMvQVBTRGF0YUFuYWx5c2lzL0F1dG9tYXRlL3Rlc3QvdGVzdC5oZGZxBlgDAAAAaW1tcQdYMAAA\\nAC9wcm9qZWN0cy9BUFNEYXRhQW5hbHlzaXMvQXV0b21hdGUvdGVzdC90ZXN0LmltbXEIWAgAAABt\\nZXRhZGF0YXEJWDEAAAAvcHJvamVjdHMvQVBTRGF0YUFuYWx5c2lzL0F1dG9tYXRlL3Rlc3QvdGVz\\ndC5qc29ucQp1c3Mu\\n'}, 'Exec1Result': {'action_id': 'acb12387-b098-4a62-8509-4185d6e4d031', 'details': {'completion_t': 1579639732.6274486, 'result': '01\\ngANYBQMAAGInWzIwMjAtMDEtMjEgMjA6NDY6MzIuNzU3XSBbY29uc29sZV0gW2luZm9dIEg1IG1l\\ndGFkYXRhIHBhdGggL3hwY3NcblsyMDIwLTAxLTIxIDIwOjQ2OjMzLjEyOF0gW2NvbnNvbGVdIFtp\\nbmZvXSBCdWlsZFFNYXAoKSB0b29rIDE5MSBtc1xuWzIwMjAtMDEtMjEgMjA6NDY6MzMuMTMxXSBb\\nY29uc29sZV0gW2luZm9dIENvbmZpZ3VyYXRpb24gVG90YWwgdG9vayAzNTMgbXNcblsyMDIwLTAx\\nLTIxIDIwOjQ2OjMzLjEzMV0gW2NvbnNvbGVdIFtpbmZvXSBQcm9jZXNzaW5nIElNTSBmaWxlIGF0\\nIHBhdGggL3Byb2plY3RzL0FQU0RhdGFBbmFseXNpcy9BdXRvbWF0ZS90ZXN0L3Rlc3QuaW1tLi5c\\nblsyMDIwLTAxLTIxIDIwOjQ2OjMzLjEzM10gW2NvbnNvbGVdIFtpbmZvXSBGaWxlIHNpemUgMzIy\\nLjc0IE1ieXRlc1xuWzIwMjAtMDEtMjEgMjA6NDY6MzMuMTMzXSBbY29uc29sZV0gW2luZm9dIERh\\ndGEgZnJhbWVzPTc2NyBzdHJpZGU9MSBhdmVyYWdlPTFcblsyMDIwLTAxLTIxIDIwOjQ3OjA2Ljc4\\nNV0gW2NvbnNvbGVdIFtpbmZvXSBMb2FkaW5nIGRhdGEgdG9vayAzMy4wNyBzXG5bMjAyMC0wMS0y\\nMSAyMDo0ODo0My43MTZdIFtjb25zb2xlXSBbaW5mb10gQ29tcHV0aW5nIEcyIE11bHRpVGF1IHRv\\nb2sgMS42MTQ2MyBtXG5bMjAyMC0wMS0yMSAyMDo0ODo1Mi40MjZdIFtjb25zb2xlXSBbaW5mb10g\\nTm9ybWFsaXppbmcgRGF0YSB0b29rIDguNzEgc1xuWzIwMjAtMDEtMjEgMjA6NDg6NTIuNDI2XSBb\\nY29uc29sZV0gW2luZm9dIFRvdGFsIHRvb2sgMi4zMjc4MiBtXG4ncQAu\\n', 'status': 'SUCCEEDED', 'task_id': 'acb12387-b098-4a62-8509-4185d6e4d031'}, 'release_after': 'P30D', 'status': 'SUCCEEDED'}, 'Exec2Input': {'endpoint': '9f84f41e-dfb6-4633-97be-b46901e9384c', 'func': '8bb88ffa-a240-4433-9cd0-237f37def8fa', 'payload': '12\\n01\\ngAMpLg==\\n328\\n01\\ngAN9cQBYBQAAAGV2ZW50cQF9cQJYBAAAAGRhdGFxA31xBChYAwAAAGhkZnEFWDAAAAAvcHJvamVj\\ndHMvQVBTRGF0YUFuYWx5c2lzL0F1dG9tYXRlL3Rlc3QvdGVzdC5oZGZxBlgDAAAAaW1tcQdYMAAA\\nAC9wcm9qZWN0cy9BUFNEYXRhQW5hbHlzaXMvQXV0b21hdGUvdGVzdC90ZXN0LmltbXEIWAgAAABt\\nZXRhZGF0YXEJWDEAAAAvcHJvamVjdHMvQVBTRGF0YUFuYWx5c2lzL0F1dG9tYXRlL3Rlc3QvdGVz\\ndC5qc29ucQp1c3Mu\\n'}, 'Exec3Input': {'endpoint': '6c4323f4-a062-4551-a883-146a352a43f5', 'func': '899f2762-ca09-4f42-a158-a2de3ede2277', 'payload': '12\\n01\\ngAMpLg==\\n328\\n01\\ngAN9cQBYBQAAAGV2ZW50cQF9cQJYBAAAAGRhdGFxA31xBChYAwAAAGhkZnEFWDAAAAAvcHJvamVj\\ndHMvQVBTRGF0YUFuYWx5c2lzL0F1dG9tYXRlL3Rlc3QvdGVzdC5oZGZxBlgDAAAAaW1tcQdYMAAA\\nAC9wcm9qZWN0cy9BUFNEYXRhQW5hbHlzaXMvQXV0b21hdGUvdGVzdC90ZXN0LmltbXEIWAgAAABt\\nZXRhZGF0YXEJWDEAAAAvcHJvamVjdHMvQVBTRGF0YUFuYWx5c2lzL0F1dG9tYXRlL3Rlc3QvdGVz\\ndC5qc29ucQp1c3Mu\\n'}, 'Transfer1Input': {'destination_endpoint_id': '08925f04-569f-11e7-bef8-22000b9a448b', 'source_endpoint_id': 'fdc7e74a-fa78-11e8-9342-0e3d676669f4', 'transfer_items': [{'destination_path': '/projects/APSDataAnalysis/Automate/test/test.hdf', 'recursive': False, 'source_path': '/data/xpcs8/2019-3/sanat201911/cluster_results/A011_MJ_PMA_47g29kDa_att2_140C_Lq0_001_0002-0768.hdf'}, {'destination_path': '/projects/APSDataAnalysis/Automate/test/test.imm', 'recursive': False, 'source_path': '/data/xpcs8/2019-3/sanat201911/A011_MJ_PMA_47g29kDa_att2_140C_Lq0_001/A011_MJ_PMA_47g29kDa_att2_140C_Lq0_001_00001-00768.imm'}]}, 'Transfer1Result': {'action_id': '1GuEf2uGr08lk', 'creator_id': 'urn:globus:auth:identity:c4765424-d274-11e5-b894-cb4139f74ecf', 'details': {'DATA_TYPE': 'task', 'bytes_checksummed': 0, 'bytes_transferred': 352140615, 'canceled_by_admin': None, 'canceled_by_admin_message': None, 'command': 'API 0.10', 'completion_time': '2020-01-21 20:44:16+00:00', 'deadline': '2020-01-22 20:44:04+00:00', 'delete_destination_extra': False, 'destination_endpoint': 'alcf#08925f04-569f-11e7-bef8-22000b9a448b', 'destination_endpoint_display_name': 'alcf#dtn_theta', 'destination_endpoint_id': '08925f04-569f-11e7-bef8-22000b9a448b', 'directories': 0, 'effective_bytes_per_second': 30442477, 'encrypt_data': False, 'event_link': {'DATA_TYPE': 'link', 'href': 'task/c29c4220-3c8e-11ea-b963-0e16720bb42f/event_list?format=json', 'rel': 'child', 'resource': 'event list', 'title': 'child event list'}, 'fatal_error': None, 'faults': 0, 'files': 2, 'files_skipped': 0, 'files_transferred': 2, 'history_deleted': False, 'is_paused': False, 'label': 'For Action id 1GuEf2uGr08lk', 'nice_status': None, 'nice_status_details': None, 'nice_status_expires_in': None, 'nice_status_short_description': None, 'owner_id': 'c4765424-d274-11e5-b894-cb4139f74ecf', 'preserve_timestamp': False, 'recursive_symlinks': 'ignore', 'request_time': '2020-01-21 20:44:04+00:00', 'source_endpoint': 'aps#clutchsdmz', 'source_endpoint_display_name': 'aps#clutchsdmz', 'source_endpoint_id': 'fdc7e74a-fa78-11e8-9342-0e3d676669f4', 'status': 'SUCCEEDED', 'subtasks_canceled': 0, 'subtasks_expired': 0, 'subtasks_failed': 0, 'subtasks_pending': 0, 'subtasks_retrying': 0, 'subtasks_succeeded': 4, 'subtasks_total': 4, 'symlinks': 0, 'sync_level': None, 'task_id': 'c29c4220-3c8e-11ea-b963-0e16720bb42f', 'type': 'TRANSFER', 'username': 'ryan', 'verify_checksum': False}, 'release_after': '2592000', 'start_time': '2020-01-21T20:44:02.198890Z', 'status': 'SUCCEEDED'}, 'Transfer2Input': {'destination_endpoint_id': 'fdc7e74a-fa78-11e8-9342-0e3d676669f4', 'source_endpoint_id': '08925f04-569f-11e7-bef8-22000b9a448b', 'transfer_items': [{'destination_path': '/data/xpcs8/2019-1/comm201901/ALCF_results/test.hdf', 'recursive': False, 'source_path': '/projects/APSDataAnalysis/Automate/test/test.hdf'}]}}, 'state_name': 'ExecCorr', 'state_type': 'Action'}, 'time': '2020-01-21T20:48:57.347000+00:00'}, {'action_url': 'https://dev.funcx.org/automate', 'code': 'ActionPolled', 'description': 'Polling for completion of action state ExecCorr', 'details': {'state_name': 'ExecCorr'}, 'time': '2020-01-21T20:48:56.847000+00:00'}, {'action_url': 'https://dev.funcx.org/automate', 'code': 'ActionPolled', 'description': 'Polling for completion of action state ExecCorr', 'details': {'state_name': 'ExecCorr'}, 'time': '2020-01-21T20:48:26.537000+00:00'}, {'action_url': 'https://dev.funcx.org/automate', 'code': 'ActionPolled', 'description': 'Polling for completion of action state ExecCorr', 'details': {'state_name': 'ExecCorr'}, 'time': '2020-01-21T20:47:59.292000+00:00'}, {'action_url': 'https://dev.funcx.org/automate', 'code': 'ActionPolled', 'description': 'Polling for completion of action state ExecCorr', 'details': {'state_name': 'ExecCorr'}, 'time': '2020-01-21T20:47:34.023000+00:00'}, {'action_url': 'https://dev.funcx.org/automate', 'code': 'ActionPolled', 'description': 'Polling for completion of action state ExecCorr', 'details': {'state_name': 'ExecCorr'}, 'time': '2020-01-21T20:47:11.700000+00:00'}], 'limit': 13, 'pagination_token': 'AAAAKgAAAAIAAAAAAAAAAWF15i8sXpAe68jDoLBb3iPD8F5iZr9PLLLnhzksPnoYzy6SLbDfO2MlUFNQbDolxfkEd/PIMaY2hVG7s2QfRGtQVEQu0qJ2DhX+UQkqn9KdGQ663M82AvnzZRfxRAhdwXpYP/DDq/++OlCgqot6Iq8h+pcaC4qS5MqlknaCfH10vM68RjxpGGvZsZ7Ua58KNqlCElHBtmA3esb6BMr+7U8='})"
      ]
     },
     "execution_count": 88,
     "metadata": {},
     "output_type": "execute_result"
    }
   ],
   "source": [
    "flow_log"
   ]
  },
  {
   "cell_type": "markdown",
   "metadata": {},
   "source": [
    "Hmm, it doesn't look like this one succeeded."
   ]
  },
  {
   "cell_type": "code",
   "execution_count": 145,
   "metadata": {},
   "outputs": [
    {
     "name": "stdout",
     "output_type": "stream",
     "text": [
      "FlowSucceeded\n",
      "ActionCompleted\n",
      "Transfer2\n",
      "ActionPolled\n",
      "Transfer2\n",
      "ActionPolled\n",
      "Transfer2\n",
      "ActionCompleted\n",
      "Transfer2\n",
      "ActionFailed\n",
      "ActionPolled\n",
      "ExecCorr\n",
      "ActionCompleted\n",
      "ExecCorr\n",
      "ActionPolled\n",
      "ExecCorr\n",
      "ActionPolled\n",
      "ExecCorr\n",
      "ActionPolled\n",
      "ExecCorr\n",
      "ActionPolled\n",
      "ExecCorr\n",
      "ActionPolled\n",
      "ExecCorr\n",
      "ActionPolled\n",
      "ExecCorr\n",
      "ActionPolled\n",
      "ExecCorr\n",
      "ActionPolled\n",
      "ExecCorr\n",
      "ActionPolled\n",
      "ExecCorr\n",
      "ActionPolled\n",
      "ExecCorr\n",
      "ActionPolled\n",
      "ExecCorr\n",
      "ActionPolled\n",
      "ExecCorr\n",
      "ActionPolled\n",
      "ExecCorr\n",
      "ActionPolled\n",
      "ExecCorr\n",
      "ActionPolled\n",
      "ExecCorr\n",
      "ActionPolled\n",
      "ExecCorr\n",
      "ActionPolled\n",
      "ExecCorr\n",
      "ActionPolled\n",
      "ExecCorr\n",
      "ActionPolled\n",
      "ExecCorr\n",
      "ActionPolled\n",
      "ExecCorr\n",
      "ActionCompleted\n",
      "ExecCorr\n",
      "ActionFailed\n",
      "ActionPolled\n",
      "Transfer1\n",
      "ActionCompleted\n",
      "Transfer1\n",
      "DONE\n",
      "ActionPolled\n",
      "Transfer1\n",
      "ActionPolled\n",
      "Transfer1\n",
      "ActionPolled\n",
      "Transfer1\n",
      "ActionPolled\n",
      "Transfer1\n",
      "ActionFailed\n",
      "ActionStarted\n",
      "Transfer1\n",
      "FlowStarted\n"
     ]
    }
   ],
   "source": [
    "for l in flow_log['entries']:\n",
    "    print(l['code'])\n",
    "    if 'details' in l and 'state_name' in l['details']:\n",
    "        print(l['details']['state_name'])\n",
    "        if l['details']['state_name'] == 'Transfer1' and l['code'] == 'ActionCompleted':\n",
    "            print('DONE')\n",
    "          "
   ]
  },
  {
   "cell_type": "markdown",
   "metadata": {},
   "source": [
    "This one failed because I had too many concurrent transfers pending."
   ]
  },
  {
   "cell_type": "markdown",
   "metadata": {},
   "source": [
    "# Now grab it all into a dataframe\n",
    "\n",
    "Iterate through all of them and pull out the successful ones. Then we can make a dataframe from their timestamps to see what they got up to."
   ]
  },
  {
   "cell_type": "code",
   "execution_count": 90,
   "metadata": {},
   "outputs": [],
   "source": [
    "flow_runs = fc.list_flow_actions(flow_id, flow_scope, statuses=None)"
   ]
  },
  {
   "cell_type": "markdown",
   "metadata": {},
   "source": [
    "Grab all of the action ids so we can inspect them."
   ]
  },
  {
   "cell_type": "code",
   "execution_count": 91,
   "metadata": {},
   "outputs": [],
   "source": [
    "action_ids = []\n",
    "for res in flow_runs['actions']:\n",
    "    action_ids.append(res['action_id'])"
   ]
  },
  {
   "cell_type": "markdown",
   "metadata": {},
   "source": [
    "Now do get each action id's log. This is time consuming."
   ]
  },
  {
   "cell_type": "code",
   "execution_count": 92,
   "metadata": {},
   "outputs": [],
   "source": [
    "flow_logs = {}\n",
    "for aid in action_ids:\n",
    "    flow_log = fc.flow_action_log(flow_id, flow_scope, aid, limit=100)\n",
    "    flow_logs.update({aid: flow_log})\n",
    "#     break"
   ]
  },
  {
   "cell_type": "markdown",
   "metadata": {},
   "source": [
    "Filter for successful ones."
   ]
  },
  {
   "cell_type": "code",
   "execution_count": 93,
   "metadata": {},
   "outputs": [],
   "source": [
    "succeeded_flows = {}\n",
    "for x, z in flow_logs.items():\n",
    "    y = z['entries'][0]['code']\n",
    "#     print(y)\n",
    "    if 'Succeeded' in y:\n",
    "        succeeded_flows[x] = z\n",
    "#     break"
   ]
  },
  {
   "cell_type": "code",
   "execution_count": 94,
   "metadata": {},
   "outputs": [
    {
     "name": "stdout",
     "output_type": "stream",
     "text": [
      "3\n"
     ]
    }
   ],
   "source": [
    "print(len(succeeded_flows))"
   ]
  },
  {
   "cell_type": "code",
   "execution_count": 117,
   "metadata": {},
   "outputs": [],
   "source": [
    "import datetime\n",
    "\n",
    "order = ['Start', 'Transfer1', 'ExecCorr','Transfer2', \n",
    "#          'ExecPlots', 'StageToPetrel', 'StageImagesToPetrel', \n",
    "         'End']\n",
    "\n",
    "res = {}\n",
    "for sf in succeeded_flows:\n",
    "    tmp = succeeded_flows[sf]\n",
    "    flow_end = None\n",
    "    flow_start = float('inf')\n",
    "    flow_start_time = None\n",
    "    flow_steps = {}\n",
    "    for x in tmp['entries']:\n",
    "        action_timestamp = None\n",
    "        try:\n",
    "            action_timestamp = datetime.datetime.strptime(x['time'], '%Y-%m-%dT%H:%M:%S.%f+00:00').timestamp()\n",
    "        except:\n",
    "            action_timestamp = datetime.datetime.strptime(x['time'], '%Y-%m-%dT%H:%M:%S+00:00').timestamp()\n",
    "        if action_timestamp < flow_start:\n",
    "            flow_start = action_timestamp\n",
    "            flow_start_time = action_timestamp\n",
    "        if x['code'] == \"FlowSucceeded\":\n",
    "            flow_end = action_timestamp\n",
    "        if x['code'] == 'ActionCompleted':\n",
    "            if 'details' in x and 'state_name' in x['details']:\n",
    "                action_name = x['details']['state_name']\n",
    "            action_time = action_timestamp\n",
    "            flow_steps.update({action_name : action_time})\n",
    "            # We can pull out transfer times/size here. Do that once this works and we want to include more info.\n",
    "            \n",
    "    #         if 'Transfer' in action_name or 'Stage' in action_name:\n",
    "    #             print(action_name)\n",
    "    #             print(x['details'])\n",
    "    #             break\n",
    "    flow_steps.update({\"Start\": flow_start, \"End\": flow_end})\n",
    "    # Deal with the first transfer not existing due to max actions exceeded\n",
    "    if 'Transfer1' not in flow_steps:\n",
    "        flow_steps['Transfer1'] = flow_steps['Start']\n",
    "    flow_times = [flow_steps['Start'], flow_steps['Transfer1'], flow_steps['Transfer2'], \n",
    "                  flow_steps['ExecCorr'], \n",
    "#                   flow_steps['ExecPlots'], flow_steps['StageToPetrel'], \n",
    "#                   flow_steps['StageImagesToPetrel'], \n",
    "                  flow_steps['End']]\n",
    "    res[sf] = flow_times\n",
    "#     print(flow_steps)\n",
    "#     break\n"
   ]
  },
  {
   "cell_type": "code",
   "execution_count": 118,
   "metadata": {},
   "outputs": [
    {
     "data": {
      "text/html": [
       "<div>\n",
       "<style scoped>\n",
       "    .dataframe tbody tr th:only-of-type {\n",
       "        vertical-align: middle;\n",
       "    }\n",
       "\n",
       "    .dataframe tbody tr th {\n",
       "        vertical-align: top;\n",
       "    }\n",
       "\n",
       "    .dataframe thead th {\n",
       "        text-align: right;\n",
       "    }\n",
       "</style>\n",
       "<table border=\"1\" class=\"dataframe\">\n",
       "  <thead>\n",
       "    <tr style=\"text-align: right;\">\n",
       "      <th></th>\n",
       "      <th>367a61bf-63d0-4d57-9b74-f3b9d7b2461c</th>\n",
       "      <th>42b2574f-a2a6-4701-870e-a21de8896d68</th>\n",
       "      <th>8a0bfb52-3107-4da0-bb7b-fcf20ccae83a</th>\n",
       "    </tr>\n",
       "  </thead>\n",
       "  <tbody>\n",
       "    <tr>\n",
       "      <th>0</th>\n",
       "      <td>1.579661e+09</td>\n",
       "      <td>1.579661e+09</td>\n",
       "      <td>1.579660e+09</td>\n",
       "    </tr>\n",
       "    <tr>\n",
       "      <th>1</th>\n",
       "      <td>1.579661e+09</td>\n",
       "      <td>1.579661e+09</td>\n",
       "      <td>1.579660e+09</td>\n",
       "    </tr>\n",
       "    <tr>\n",
       "      <th>2</th>\n",
       "      <td>1.579661e+09</td>\n",
       "      <td>1.579662e+09</td>\n",
       "      <td>1.579661e+09</td>\n",
       "    </tr>\n",
       "    <tr>\n",
       "      <th>3</th>\n",
       "      <td>1.579661e+09</td>\n",
       "      <td>1.579661e+09</td>\n",
       "      <td>1.579660e+09</td>\n",
       "    </tr>\n",
       "    <tr>\n",
       "      <th>4</th>\n",
       "      <td>1.579661e+09</td>\n",
       "      <td>1.579662e+09</td>\n",
       "      <td>1.579661e+09</td>\n",
       "    </tr>\n",
       "  </tbody>\n",
       "</table>\n",
       "</div>"
      ],
      "text/plain": [
       "   367a61bf-63d0-4d57-9b74-f3b9d7b2461c  42b2574f-a2a6-4701-870e-a21de8896d68  \\\n",
       "0                          1.579661e+09                          1.579661e+09   \n",
       "1                          1.579661e+09                          1.579661e+09   \n",
       "2                          1.579661e+09                          1.579662e+09   \n",
       "3                          1.579661e+09                          1.579661e+09   \n",
       "4                          1.579661e+09                          1.579662e+09   \n",
       "\n",
       "   8a0bfb52-3107-4da0-bb7b-fcf20ccae83a  \n",
       "0                          1.579660e+09  \n",
       "1                          1.579660e+09  \n",
       "2                          1.579661e+09  \n",
       "3                          1.579660e+09  \n",
       "4                          1.579661e+09  "
      ]
     },
     "execution_count": 118,
     "metadata": {},
     "output_type": "execute_result"
    }
   ],
   "source": [
    "adf = pd.DataFrame.from_dict(res, orient='columns')\n",
    "adf"
   ]
  },
  {
   "cell_type": "code",
   "execution_count": 119,
   "metadata": {},
   "outputs": [
    {
     "data": {
      "text/plain": [
       "<matplotlib.axes._subplots.AxesSubplot at 0x7f7b96bff710>"
      ]
     },
     "execution_count": 119,
     "metadata": {},
     "output_type": "execute_result"
    },
    {
     "data": {
      "image/png": "[encoded data removed]",
      "text/plain": [
       "<Figure size 432x288 with 1 Axes>"
      ]
     },
     "metadata": {
      "needs_background": "light"
     },
     "output_type": "display_data"
    }
   ],
   "source": [
    "adf.plot(legend=None)"
   ]
  },
  {
   "cell_type": "code",
   "execution_count": 120,
   "metadata": {},
   "outputs": [],
   "source": [
    "df = pd.DataFrame(res)"
   ]
  },
  {
   "cell_type": "code",
   "execution_count": 121,
   "metadata": {},
   "outputs": [],
   "source": [
    "# df.groupby(\"Flow\")"
   ]
  },
  {
   "cell_type": "code",
   "execution_count": 122,
   "metadata": {},
   "outputs": [
    {
     "data": {
      "text/plain": [
       "<matplotlib.axes._subplots.AxesSubplot at 0x7f7b96bdaf60>"
      ]
     },
     "execution_count": 122,
     "metadata": {},
     "output_type": "execute_result"
    },
    {
     "data": {
      "image/png": "[encoded data removed]",
      "text/plain": [
       "<Figure size 432x288 with 1 Axes>"
      ]
     },
     "metadata": {
      "needs_background": "light"
     },
     "output_type": "display_data"
    }
   ],
   "source": [
    "df.plot(legend=None)"
   ]
  },
  {
   "cell_type": "code",
   "execution_count": 123,
   "metadata": {},
   "outputs": [],
   "source": [
    "import datetime\n",
    "\n",
    "order = ['Start', 'Transfer1', 'ExecCorr', 'Transfer2',\n",
    "#          'ExecPlots', 'StageToPetrel', 'StageImagesToPetrel', \n",
    "         'End']\n",
    "\n",
    "res3 = []\n",
    "for sf in succeeded_flows:\n",
    "    tmp = succeeded_flows[sf]\n",
    "    flow_end = None\n",
    "    flow_start = float('inf')\n",
    "    flow_start_time = None\n",
    "    flow_steps = {}\n",
    "    for x in tmp['entries']:\n",
    "        action_timestamp = None\n",
    "        try:\n",
    "            action_timestamp = datetime.datetime.strptime(x['time'], '%Y-%m-%dT%H:%M:%S.%f+00:00').timestamp()\n",
    "        except:\n",
    "            action_timestamp = datetime.datetime.strptime(x['time'], '%Y-%m-%dT%H:%M:%S+00:00').timestamp()\n",
    "        if action_timestamp < flow_start:\n",
    "            flow_start = action_timestamp\n",
    "            flow_start_time = action_timestamp\n",
    "        if x['code'] == \"FlowSucceeded\":\n",
    "            flow_end = action_timestamp\n",
    "        if x['code'] == 'ActionCompleted':\n",
    "            if 'details' in x and 'state_name' in x['details']:\n",
    "                action_name = x['details']['state_name']\n",
    "            action_time = action_timestamp\n",
    "            flow_steps.update({action_name : action_time})\n",
    "            # We can pull out transfer times/size here. Do that once this works and we want to include more info.\n",
    "            \n",
    "    #         if 'Transfer' in action_name or 'Stage' in action_name:\n",
    "    #             print(action_name)\n",
    "    #             print(x['details'])\n",
    "    #             break\n",
    "    flow_steps.update({\"Flow\": sf, \"Start\": flow_start, \"End\": flow_end})\n",
    "    time_res = [sf]\n",
    "    for x in order:\n",
    "        try:\n",
    "            time_res.append(flow_steps[x])\n",
    "        except:\n",
    "            # Transfer1 might not be here if we have over 100 steps.\n",
    "            time_res.append(flow_steps['Start'])\n",
    "    res3.append(time_res)"
   ]
  },
  {
   "cell_type": "code",
   "execution_count": 124,
   "metadata": {},
   "outputs": [],
   "source": [
    "adf = pd.DataFrame(res3, columns=['Flow', 'Start', 'Transfer1', 'ExecCorr', 'Transfer2',\n",
    "#                                   'ExecPlots', 'StageToPetrel', 'StageImagesToPetrel', \n",
    "                                  'End'])\n",
    "adf2 = pd.DataFrame(res3, columns=['Flow', 1, 2, 3, 4, \n",
    "#                                    5, 6, 7,\n",
    "                                   5])"
   ]
  },
  {
   "cell_type": "code",
   "execution_count": 125,
   "metadata": {},
   "outputs": [
    {
     "data": {
      "text/html": [
       "<div>\n",
       "<style scoped>\n",
       "    .dataframe tbody tr th:only-of-type {\n",
       "        vertical-align: middle;\n",
       "    }\n",
       "\n",
       "    .dataframe tbody tr th {\n",
       "        vertical-align: top;\n",
       "    }\n",
       "\n",
       "    .dataframe thead th {\n",
       "        text-align: right;\n",
       "    }\n",
       "</style>\n",
       "<table border=\"1\" class=\"dataframe\">\n",
       "  <thead>\n",
       "    <tr style=\"text-align: right;\">\n",
       "      <th></th>\n",
       "      <th>Flow</th>\n",
       "      <th>1</th>\n",
       "      <th>2</th>\n",
       "      <th>3</th>\n",
       "      <th>4</th>\n",
       "      <th>5</th>\n",
       "    </tr>\n",
       "  </thead>\n",
       "  <tbody>\n",
       "    <tr>\n",
       "      <th>0</th>\n",
       "      <td>367a61bf-63d0-4d57-9b74-f3b9d7b2461c</td>\n",
       "      <td>1.579661e+09</td>\n",
       "      <td>1.579661e+09</td>\n",
       "      <td>1.579661e+09</td>\n",
       "      <td>1.579661e+09</td>\n",
       "      <td>1.579661e+09</td>\n",
       "    </tr>\n",
       "    <tr>\n",
       "      <th>1</th>\n",
       "      <td>42b2574f-a2a6-4701-870e-a21de8896d68</td>\n",
       "      <td>1.579661e+09</td>\n",
       "      <td>1.579661e+09</td>\n",
       "      <td>1.579661e+09</td>\n",
       "      <td>1.579662e+09</td>\n",
       "      <td>1.579662e+09</td>\n",
       "    </tr>\n",
       "    <tr>\n",
       "      <th>2</th>\n",
       "      <td>8a0bfb52-3107-4da0-bb7b-fcf20ccae83a</td>\n",
       "      <td>1.579660e+09</td>\n",
       "      <td>1.579660e+09</td>\n",
       "      <td>1.579660e+09</td>\n",
       "      <td>1.579661e+09</td>\n",
       "      <td>1.579661e+09</td>\n",
       "    </tr>\n",
       "  </tbody>\n",
       "</table>\n",
       "</div>"
      ],
      "text/plain": [
       "                                   Flow             1             2  \\\n",
       "0  367a61bf-63d0-4d57-9b74-f3b9d7b2461c  1.579661e+09  1.579661e+09   \n",
       "1  42b2574f-a2a6-4701-870e-a21de8896d68  1.579661e+09  1.579661e+09   \n",
       "2  8a0bfb52-3107-4da0-bb7b-fcf20ccae83a  1.579660e+09  1.579660e+09   \n",
       "\n",
       "              3             4             5  \n",
       "0  1.579661e+09  1.579661e+09  1.579661e+09  \n",
       "1  1.579661e+09  1.579662e+09  1.579662e+09  \n",
       "2  1.579660e+09  1.579661e+09  1.579661e+09  "
      ]
     },
     "execution_count": 125,
     "metadata": {},
     "output_type": "execute_result"
    }
   ],
   "source": [
    "adf2"
   ]
  },
  {
   "cell_type": "code",
   "execution_count": 126,
   "metadata": {},
   "outputs": [
    {
     "data": {
      "text/html": [
       "<div>\n",
       "<style scoped>\n",
       "    .dataframe tbody tr th:only-of-type {\n",
       "        vertical-align: middle;\n",
       "    }\n",
       "\n",
       "    .dataframe tbody tr th {\n",
       "        vertical-align: top;\n",
       "    }\n",
       "\n",
       "    .dataframe thead th {\n",
       "        text-align: right;\n",
       "    }\n",
       "</style>\n",
       "<table border=\"1\" class=\"dataframe\">\n",
       "  <thead>\n",
       "    <tr style=\"text-align: right;\">\n",
       "      <th></th>\n",
       "      <th>Flow</th>\n",
       "      <th>metrics</th>\n",
       "      <th>values</th>\n",
       "    </tr>\n",
       "  </thead>\n",
       "  <tbody>\n",
       "    <tr>\n",
       "      <th>0</th>\n",
       "      <td>367a61bf-63d0-4d57-9b74-f3b9d7b2461c</td>\n",
       "      <td>1</td>\n",
       "      <td>1.579661e+09</td>\n",
       "    </tr>\n",
       "    <tr>\n",
       "      <th>1</th>\n",
       "      <td>42b2574f-a2a6-4701-870e-a21de8896d68</td>\n",
       "      <td>1</td>\n",
       "      <td>1.579661e+09</td>\n",
       "    </tr>\n",
       "    <tr>\n",
       "      <th>2</th>\n",
       "      <td>8a0bfb52-3107-4da0-bb7b-fcf20ccae83a</td>\n",
       "      <td>1</td>\n",
       "      <td>1.579660e+09</td>\n",
       "    </tr>\n",
       "    <tr>\n",
       "      <th>3</th>\n",
       "      <td>367a61bf-63d0-4d57-9b74-f3b9d7b2461c</td>\n",
       "      <td>2</td>\n",
       "      <td>1.579661e+09</td>\n",
       "    </tr>\n",
       "    <tr>\n",
       "      <th>4</th>\n",
       "      <td>42b2574f-a2a6-4701-870e-a21de8896d68</td>\n",
       "      <td>2</td>\n",
       "      <td>1.579661e+09</td>\n",
       "    </tr>\n",
       "    <tr>\n",
       "      <th>5</th>\n",
       "      <td>8a0bfb52-3107-4da0-bb7b-fcf20ccae83a</td>\n",
       "      <td>2</td>\n",
       "      <td>1.579660e+09</td>\n",
       "    </tr>\n",
       "    <tr>\n",
       "      <th>6</th>\n",
       "      <td>367a61bf-63d0-4d57-9b74-f3b9d7b2461c</td>\n",
       "      <td>3</td>\n",
       "      <td>1.579661e+09</td>\n",
       "    </tr>\n",
       "    <tr>\n",
       "      <th>7</th>\n",
       "      <td>42b2574f-a2a6-4701-870e-a21de8896d68</td>\n",
       "      <td>3</td>\n",
       "      <td>1.579661e+09</td>\n",
       "    </tr>\n",
       "    <tr>\n",
       "      <th>8</th>\n",
       "      <td>8a0bfb52-3107-4da0-bb7b-fcf20ccae83a</td>\n",
       "      <td>3</td>\n",
       "      <td>1.579660e+09</td>\n",
       "    </tr>\n",
       "    <tr>\n",
       "      <th>9</th>\n",
       "      <td>367a61bf-63d0-4d57-9b74-f3b9d7b2461c</td>\n",
       "      <td>4</td>\n",
       "      <td>1.579661e+09</td>\n",
       "    </tr>\n",
       "    <tr>\n",
       "      <th>10</th>\n",
       "      <td>42b2574f-a2a6-4701-870e-a21de8896d68</td>\n",
       "      <td>4</td>\n",
       "      <td>1.579662e+09</td>\n",
       "    </tr>\n",
       "    <tr>\n",
       "      <th>11</th>\n",
       "      <td>8a0bfb52-3107-4da0-bb7b-fcf20ccae83a</td>\n",
       "      <td>4</td>\n",
       "      <td>1.579661e+09</td>\n",
       "    </tr>\n",
       "    <tr>\n",
       "      <th>12</th>\n",
       "      <td>367a61bf-63d0-4d57-9b74-f3b9d7b2461c</td>\n",
       "      <td>5</td>\n",
       "      <td>1.579661e+09</td>\n",
       "    </tr>\n",
       "    <tr>\n",
       "      <th>13</th>\n",
       "      <td>42b2574f-a2a6-4701-870e-a21de8896d68</td>\n",
       "      <td>5</td>\n",
       "      <td>1.579662e+09</td>\n",
       "    </tr>\n",
       "    <tr>\n",
       "      <th>14</th>\n",
       "      <td>8a0bfb52-3107-4da0-bb7b-fcf20ccae83a</td>\n",
       "      <td>5</td>\n",
       "      <td>1.579661e+09</td>\n",
       "    </tr>\n",
       "  </tbody>\n",
       "</table>\n",
       "</div>"
      ],
      "text/plain": [
       "                                    Flow metrics        values\n",
       "0   367a61bf-63d0-4d57-9b74-f3b9d7b2461c       1  1.579661e+09\n",
       "1   42b2574f-a2a6-4701-870e-a21de8896d68       1  1.579661e+09\n",
       "2   8a0bfb52-3107-4da0-bb7b-fcf20ccae83a       1  1.579660e+09\n",
       "3   367a61bf-63d0-4d57-9b74-f3b9d7b2461c       2  1.579661e+09\n",
       "4   42b2574f-a2a6-4701-870e-a21de8896d68       2  1.579661e+09\n",
       "5   8a0bfb52-3107-4da0-bb7b-fcf20ccae83a       2  1.579660e+09\n",
       "6   367a61bf-63d0-4d57-9b74-f3b9d7b2461c       3  1.579661e+09\n",
       "7   42b2574f-a2a6-4701-870e-a21de8896d68       3  1.579661e+09\n",
       "8   8a0bfb52-3107-4da0-bb7b-fcf20ccae83a       3  1.579660e+09\n",
       "9   367a61bf-63d0-4d57-9b74-f3b9d7b2461c       4  1.579661e+09\n",
       "10  42b2574f-a2a6-4701-870e-a21de8896d68       4  1.579662e+09\n",
       "11  8a0bfb52-3107-4da0-bb7b-fcf20ccae83a       4  1.579661e+09\n",
       "12  367a61bf-63d0-4d57-9b74-f3b9d7b2461c       5  1.579661e+09\n",
       "13  42b2574f-a2a6-4701-870e-a21de8896d68       5  1.579662e+09\n",
       "14  8a0bfb52-3107-4da0-bb7b-fcf20ccae83a       5  1.579661e+09"
      ]
     },
     "execution_count": 126,
     "metadata": {},
     "output_type": "execute_result"
    }
   ],
   "source": [
    "df4=pd.melt(adf2,id_vars=['Flow'],var_name='metrics', value_name='values')\n",
    "df4"
   ]
  },
  {
   "cell_type": "code",
   "execution_count": 127,
   "metadata": {},
   "outputs": [
    {
     "data": {
      "text/plain": [
       "<matplotlib.axes._subplots.AxesSubplot at 0x7f7b96cb4e80>"
      ]
     },
     "execution_count": 127,
     "metadata": {},
     "output_type": "execute_result"
    },
    {
     "data": {
      "image/png": "[encoded data removed]",
      "text/plain": [
       "<Figure size 432x288 with 1 Axes>"
      ]
     },
     "metadata": {
      "needs_background": "light"
     },
     "output_type": "display_data"
    }
   ],
   "source": [
    "df4.plot(kind='line', label=\"Flow\")"
   ]
  },
  {
   "cell_type": "code",
   "execution_count": 149,
   "metadata": {},
   "outputs": [
    {
     "data": {
      "image/png": "[encoded data removed]",
      "text/plain": [
       "<Figure size 432x288 with 1 Axes>"
      ]
     },
     "metadata": {
      "needs_background": "light"
     },
     "output_type": "display_data"
    }
   ],
   "source": [
    "# df2.plot(kind='scatter', y='values', x='metrics')\n",
    "fig, ax = plt.subplots()\n",
    "df4.groupby(\"Flow\").plot(x=\"values\", y=\"metrics\", ax=ax, legend=None)\n",
    "plt.show()"
   ]
  },
  {
   "cell_type": "code",
   "execution_count": null,
   "metadata": {},
   "outputs": [],
   "source": []
  },
  {
   "cell_type": "code",
   "execution_count": 129,
   "metadata": {},
   "outputs": [],
   "source": [
    "df4.to_csv('xpcs_melt_numeric.csv')"
   ]
  },
  {
   "cell_type": "code",
   "execution_count": 130,
   "metadata": {},
   "outputs": [
    {
     "data": {
      "text/plain": [
       "<matplotlib.axes._subplots.AxesSubplot at 0x7f7b97109588>"
      ]
     },
     "execution_count": 130,
     "metadata": {},
     "output_type": "execute_result"
    },
    {
     "data": {
      "image/png": "[encoded data removed]",
      "text/plain": [
       "<Figure size 432x288 with 1 Axes>"
      ]
     },
     "metadata": {
      "needs_background": "light"
     },
     "output_type": "display_data"
    }
   ],
   "source": [
    "\n",
    "df3 = df4.pivot(index='Flow', columns='metrics', values='values')\n",
    "# df3\n",
    "df3.plot()"
   ]
  },
  {
   "cell_type": "code",
   "execution_count": 131,
   "metadata": {},
   "outputs": [],
   "source": [
    "xdf = pd.read_csv('xpcs_melt_numeric.csv')"
   ]
  },
  {
   "cell_type": "code",
   "execution_count": 132,
   "metadata": {},
   "outputs": [
    {
     "data": {
      "text/html": [
       "<div>\n",
       "<style scoped>\n",
       "    .dataframe tbody tr th:only-of-type {\n",
       "        vertical-align: middle;\n",
       "    }\n",
       "\n",
       "    .dataframe tbody tr th {\n",
       "        vertical-align: top;\n",
       "    }\n",
       "\n",
       "    .dataframe thead th {\n",
       "        text-align: right;\n",
       "    }\n",
       "</style>\n",
       "<table border=\"1\" class=\"dataframe\">\n",
       "  <thead>\n",
       "    <tr style=\"text-align: right;\">\n",
       "      <th></th>\n",
       "      <th>Unnamed: 0</th>\n",
       "      <th>Flow</th>\n",
       "      <th>metrics</th>\n",
       "      <th>values</th>\n",
       "    </tr>\n",
       "  </thead>\n",
       "  <tbody>\n",
       "    <tr>\n",
       "      <th>0</th>\n",
       "      <td>0</td>\n",
       "      <td>367a61bf-63d0-4d57-9b74-f3b9d7b2461c</td>\n",
       "      <td>1</td>\n",
       "      <td>1.579661e+09</td>\n",
       "    </tr>\n",
       "    <tr>\n",
       "      <th>1</th>\n",
       "      <td>1</td>\n",
       "      <td>42b2574f-a2a6-4701-870e-a21de8896d68</td>\n",
       "      <td>1</td>\n",
       "      <td>1.579661e+09</td>\n",
       "    </tr>\n",
       "    <tr>\n",
       "      <th>2</th>\n",
       "      <td>2</td>\n",
       "      <td>8a0bfb52-3107-4da0-bb7b-fcf20ccae83a</td>\n",
       "      <td>1</td>\n",
       "      <td>1.579660e+09</td>\n",
       "    </tr>\n",
       "    <tr>\n",
       "      <th>3</th>\n",
       "      <td>3</td>\n",
       "      <td>367a61bf-63d0-4d57-9b74-f3b9d7b2461c</td>\n",
       "      <td>2</td>\n",
       "      <td>1.579661e+09</td>\n",
       "    </tr>\n",
       "    <tr>\n",
       "      <th>4</th>\n",
       "      <td>4</td>\n",
       "      <td>42b2574f-a2a6-4701-870e-a21de8896d68</td>\n",
       "      <td>2</td>\n",
       "      <td>1.579661e+09</td>\n",
       "    </tr>\n",
       "    <tr>\n",
       "      <th>5</th>\n",
       "      <td>5</td>\n",
       "      <td>8a0bfb52-3107-4da0-bb7b-fcf20ccae83a</td>\n",
       "      <td>2</td>\n",
       "      <td>1.579660e+09</td>\n",
       "    </tr>\n",
       "    <tr>\n",
       "      <th>6</th>\n",
       "      <td>6</td>\n",
       "      <td>367a61bf-63d0-4d57-9b74-f3b9d7b2461c</td>\n",
       "      <td>3</td>\n",
       "      <td>1.579661e+09</td>\n",
       "    </tr>\n",
       "    <tr>\n",
       "      <th>7</th>\n",
       "      <td>7</td>\n",
       "      <td>42b2574f-a2a6-4701-870e-a21de8896d68</td>\n",
       "      <td>3</td>\n",
       "      <td>1.579661e+09</td>\n",
       "    </tr>\n",
       "    <tr>\n",
       "      <th>8</th>\n",
       "      <td>8</td>\n",
       "      <td>8a0bfb52-3107-4da0-bb7b-fcf20ccae83a</td>\n",
       "      <td>3</td>\n",
       "      <td>1.579660e+09</td>\n",
       "    </tr>\n",
       "    <tr>\n",
       "      <th>9</th>\n",
       "      <td>9</td>\n",
       "      <td>367a61bf-63d0-4d57-9b74-f3b9d7b2461c</td>\n",
       "      <td>4</td>\n",
       "      <td>1.579661e+09</td>\n",
       "    </tr>\n",
       "    <tr>\n",
       "      <th>10</th>\n",
       "      <td>10</td>\n",
       "      <td>42b2574f-a2a6-4701-870e-a21de8896d68</td>\n",
       "      <td>4</td>\n",
       "      <td>1.579662e+09</td>\n",
       "    </tr>\n",
       "    <tr>\n",
       "      <th>11</th>\n",
       "      <td>11</td>\n",
       "      <td>8a0bfb52-3107-4da0-bb7b-fcf20ccae83a</td>\n",
       "      <td>4</td>\n",
       "      <td>1.579661e+09</td>\n",
       "    </tr>\n",
       "    <tr>\n",
       "      <th>12</th>\n",
       "      <td>12</td>\n",
       "      <td>367a61bf-63d0-4d57-9b74-f3b9d7b2461c</td>\n",
       "      <td>5</td>\n",
       "      <td>1.579661e+09</td>\n",
       "    </tr>\n",
       "    <tr>\n",
       "      <th>13</th>\n",
       "      <td>13</td>\n",
       "      <td>42b2574f-a2a6-4701-870e-a21de8896d68</td>\n",
       "      <td>5</td>\n",
       "      <td>1.579662e+09</td>\n",
       "    </tr>\n",
       "    <tr>\n",
       "      <th>14</th>\n",
       "      <td>14</td>\n",
       "      <td>8a0bfb52-3107-4da0-bb7b-fcf20ccae83a</td>\n",
       "      <td>5</td>\n",
       "      <td>1.579661e+09</td>\n",
       "    </tr>\n",
       "  </tbody>\n",
       "</table>\n",
       "</div>"
      ],
      "text/plain": [
       "    Unnamed: 0                                  Flow  metrics        values\n",
       "0            0  367a61bf-63d0-4d57-9b74-f3b9d7b2461c        1  1.579661e+09\n",
       "1            1  42b2574f-a2a6-4701-870e-a21de8896d68        1  1.579661e+09\n",
       "2            2  8a0bfb52-3107-4da0-bb7b-fcf20ccae83a        1  1.579660e+09\n",
       "3            3  367a61bf-63d0-4d57-9b74-f3b9d7b2461c        2  1.579661e+09\n",
       "4            4  42b2574f-a2a6-4701-870e-a21de8896d68        2  1.579661e+09\n",
       "5            5  8a0bfb52-3107-4da0-bb7b-fcf20ccae83a        2  1.579660e+09\n",
       "6            6  367a61bf-63d0-4d57-9b74-f3b9d7b2461c        3  1.579661e+09\n",
       "7            7  42b2574f-a2a6-4701-870e-a21de8896d68        3  1.579661e+09\n",
       "8            8  8a0bfb52-3107-4da0-bb7b-fcf20ccae83a        3  1.579660e+09\n",
       "9            9  367a61bf-63d0-4d57-9b74-f3b9d7b2461c        4  1.579661e+09\n",
       "10          10  42b2574f-a2a6-4701-870e-a21de8896d68        4  1.579662e+09\n",
       "11          11  8a0bfb52-3107-4da0-bb7b-fcf20ccae83a        4  1.579661e+09\n",
       "12          12  367a61bf-63d0-4d57-9b74-f3b9d7b2461c        5  1.579661e+09\n",
       "13          13  42b2574f-a2a6-4701-870e-a21de8896d68        5  1.579662e+09\n",
       "14          14  8a0bfb52-3107-4da0-bb7b-fcf20ccae83a        5  1.579661e+09"
      ]
     },
     "execution_count": 132,
     "metadata": {},
     "output_type": "execute_result"
    }
   ],
   "source": [
    "xdf"
   ]
  },
  {
   "cell_type": "code",
   "execution_count": 133,
   "metadata": {},
   "outputs": [
    {
     "data": {
      "image/png": "[encoded data removed]",
      "text/plain": [
       "<Figure size 432x288 with 1 Axes>"
      ]
     },
     "metadata": {
      "needs_background": "light"
     },
     "output_type": "display_data"
    }
   ],
   "source": [
    "ticks = ['', 'Start', 'Transfer1', 'ExecCorr', 'Transfer2',\n",
    "#          'ExecPlots', 'StageToPetrel', 'StageImagesToPetrel', \n",
    "         'End']\n",
    "\n",
    "fig, ax = plt.subplots()\n",
    "xdf.groupby(\"Flow\").plot(x=\"values\", y=\"metrics\", ax=ax, legend=None)\n",
    "ax.set_yticklabels(ticks)\n",
    "plt.show()"
   ]
  },
  {
   "cell_type": "code",
   "execution_count": 114,
   "metadata": {},
   "outputs": [],
   "source": [
    "adf2.to_csv('xpcs_numeric.csv')"
   ]
  },
  {
   "cell_type": "code",
   "execution_count": 115,
   "metadata": {},
   "outputs": [
    {
     "ename": "FileNotFoundError",
     "evalue": "[Errno 2] File b'xpcs_automate.csv' does not exist: b'xpcs_automate.csv'",
     "output_type": "error",
     "traceback": [
      "\u001b[0;31m---------------------------------------------------------------------------\u001b[0m",
      "\u001b[0;31mFileNotFoundError\u001b[0m                         Traceback (most recent call last)",
      "\u001b[0;32m<ipython-input-115-0e36b7012937>\u001b[0m in \u001b[0;36m<module>\u001b[0;34m\u001b[0m\n\u001b[0;32m----> 1\u001b[0;31m \u001b[0mall_df\u001b[0m \u001b[0;34m=\u001b[0m \u001b[0mpd\u001b[0m\u001b[0;34m.\u001b[0m\u001b[0mread_csv\u001b[0m\u001b[0;34m(\u001b[0m\u001b[0;34m'xpcs_automate.csv'\u001b[0m\u001b[0;34m)\u001b[0m\u001b[0;34m\u001b[0m\u001b[0;34m\u001b[0m\u001b[0m\n\u001b[0m\u001b[1;32m      2\u001b[0m \u001b[0mxdf2\u001b[0m \u001b[0;34m=\u001b[0m \u001b[0madf2\u001b[0m\u001b[0;34m.\u001b[0m\u001b[0msort_values\u001b[0m\u001b[0;34m(\u001b[0m\u001b[0;34m[\u001b[0m\u001b[0;36m1\u001b[0m\u001b[0;34m]\u001b[0m\u001b[0;34m)\u001b[0m\u001b[0;34m[\u001b[0m\u001b[0;34m:\u001b[0m\u001b[0;36m20\u001b[0m\u001b[0;34m]\u001b[0m\u001b[0;34m\u001b[0m\u001b[0;34m\u001b[0m\u001b[0m\n\u001b[1;32m      3\u001b[0m \u001b[0mxdf2\u001b[0m\u001b[0;34m\u001b[0m\u001b[0;34m\u001b[0m\u001b[0m\n",
      "\u001b[0;32m~/.miniconda3/envs/automate/lib/python3.6/site-packages/pandas/io/parsers.py\u001b[0m in \u001b[0;36mparser_f\u001b[0;34m(filepath_or_buffer, sep, delimiter, header, names, index_col, usecols, squeeze, prefix, mangle_dupe_cols, dtype, engine, converters, true_values, false_values, skipinitialspace, skiprows, skipfooter, nrows, na_values, keep_default_na, na_filter, verbose, skip_blank_lines, parse_dates, infer_datetime_format, keep_date_col, date_parser, dayfirst, cache_dates, iterator, chunksize, compression, thousands, decimal, lineterminator, quotechar, quoting, doublequote, escapechar, comment, encoding, dialect, error_bad_lines, warn_bad_lines, delim_whitespace, low_memory, memory_map, float_precision)\u001b[0m\n\u001b[1;32m    683\u001b[0m         )\n\u001b[1;32m    684\u001b[0m \u001b[0;34m\u001b[0m\u001b[0m\n\u001b[0;32m--> 685\u001b[0;31m         \u001b[0;32mreturn\u001b[0m \u001b[0m_read\u001b[0m\u001b[0;34m(\u001b[0m\u001b[0mfilepath_or_buffer\u001b[0m\u001b[0;34m,\u001b[0m \u001b[0mkwds\u001b[0m\u001b[0;34m)\u001b[0m\u001b[0;34m\u001b[0m\u001b[0;34m\u001b[0m\u001b[0m\n\u001b[0m\u001b[1;32m    686\u001b[0m \u001b[0;34m\u001b[0m\u001b[0m\n\u001b[1;32m    687\u001b[0m     \u001b[0mparser_f\u001b[0m\u001b[0;34m.\u001b[0m\u001b[0m__name__\u001b[0m \u001b[0;34m=\u001b[0m \u001b[0mname\u001b[0m\u001b[0;34m\u001b[0m\u001b[0;34m\u001b[0m\u001b[0m\n",
      "\u001b[0;32m~/.miniconda3/envs/automate/lib/python3.6/site-packages/pandas/io/parsers.py\u001b[0m in \u001b[0;36m_read\u001b[0;34m(filepath_or_buffer, kwds)\u001b[0m\n\u001b[1;32m    455\u001b[0m \u001b[0;34m\u001b[0m\u001b[0m\n\u001b[1;32m    456\u001b[0m     \u001b[0;31m# Create the parser.\u001b[0m\u001b[0;34m\u001b[0m\u001b[0;34m\u001b[0m\u001b[0;34m\u001b[0m\u001b[0m\n\u001b[0;32m--> 457\u001b[0;31m     \u001b[0mparser\u001b[0m \u001b[0;34m=\u001b[0m \u001b[0mTextFileReader\u001b[0m\u001b[0;34m(\u001b[0m\u001b[0mfp_or_buf\u001b[0m\u001b[0;34m,\u001b[0m \u001b[0;34m**\u001b[0m\u001b[0mkwds\u001b[0m\u001b[0;34m)\u001b[0m\u001b[0;34m\u001b[0m\u001b[0;34m\u001b[0m\u001b[0m\n\u001b[0m\u001b[1;32m    458\u001b[0m \u001b[0;34m\u001b[0m\u001b[0m\n\u001b[1;32m    459\u001b[0m     \u001b[0;32mif\u001b[0m \u001b[0mchunksize\u001b[0m \u001b[0;32mor\u001b[0m \u001b[0miterator\u001b[0m\u001b[0;34m:\u001b[0m\u001b[0;34m\u001b[0m\u001b[0;34m\u001b[0m\u001b[0m\n",
      "\u001b[0;32m~/.miniconda3/envs/automate/lib/python3.6/site-packages/pandas/io/parsers.py\u001b[0m in \u001b[0;36m__init__\u001b[0;34m(self, f, engine, **kwds)\u001b[0m\n\u001b[1;32m    893\u001b[0m             \u001b[0mself\u001b[0m\u001b[0;34m.\u001b[0m\u001b[0moptions\u001b[0m\u001b[0;34m[\u001b[0m\u001b[0;34m\"has_index_names\"\u001b[0m\u001b[0;34m]\u001b[0m \u001b[0;34m=\u001b[0m \u001b[0mkwds\u001b[0m\u001b[0;34m[\u001b[0m\u001b[0;34m\"has_index_names\"\u001b[0m\u001b[0;34m]\u001b[0m\u001b[0;34m\u001b[0m\u001b[0;34m\u001b[0m\u001b[0m\n\u001b[1;32m    894\u001b[0m \u001b[0;34m\u001b[0m\u001b[0m\n\u001b[0;32m--> 895\u001b[0;31m         \u001b[0mself\u001b[0m\u001b[0;34m.\u001b[0m\u001b[0m_make_engine\u001b[0m\u001b[0;34m(\u001b[0m\u001b[0mself\u001b[0m\u001b[0;34m.\u001b[0m\u001b[0mengine\u001b[0m\u001b[0;34m)\u001b[0m\u001b[0;34m\u001b[0m\u001b[0;34m\u001b[0m\u001b[0m\n\u001b[0m\u001b[1;32m    896\u001b[0m \u001b[0;34m\u001b[0m\u001b[0m\n\u001b[1;32m    897\u001b[0m     \u001b[0;32mdef\u001b[0m \u001b[0mclose\u001b[0m\u001b[0;34m(\u001b[0m\u001b[0mself\u001b[0m\u001b[0;34m)\u001b[0m\u001b[0;34m:\u001b[0m\u001b[0;34m\u001b[0m\u001b[0;34m\u001b[0m\u001b[0m\n",
      "\u001b[0;32m~/.miniconda3/envs/automate/lib/python3.6/site-packages/pandas/io/parsers.py\u001b[0m in \u001b[0;36m_make_engine\u001b[0;34m(self, engine)\u001b[0m\n\u001b[1;32m   1133\u001b[0m     \u001b[0;32mdef\u001b[0m \u001b[0m_make_engine\u001b[0m\u001b[0;34m(\u001b[0m\u001b[0mself\u001b[0m\u001b[0;34m,\u001b[0m \u001b[0mengine\u001b[0m\u001b[0;34m=\u001b[0m\u001b[0;34m\"c\"\u001b[0m\u001b[0;34m)\u001b[0m\u001b[0;34m:\u001b[0m\u001b[0;34m\u001b[0m\u001b[0;34m\u001b[0m\u001b[0m\n\u001b[1;32m   1134\u001b[0m         \u001b[0;32mif\u001b[0m \u001b[0mengine\u001b[0m \u001b[0;34m==\u001b[0m \u001b[0;34m\"c\"\u001b[0m\u001b[0;34m:\u001b[0m\u001b[0;34m\u001b[0m\u001b[0;34m\u001b[0m\u001b[0m\n\u001b[0;32m-> 1135\u001b[0;31m             \u001b[0mself\u001b[0m\u001b[0;34m.\u001b[0m\u001b[0m_engine\u001b[0m \u001b[0;34m=\u001b[0m \u001b[0mCParserWrapper\u001b[0m\u001b[0;34m(\u001b[0m\u001b[0mself\u001b[0m\u001b[0;34m.\u001b[0m\u001b[0mf\u001b[0m\u001b[0;34m,\u001b[0m \u001b[0;34m**\u001b[0m\u001b[0mself\u001b[0m\u001b[0;34m.\u001b[0m\u001b[0moptions\u001b[0m\u001b[0;34m)\u001b[0m\u001b[0;34m\u001b[0m\u001b[0;34m\u001b[0m\u001b[0m\n\u001b[0m\u001b[1;32m   1136\u001b[0m         \u001b[0;32melse\u001b[0m\u001b[0;34m:\u001b[0m\u001b[0;34m\u001b[0m\u001b[0;34m\u001b[0m\u001b[0m\n\u001b[1;32m   1137\u001b[0m             \u001b[0;32mif\u001b[0m \u001b[0mengine\u001b[0m \u001b[0;34m==\u001b[0m \u001b[0;34m\"python\"\u001b[0m\u001b[0;34m:\u001b[0m\u001b[0;34m\u001b[0m\u001b[0;34m\u001b[0m\u001b[0m\n",
      "\u001b[0;32m~/.miniconda3/envs/automate/lib/python3.6/site-packages/pandas/io/parsers.py\u001b[0m in \u001b[0;36m__init__\u001b[0;34m(self, src, **kwds)\u001b[0m\n\u001b[1;32m   1915\u001b[0m         \u001b[0mkwds\u001b[0m\u001b[0;34m[\u001b[0m\u001b[0;34m\"usecols\"\u001b[0m\u001b[0;34m]\u001b[0m \u001b[0;34m=\u001b[0m \u001b[0mself\u001b[0m\u001b[0;34m.\u001b[0m\u001b[0musecols\u001b[0m\u001b[0;34m\u001b[0m\u001b[0;34m\u001b[0m\u001b[0m\n\u001b[1;32m   1916\u001b[0m \u001b[0;34m\u001b[0m\u001b[0m\n\u001b[0;32m-> 1917\u001b[0;31m         \u001b[0mself\u001b[0m\u001b[0;34m.\u001b[0m\u001b[0m_reader\u001b[0m \u001b[0;34m=\u001b[0m \u001b[0mparsers\u001b[0m\u001b[0;34m.\u001b[0m\u001b[0mTextReader\u001b[0m\u001b[0;34m(\u001b[0m\u001b[0msrc\u001b[0m\u001b[0;34m,\u001b[0m \u001b[0;34m**\u001b[0m\u001b[0mkwds\u001b[0m\u001b[0;34m)\u001b[0m\u001b[0;34m\u001b[0m\u001b[0;34m\u001b[0m\u001b[0m\n\u001b[0m\u001b[1;32m   1918\u001b[0m         \u001b[0mself\u001b[0m\u001b[0;34m.\u001b[0m\u001b[0munnamed_cols\u001b[0m \u001b[0;34m=\u001b[0m \u001b[0mself\u001b[0m\u001b[0;34m.\u001b[0m\u001b[0m_reader\u001b[0m\u001b[0;34m.\u001b[0m\u001b[0munnamed_cols\u001b[0m\u001b[0;34m\u001b[0m\u001b[0;34m\u001b[0m\u001b[0m\n\u001b[1;32m   1919\u001b[0m \u001b[0;34m\u001b[0m\u001b[0m\n",
      "\u001b[0;32mpandas/_libs/parsers.pyx\u001b[0m in \u001b[0;36mpandas._libs.parsers.TextReader.__cinit__\u001b[0;34m()\u001b[0m\n",
      "\u001b[0;32mpandas/_libs/parsers.pyx\u001b[0m in \u001b[0;36mpandas._libs.parsers.TextReader._setup_parser_source\u001b[0;34m()\u001b[0m\n",
      "\u001b[0;31mFileNotFoundError\u001b[0m: [Errno 2] File b'xpcs_automate.csv' does not exist: b'xpcs_automate.csv'"
     ]
    }
   ],
   "source": [
    "all_df = pd.read_csv('xpcs_automate.csv')\n",
    "xdf2 = adf2.sort_values([1])[:20]\n",
    "xdf2"
   ]
  },
  {
   "cell_type": "code",
   "execution_count": 77,
   "metadata": {},
   "outputs": [
    {
     "ename": "NameError",
     "evalue": "name 'xdf2' is not defined",
     "output_type": "error",
     "traceback": [
      "\u001b[0;31m---------------------------------------------------------------------------\u001b[0m",
      "\u001b[0;31mNameError\u001b[0m                                 Traceback (most recent call last)",
      "\u001b[0;32m<ipython-input-77-e351fcd80694>\u001b[0m in \u001b[0;36m<module>\u001b[0;34m\u001b[0m\n\u001b[0;32m----> 1\u001b[0;31m \u001b[0mxdf2\u001b[0m\u001b[0;34m=\u001b[0m\u001b[0mpd\u001b[0m\u001b[0;34m.\u001b[0m\u001b[0mmelt\u001b[0m\u001b[0;34m(\u001b[0m\u001b[0mxdf2\u001b[0m\u001b[0;34m,\u001b[0m\u001b[0mid_vars\u001b[0m\u001b[0;34m=\u001b[0m\u001b[0;34m[\u001b[0m\u001b[0;34m'Flow'\u001b[0m\u001b[0;34m]\u001b[0m\u001b[0;34m,\u001b[0m\u001b[0mvar_name\u001b[0m\u001b[0;34m=\u001b[0m\u001b[0;34m'metrics'\u001b[0m\u001b[0;34m,\u001b[0m \u001b[0mvalue_name\u001b[0m\u001b[0;34m=\u001b[0m\u001b[0;34m'values'\u001b[0m\u001b[0;34m)\u001b[0m\u001b[0;34m\u001b[0m\u001b[0;34m\u001b[0m\u001b[0m\n\u001b[0m",
      "\u001b[0;31mNameError\u001b[0m: name 'xdf2' is not defined"
     ]
    }
   ],
   "source": [
    "xdf2=pd.melt(xdf2,id_vars=['Flow'],var_name='metrics', value_name='values')"
   ]
  },
  {
   "cell_type": "code",
   "execution_count": 78,
   "metadata": {},
   "outputs": [
    {
     "ename": "NameError",
     "evalue": "name 'xdf2' is not defined",
     "output_type": "error",
     "traceback": [
      "\u001b[0;31m---------------------------------------------------------------------------\u001b[0m",
      "\u001b[0;31mNameError\u001b[0m                                 Traceback (most recent call last)",
      "\u001b[0;32m<ipython-input-78-a1b4d2189bff>\u001b[0m in \u001b[0;36m<module>\u001b[0;34m\u001b[0m\n\u001b[1;32m      2\u001b[0m \u001b[0;34m\u001b[0m\u001b[0m\n\u001b[1;32m      3\u001b[0m \u001b[0mfig\u001b[0m\u001b[0;34m,\u001b[0m \u001b[0max\u001b[0m \u001b[0;34m=\u001b[0m \u001b[0mplt\u001b[0m\u001b[0;34m.\u001b[0m\u001b[0msubplots\u001b[0m\u001b[0;34m(\u001b[0m\u001b[0;34m)\u001b[0m\u001b[0;34m\u001b[0m\u001b[0;34m\u001b[0m\u001b[0m\n\u001b[0;32m----> 4\u001b[0;31m \u001b[0mxdf2\u001b[0m\u001b[0;34m.\u001b[0m\u001b[0mgroupby\u001b[0m\u001b[0;34m(\u001b[0m\u001b[0;34m\"Flow\"\u001b[0m\u001b[0;34m)\u001b[0m\u001b[0;34m.\u001b[0m\u001b[0mplot\u001b[0m\u001b[0;34m(\u001b[0m\u001b[0mx\u001b[0m\u001b[0;34m=\u001b[0m\u001b[0;34m\"values\"\u001b[0m\u001b[0;34m,\u001b[0m \u001b[0my\u001b[0m\u001b[0;34m=\u001b[0m\u001b[0;34m\"metrics\"\u001b[0m\u001b[0;34m,\u001b[0m \u001b[0max\u001b[0m\u001b[0;34m=\u001b[0m\u001b[0max\u001b[0m\u001b[0;34m,\u001b[0m \u001b[0mlegend\u001b[0m\u001b[0;34m=\u001b[0m\u001b[0;32mNone\u001b[0m\u001b[0;34m)\u001b[0m\u001b[0;34m\u001b[0m\u001b[0;34m\u001b[0m\u001b[0m\n\u001b[0m\u001b[1;32m      5\u001b[0m \u001b[0max\u001b[0m\u001b[0;34m.\u001b[0m\u001b[0mset_yticklabels\u001b[0m\u001b[0;34m(\u001b[0m\u001b[0mticks\u001b[0m\u001b[0;34m)\u001b[0m\u001b[0;34m\u001b[0m\u001b[0;34m\u001b[0m\u001b[0m\n\u001b[1;32m      6\u001b[0m \u001b[0mplt\u001b[0m\u001b[0;34m.\u001b[0m\u001b[0mshow\u001b[0m\u001b[0;34m(\u001b[0m\u001b[0;34m)\u001b[0m\u001b[0;34m\u001b[0m\u001b[0;34m\u001b[0m\u001b[0m\n",
      "\u001b[0;31mNameError\u001b[0m: name 'xdf2' is not defined"
     ]
    },
    {
     "data": {
      "image/png": "[encoded data removed]",
      "text/plain": [
       "<Figure size 432x288 with 1 Axes>"
      ]
     },
     "metadata": {
      "needs_background": "light"
     },
     "output_type": "display_data"
    }
   ],
   "source": [
    "ticks = ['', 'Start', 'Transfer1', 'Transfer2', 'ExecCorr', 'ExecPlots', 'StageToPetrel', 'StageImagesToPetrel', 'End']\n",
    "\n",
    "fig, ax = plt.subplots()\n",
    "xdf2.groupby(\"Flow\").plot(x=\"values\", y=\"metrics\", ax=ax, legend=None)\n",
    "ax.set_yticklabels(ticks)\n",
    "plt.show()"
   ]
  },
  {
   "cell_type": "code",
   "execution_count": null,
   "metadata": {},
   "outputs": [],
   "source": []
  },
  {
   "cell_type": "code",
   "execution_count": null,
   "metadata": {},
   "outputs": [],
   "source": []
  },
  {
   "cell_type": "code",
   "execution_count": null,
   "metadata": {},
   "outputs": [],
   "source": []
  },
  {
   "cell_type": "code",
   "execution_count": null,
   "metadata": {},
   "outputs": [],
   "source": []
  },
  {
   "cell_type": "code",
   "execution_count": null,
   "metadata": {},
   "outputs": [],
   "source": []
  },
  {
   "cell_type": "code",
   "execution_count": null,
   "metadata": {},
   "outputs": [],
   "source": []
  },
  {
   "cell_type": "code",
   "execution_count": null,
   "metadata": {},
   "outputs": [],
   "source": []
  },
  {
   "cell_type": "code",
   "execution_count": null,
   "metadata": {},
   "outputs": [],
   "source": []
  },
  {
   "cell_type": "code",
   "execution_count": null,
   "metadata": {},
   "outputs": [],
   "source": []
  },
  {
   "cell_type": "code",
   "execution_count": null,
   "metadata": {},
   "outputs": [],
   "source": []
  },
  {
   "cell_type": "code",
   "execution_count": null,
   "metadata": {},
   "outputs": [],
   "source": []
  },
  {
   "cell_type": "code",
   "execution_count": null,
   "metadata": {},
   "outputs": [],
   "source": []
  },
  {
   "cell_type": "code",
   "execution_count": null,
   "metadata": {},
   "outputs": [],
   "source": []
  },
  {
   "cell_type": "code",
   "execution_count": null,
   "metadata": {},
   "outputs": [],
   "source": []
  },
  {
   "cell_type": "code",
   "execution_count": null,
   "metadata": {},
   "outputs": [],
   "source": []
  },
  {
   "cell_type": "markdown",
   "metadata": {},
   "source": [
    "# Testing"
   ]
  },
  {
   "cell_type": "code",
   "execution_count": 14,
   "metadata": {},
   "outputs": [
    {
     "name": "stdout",
     "output_type": "stream",
     "text": [
      "{'data': {'hdf': '/projects/APSDataAnalysis/Automate/test/test.hdf', 'imm': '/projects/APSDataAnalysis/Automate/test/test.imm', 'metadata': '/projects/APSDataAnalysis/Automate/test/test.json'}}\n"
     ]
    }
   ],
   "source": [
    "# event = {\"data\": {\n",
    "#          \"hdf\": \"/projects/APSDataAnalysis/Automate/A001_Aerogel2/A001_Aerogel2.hdf\",\n",
    "#          \"imm\": \"/projects/APSDataAnalysis/Automate/A001_Aerogel2/A001_Aerogel2.imm\",\n",
    "# #          \"flags\": \"--rigaku\",     \n",
    "#          \"metadata\": \"/projects/APSDataAnalysis/Automate/A001_Aerogel2/A001_Aerogel2.json\"      \n",
    "#      }}\n",
    "print(event)\n",
    "# res = fxc.run(event, endpoint_id=theta_ep, function_id=alcf_xpcs_corr_func_uuid)\n",
    "res = fxc.run(event, endpoint_id=theta_30_ep, function_id=alcf_xpcs_corr_func_uuid)"
   ]
  },
  {
   "cell_type": "code",
   "execution_count": 20,
   "metadata": {},
   "outputs": [
    {
     "data": {
      "text/plain": [
       "{'completion_t': 1579637040.204562,\n",
       " 'result': '01\\ngANYBwMAAGInWzIwMjAtMDEtMjEgMjA6MDE6NDAuMjY4XSBbY29uc29sZV0gW2luZm9dIEg1IG1l\\ndGFkYXRhIHBhdGggL3hwY3NcblsyMDIwLTAxLTIxIDIwOjAxOjQwLjY4NF0gW2NvbnNvbGVdIFtp\\nbmZvXSBCdWlsZFFNYXAoKSB0b29rIDE4OSBtc1xuWzIwMjAtMDEtMjEgMjA6MDE6NDAuNjg2XSBb\\nY29uc29sZV0gW2luZm9dIENvbmZpZ3VyYXRpb24gVG90YWwgdG9vayA0MDQgbXNcblsyMDIwLTAx\\nLTIxIDIwOjAxOjQwLjY4Nl0gW2NvbnNvbGVdIFtpbmZvXSBQcm9jZXNzaW5nIElNTSBmaWxlIGF0\\nIHBhdGggL3Byb2plY3RzL0FQU0RhdGFBbmFseXNpcy9BdXRvbWF0ZS90ZXN0L3Rlc3QuaW1tLi5c\\nblsyMDIwLTAxLTIxIDIwOjAxOjQwLjY4N10gW2NvbnNvbGVdIFtpbmZvXSBGaWxlIHNpemUgMzIy\\nLjc0IE1ieXRlc1xuWzIwMjAtMDEtMjEgMjA6MDE6NDAuNjg3XSBbY29uc29sZV0gW2luZm9dIERh\\ndGEgZnJhbWVzPTc2NyBzdHJpZGU9MSBhdmVyYWdlPTFcblsyMDIwLTAxLTIxIDIwOjAyOjE0LjQz\\nM10gW2NvbnNvbGVdIFtpbmZvXSBMb2FkaW5nIGRhdGEgdG9vayAzMy4xMjIgc1xuWzIwMjAtMDEt\\nMjEgMjA6MDM6NTEuMjQ0XSBbY29uc29sZV0gW2luZm9dIENvbXB1dGluZyBHMiBNdWx0aVRhdSB0\\nb29rIDEuNjEyNjUgbVxuWzIwMjAtMDEtMjEgMjA6MDQ6MDAuMDA0XSBbY29uc29sZV0gW2luZm9d\\nIE5vcm1hbGl6aW5nIERhdGEgdG9vayA4Ljc1OSBzXG5bMjAyMC0wMS0yMSAyMDowNDowMC4wMDRd\\nIFtjb25zb2xlXSBbaW5mb10gVG90YWwgdG9vayAyLjMyODkzIG1cbidxAC4=\\n',\n",
       " 'task_id': 'ddf08a8a-9f3c-4726-afc7-92085626dc09'}"
      ]
     },
     "execution_count": 20,
     "metadata": {},
     "output_type": "execute_result"
    }
   ],
   "source": [
    "res\n",
    "fxc.get_task_status(res)"
   ]
  },
  {
   "cell_type": "code",
   "execution_count": 21,
   "metadata": {},
   "outputs": [
    {
     "ename": "Exception",
     "evalue": "Task pending",
     "output_type": "error",
     "traceback": [
      "\u001b[0;31m---------------------------------------------------------------------------\u001b[0m",
      "\u001b[0;31mException\u001b[0m                                 Traceback (most recent call last)",
      "\u001b[0;32m<ipython-input-21-a2cd871b617a>\u001b[0m in \u001b[0;36m<module>\u001b[0;34m\u001b[0m\n\u001b[0;32m----> 1\u001b[0;31m \u001b[0mfxc\u001b[0m\u001b[0;34m.\u001b[0m\u001b[0mget_result\u001b[0m\u001b[0;34m(\u001b[0m\u001b[0mres\u001b[0m\u001b[0;34m)\u001b[0m\u001b[0;34m\u001b[0m\u001b[0;34m\u001b[0m\u001b[0m\n\u001b[0m",
      "\u001b[0;32m~/.miniconda3/envs/automate/lib/python3.6/site-packages/funcx/sdk/client.py\u001b[0m in \u001b[0;36mget_result\u001b[0;34m(self, task_id)\u001b[0m\n\u001b[1;32m    138\u001b[0m \u001b[0;34m\u001b[0m\u001b[0m\n\u001b[1;32m    139\u001b[0m         \u001b[0;32melse\u001b[0m\u001b[0;34m:\u001b[0m\u001b[0;34m\u001b[0m\u001b[0;34m\u001b[0m\u001b[0m\n\u001b[0;32m--> 140\u001b[0;31m             \u001b[0;32mraise\u001b[0m \u001b[0mException\u001b[0m\u001b[0;34m(\u001b[0m\u001b[0;34m\"Task pending\"\u001b[0m\u001b[0;34m)\u001b[0m\u001b[0;34m\u001b[0m\u001b[0;34m\u001b[0m\u001b[0m\n\u001b[0m\u001b[1;32m    141\u001b[0m \u001b[0;34m\u001b[0m\u001b[0m\n\u001b[1;32m    142\u001b[0m \u001b[0;34m\u001b[0m\u001b[0m\n",
      "\u001b[0;31mException\u001b[0m: Task pending"
     ]
    }
   ],
   "source": [
    "fxc.get_result(res)"
   ]
  },
  {
   "cell_type": "code",
   "execution_count": 46,
   "metadata": {},
   "outputs": [
    {
     "name": "stdout",
     "output_type": "stream",
     "text": [
      "0.0.1a2\n"
     ]
    }
   ],
   "source": [
    "event = {\"data\": {\n",
    "         \"hdf\": \"/projects/APSDataAnalysis/Automate/A010_MJ_PMA_47g136kDa_att2_180C_Lq0_002_0002-0400/A010_MJ_PMA_47g136kDa_att2_180C_Lq0_002_0002-0400.hdf\",\n",
    "         \"imm\": \"/projects/APSDataAnalysis/Automate/A010_MJ_PMA_47g136kDa_att2_180C_Lq0_002_0002-0400/A010_MJ_PMA_47g136kDa_att2_180C_Lq0_002_00001-00400.imm\",\n",
    "#          \"flags\": \"--rigaku\",     \n",
    "         \"metadata\": \"/projects/APSDataAnalysis/Automate/A010_MJ_PMA_47g136kDa_att2_180C_Lq0_002_0002-0400/A010_MJ_PMA_47g136kDa_att2_180C_Lq0_002_0002-0400.json\"      \n",
    "     }}"
   ]
  },
  {
   "cell_type": "code",
   "execution_count": 9,
   "metadata": {},
   "outputs": [],
   "source": [
    "res = fxc.run(event, endpoint_id=login_ep, function_id=pilot_func_uuid)\n",
    "\n"
   ]
  },
  {
   "cell_type": "code",
   "execution_count": 10,
   "metadata": {},
   "outputs": [
    {
     "data": {
      "text/plain": [
       "'ec7c696a-dfcc-4c70-8bbd-96036b7dac6a'"
      ]
     },
     "execution_count": 10,
     "metadata": {},
     "output_type": "execute_result"
    }
   ],
   "source": [
    "res"
   ]
  },
  {
   "cell_type": "code",
   "execution_count": 11,
   "metadata": {},
   "outputs": [
    {
     "data": {
      "text/plain": [
       "\"b'Uploading A010_MJ_PMA_47g136kDa_att2_180C_Lq0_002_0002-0400 using globus... \\\\n'\""
      ]
     },
     "execution_count": 11,
     "metadata": {},
     "output_type": "execute_result"
    }
   ],
   "source": [
    "fxc.get_result(res)"
   ]
  },
  {
   "cell_type": "code",
   "execution_count": null,
   "metadata": {},
   "outputs": [],
   "source": []
  },
  {
   "cell_type": "code",
   "execution_count": null,
   "metadata": {},
   "outputs": [],
   "source": []
  },
  {
   "cell_type": "code",
   "execution_count": null,
   "metadata": {},
   "outputs": [],
   "source": []
  },
  {
   "cell_type": "code",
   "execution_count": null,
   "metadata": {},
   "outputs": [],
   "source": []
  },
  {
   "cell_type": "code",
   "execution_count": null,
   "metadata": {},
   "outputs": [],
   "source": []
  },
  {
   "cell_type": "markdown",
   "metadata": {},
   "source": [
    "### Testing Pilot ingest\n",
    "\n",
    "Need to figure out either using -s or renaming the directory the data is being processed in. Perhaps easiest if we just force everything to be worked on in the experiment name dir? then do a chdir to that exp?"
   ]
  },
  {
   "cell_type": "code",
   "execution_count": 34,
   "metadata": {},
   "outputs": [
    {
     "name": "stdout",
     "output_type": "stream",
     "text": [
      "4f63f171-a154-4a02-98a1-3d27551017a4\n"
     ]
    }
   ],
   "source": [
    "def alcf_xpcs_pilot(event):\n",
    "    import os\n",
    "    import time\n",
    "    import json\n",
    "    import subprocess\n",
    "    from subprocess import PIPE\n",
    "    \n",
    "    print(\"Starting XPCS Pilot\")\n",
    "    \n",
    "    meta_file = event['data']['metadata']\n",
    "    exp_dir = \"/\".join(event['data']['hdf'].split(\"/\")[:-1])\n",
    "    exp_name = event['data']['hdf'].split(\"/\")[-1].replace(\".hdf\", \"\")\n",
    "    \n",
    "    os.chdir(exp_dir)\n",
    "    \n",
    "    pilot = '/home/rchard/.conda/envs/funcx-theta/bin/pilot'\n",
    "\n",
    "    cmd = f\"{pilot} upload -u -j {meta_file} {exp_name} /\"\n",
    "    print(cmd)\n",
    "    return cmd\n",
    "    res = subprocess.run(cmd.split(\" \"), stdout=PIPE, stderr=PIPE,\n",
    "    env={'LC_ALL': 'C.UTF-8', 'LANG': 'C.UTF-8'})\n",
    "    \n",
    "    print(res.stdout)\n",
    "    print(res.stderr)\n",
    "    return str(res.stdout)\n",
    "\n",
    "pilot_func_uuid = fxc.register_function(alcf_xpcs_pilot, description=\"An XPCS pilot function.\")\n",
    "print(pilot_func_uuid)"
   ]
  },
  {
   "cell_type": "code",
   "execution_count": 79,
   "metadata": {},
   "outputs": [
    {
     "name": "stdout",
     "output_type": "stream",
     "text": [
      "8ef2d684-3fb6-4beb-864b-876051e94dd9\n"
     ]
    }
   ],
   "source": [
    "event = {\"data\": {\n",
    "         \"hdf\": \"/projects/APSDataAnalysis/Automate/A047_test_001_0001-0256/A047_test_001_0001-0256.hdf\",\n",
    "         \"imm\": \"/projects/APSDataAnalysis/Automate/A047_test_001_0001-0256/A047_test_001_00001-00256.imm\",\n",
    "         \"metadata\": \"/projects/APSDataAnalysis/Automate/A047_test_001_0001-0256/A047_test_001_0001-0256.json\"\n",
    "     }}\n",
    "res = fxc.run(event, endpoint_id=login_ep, function_id=pilot_func_uuid)\n",
    "print(res)"
   ]
  },
  {
   "cell_type": "code",
   "execution_count": 82,
   "metadata": {},
   "outputs": [
    {
     "ename": "Exception",
     "evalue": "Task pending",
     "output_type": "error",
     "traceback": [
      "\u001b[0;31m---------------------------------------------------------------------------\u001b[0m",
      "\u001b[0;31mException\u001b[0m                                 Traceback (most recent call last)",
      "\u001b[0;32m<ipython-input-82-c360f85c5a4d>\u001b[0m in \u001b[0;36m<module>\u001b[0;34m\u001b[0m\n\u001b[0;32m----> 1\u001b[0;31m \u001b[0mprint\u001b[0m\u001b[0;34m(\u001b[0m\u001b[0mfxc\u001b[0m\u001b[0;34m.\u001b[0m\u001b[0mget_result\u001b[0m\u001b[0;34m(\u001b[0m\u001b[0mres\u001b[0m\u001b[0;34m)\u001b[0m\u001b[0;34m)\u001b[0m\u001b[0;34m\u001b[0m\u001b[0;34m\u001b[0m\u001b[0m\n\u001b[0m",
      "\u001b[0;32m~/.miniconda3/envs/funcx/lib/python3.6/site-packages/funcx-0.0.1a2-py3.6.egg/funcx/sdk/client.py\u001b[0m in \u001b[0;36mget_result\u001b[0;34m(self, task_id)\u001b[0m\n\u001b[1;32m    133\u001b[0m \u001b[0;34m\u001b[0m\u001b[0m\n\u001b[1;32m    134\u001b[0m         \u001b[0;32melse\u001b[0m\u001b[0;34m:\u001b[0m\u001b[0;34m\u001b[0m\u001b[0;34m\u001b[0m\u001b[0m\n\u001b[0;32m--> 135\u001b[0;31m             \u001b[0;32mraise\u001b[0m \u001b[0mException\u001b[0m\u001b[0;34m(\u001b[0m\u001b[0;34m\"Task pending\"\u001b[0m\u001b[0;34m)\u001b[0m\u001b[0;34m\u001b[0m\u001b[0;34m\u001b[0m\u001b[0m\n\u001b[0m\u001b[1;32m    136\u001b[0m \u001b[0;34m\u001b[0m\u001b[0m\n\u001b[1;32m    137\u001b[0m \u001b[0;34m\u001b[0m\u001b[0m\n",
      "\u001b[0;31mException\u001b[0m: Task pending"
     ]
    }
   ],
   "source": [
    "print(fxc.get_result(res))"
   ]
  },
  {
   "cell_type": "code",
   "execution_count": null,
   "metadata": {},
   "outputs": [],
   "source": []
  },
  {
   "cell_type": "code",
   "execution_count": null,
   "metadata": {},
   "outputs": [],
   "source": []
  },
  {
   "cell_type": "code",
   "execution_count": null,
   "metadata": {},
   "outputs": [],
   "source": []
  },
  {
   "cell_type": "code",
   "execution_count": 181,
   "metadata": {},
   "outputs": [
    {
     "data": {
      "text/plain": [
       "\"b'[2020-01-22 00:22:31.416] [console] [info] H5 metadata path /xpcs\\\\n[2020-01-22 00:22:31.946] [console] [info] BuildQMap() took 179 ms\\\\n[2020-01-22 00:22:31.948] [console] [info] Configuration Total took 531 ms\\\\n[2020-01-22 00:22:31.948] [console] [info] Processing IMM file at path /projects/APSDataAnalysis/Automate/test/test.imm..\\\\n[2020-01-22 00:22:31.950] [console] [info] File size 175.664 Mbytes\\\\n[2020-01-22 00:22:31.950] [console] [info] Data frames=399 stride=1 average=1\\\\n[2020-01-22 00:22:49.649] [console] [info] Loading data took 17.044 s\\\\n[2020-01-22 00:23:40.647] [console] [info] Computing G2 MultiTau took 50.946 s\\\\n[2020-01-22 00:23:48.877] [console] [info] Normalizing Data took 8.23 s\\\\n[2020-01-22 00:23:48.877] [console] [info] Total took 1.29102 m\\\\n'\""
      ]
     },
     "execution_count": 181,
     "metadata": {},
     "output_type": "execute_result"
    }
   ],
   "source": [
    "from funcx.serialize import FuncXSerializer\n",
    "fx_serializer = FuncXSerializer()\n",
    "res = \"\"\"01\\ngANYBgMAAGInWzIwMjAtMDEtMjIgMDA6MjI6MzEuNDE2XSBbY29uc29sZV0gW2luZm9dIEg1IG1l\\ndGFkYXRhIHBhdGggL3hwY3NcblsyMDIwLTAxLTIyIDAwOjIyOjMxLjk0Nl0gW2NvbnNvbGVdIFtp\\nbmZvXSBCdWlsZFFNYXAoKSB0b29rIDE3OSBtc1xuWzIwMjAtMDEtMjIgMDA6MjI6MzEuOTQ4XSBb\\nY29uc29sZV0gW2luZm9dIENvbmZpZ3VyYXRpb24gVG90YWwgdG9vayA1MzEgbXNcblsyMDIwLTAx\\nLTIyIDAwOjIyOjMxLjk0OF0gW2NvbnNvbGVdIFtpbmZvXSBQcm9jZXNzaW5nIElNTSBmaWxlIGF0\\nIHBhdGggL3Byb2plY3RzL0FQU0RhdGFBbmFseXNpcy9BdXRvbWF0ZS90ZXN0L3Rlc3QuaW1tLi5c\\nblsyMDIwLTAxLTIyIDAwOjIyOjMxLjk1MF0gW2NvbnNvbGVdIFtpbmZvXSBGaWxlIHNpemUgMTc1\\nLjY2NCBNYnl0ZXNcblsyMDIwLTAxLTIyIDAwOjIyOjMxLjk1MF0gW2NvbnNvbGVdIFtpbmZvXSBE\\nYXRhIGZyYW1lcz0zOTkgc3RyaWRlPTEgYXZlcmFnZT0xXG5bMjAyMC0wMS0yMiAwMDoyMjo0OS42\\nNDldIFtjb25zb2xlXSBbaW5mb10gTG9hZGluZyBkYXRhIHRvb2sgMTcuMDQ0IHNcblsyMDIwLTAx\\nLTIyIDAwOjIzOjQwLjY0N10gW2NvbnNvbGVdIFtpbmZvXSBDb21wdXRpbmcgRzIgTXVsdGlUYXUg\\ndG9vayA1MC45NDYgc1xuWzIwMjAtMDEtMjIgMDA6MjM6NDguODc3XSBbY29uc29sZV0gW2luZm9d\\nIE5vcm1hbGl6aW5nIERhdGEgdG9vayA4LjIzIHNcblsyMDIwLTAxLTIyIDAwOjIzOjQ4Ljg3N10g\\nW2NvbnNvbGVdIFtpbmZvXSBUb3RhbCB0b29rIDEuMjkxMDIgbVxuJ3EALg==\\n\"\"\"\n",
    "\n",
    "x = fx_serializer.deserialize(res)\n",
    "x\n"
   ]
  },
  {
   "cell_type": "code",
   "execution_count": 172,
   "metadata": {},
   "outputs": [
    {
     "ename": "Exception",
     "evalue": "Invalid header: g in data payload",
     "output_type": "error",
     "traceback": [
      "\u001b[0;31m---------------------------------------------------------------------------\u001b[0m",
      "\u001b[0;31mException\u001b[0m                                 Traceback (most recent call last)",
      "\u001b[0;32m<ipython-input-172-56b6e9175257>\u001b[0m in \u001b[0;36m<module>\u001b[0;34m\u001b[0m\n\u001b[0;32m----> 1\u001b[0;31m \u001b[0mfx_serializer\u001b[0m\u001b[0;34m.\u001b[0m\u001b[0munpack_and_deserialize\u001b[0m\u001b[0;34m(\u001b[0m\u001b[0mres\u001b[0m\u001b[0;34m)\u001b[0m\u001b[0;34m\u001b[0m\u001b[0;34m\u001b[0m\u001b[0m\n\u001b[0m",
      "\u001b[0;32m~/.miniconda3/envs/automate/lib/python3.6/site-packages/funcx/serialize/facade.py\u001b[0m in \u001b[0;36munpack_and_deserialize\u001b[0;34m(self, packed_buffer)\u001b[0m\n\u001b[1;32m    125\u001b[0m             \u001b[0mi_length\u001b[0m \u001b[0;34m=\u001b[0m \u001b[0mint\u001b[0m\u001b[0;34m(\u001b[0m\u001b[0ms_length\u001b[0m\u001b[0;34m)\u001b[0m\u001b[0;34m\u001b[0m\u001b[0;34m\u001b[0m\u001b[0m\n\u001b[1;32m    126\u001b[0m             \u001b[0mcurrent\u001b[0m\u001b[0;34m,\u001b[0m \u001b[0mpacked_buffer\u001b[0m \u001b[0;34m=\u001b[0m \u001b[0mbuf\u001b[0m\u001b[0;34m[\u001b[0m\u001b[0;34m:\u001b[0m\u001b[0mi_length\u001b[0m\u001b[0;34m]\u001b[0m\u001b[0;34m,\u001b[0m \u001b[0mbuf\u001b[0m\u001b[0;34m[\u001b[0m\u001b[0mi_length\u001b[0m\u001b[0;34m:\u001b[0m\u001b[0;34m]\u001b[0m\u001b[0;34m\u001b[0m\u001b[0;34m\u001b[0m\u001b[0m\n\u001b[0;32m--> 127\u001b[0;31m             \u001b[0mdeserialized\u001b[0m \u001b[0;34m=\u001b[0m \u001b[0mself\u001b[0m\u001b[0;34m.\u001b[0m\u001b[0mdeserialize\u001b[0m\u001b[0;34m(\u001b[0m\u001b[0mcurrent\u001b[0m\u001b[0;34m)\u001b[0m\u001b[0;34m\u001b[0m\u001b[0;34m\u001b[0m\u001b[0m\n\u001b[0m\u001b[1;32m    128\u001b[0m             \u001b[0munpacked\u001b[0m\u001b[0;34m.\u001b[0m\u001b[0mextend\u001b[0m\u001b[0;34m(\u001b[0m\u001b[0;34m[\u001b[0m\u001b[0mdeserialized\u001b[0m\u001b[0;34m]\u001b[0m\u001b[0;34m)\u001b[0m\u001b[0;34m\u001b[0m\u001b[0;34m\u001b[0m\u001b[0m\n\u001b[1;32m    129\u001b[0m \u001b[0;34m\u001b[0m\u001b[0m\n",
      "\u001b[0;32m~/.miniconda3/envs/automate/lib/python3.6/site-packages/funcx/serialize/facade.py\u001b[0m in \u001b[0;36mdeserialize\u001b[0;34m(self, payload)\u001b[0m\n\u001b[1;32m     81\u001b[0m             \u001b[0mresult\u001b[0m \u001b[0;34m=\u001b[0m \u001b[0mself\u001b[0m\u001b[0;34m.\u001b[0m\u001b[0mmethods_for_data\u001b[0m\u001b[0;34m[\u001b[0m\u001b[0mheader\u001b[0m\u001b[0;34m]\u001b[0m\u001b[0;34m.\u001b[0m\u001b[0mdeserialize\u001b[0m\u001b[0;34m(\u001b[0m\u001b[0mpayload\u001b[0m\u001b[0;34m)\u001b[0m\u001b[0;34m\u001b[0m\u001b[0;34m\u001b[0m\u001b[0m\n\u001b[1;32m     82\u001b[0m         \u001b[0;32melse\u001b[0m\u001b[0;34m:\u001b[0m\u001b[0;34m\u001b[0m\u001b[0;34m\u001b[0m\u001b[0m\n\u001b[0;32m---> 83\u001b[0;31m             \u001b[0;32mraise\u001b[0m \u001b[0mException\u001b[0m\u001b[0;34m(\u001b[0m\u001b[0;34m\"Invalid header: {} in data payload\"\u001b[0m\u001b[0;34m.\u001b[0m\u001b[0mformat\u001b[0m\u001b[0;34m(\u001b[0m\u001b[0mheader\u001b[0m\u001b[0;34m)\u001b[0m\u001b[0;34m)\u001b[0m\u001b[0;34m\u001b[0m\u001b[0;34m\u001b[0m\u001b[0m\n\u001b[0m\u001b[1;32m     84\u001b[0m \u001b[0;34m\u001b[0m\u001b[0m\n\u001b[1;32m     85\u001b[0m         \u001b[0;32mreturn\u001b[0m \u001b[0mresult\u001b[0m\u001b[0;34m\u001b[0m\u001b[0;34m\u001b[0m\u001b[0m\n",
      "\u001b[0;31mException\u001b[0m: Invalid header: g in data payload"
     ]
    }
   ],
   "source": [
    "fx_serializer.unpack_and_deserialize(res)\n"
   ]
  },
  {
   "cell_type": "markdown",
   "metadata": {},
   "source": [
    "### Nick testing"
   ]
  },
  {
   "cell_type": "code",
   "execution_count": null,
   "metadata": {},
   "outputs": [],
   "source": [
    "def process_hdf(event):\n",
    "    import os\n",
    "    import shutil\n",
    "    from XPCS.scripts.xpcs_metadata import gather\n",
    "    from XPCS.scripts.xpcs_plots import make_plots\n",
    "    from XPCS.scripts.xpcs_qc import check_hdf_dataset\n",
    "    from pilot.client import PilotClient\n",
    "\n",
    "    hdf_file = event['data']['hdf']\n",
    "    hdf_dir, extension = os.path.splitext(hdf_file)\n",
    "    try:\n",
    "        os.mkdir(hdf_dir)\n",
    "        shutil.move(hdf_file, hdf_dir)\n",
    "    except Exception as e:\n",
    "        print(e)\n",
    "    hdf_file = os.path.join(hdf_dir, os.path.basename(hdf_file))\n",
    "    os.chdir(hdf_dir)\n",
    "    assert os.path.exists(hdf_file), 'HDF File {hdf_file} does not exist!'\n",
    "\n",
    "    if check_hdf_dataset(hdf_file) is False:\n",
    "        print('HDF Check failed, skipping...')\n",
    "        return {}\n",
    "    metadata = gather(hdf_file)\n",
    "    make_plots(hdf_file)\n",
    "    metadata.update(event['custom_metadata'])\n",
    "    pc = PilotClient()\n",
    "    uploaded_metadata = pc.register(hdf_dir, '/', metadata=metadata,\n",
    "                                    update=True, skip_analysis=True)\n",
    "    print('Everything worked, register called')\n",
    "    return uploaded_metadata"
   ]
  },
  {
   "cell_type": "code",
   "execution_count": null,
   "metadata": {},
   "outputs": [],
   "source": [
    "process_hdf_func_uuid = fxc.register_function(\n",
    "    process_hdf, description=\"Put hdf file into dir, make plots, gather metadata.\"\n",
    ")\n",
    "print(process_hdf_func_uuid)"
   ]
  },
  {
   "cell_type": "code",
   "execution_count": null,
   "metadata": {},
   "outputs": [],
   "source": [
    "fname = '/Users/nick/globus/aps/globus-automation/XPCS/data/A001_Aerogel_1mm_att3_Lq0_001_0001-1000.hdf'\n",
    "payload = {\n",
    "    'data': {\n",
    "        \"hdf\": f\"{fname}\"\n",
    "    },\n",
    "    'custom_metadata': {\n",
    "        \"description\": f\"{fname}: Automated data processing.\",\n",
    "        \"creators\": [{\"creatorName\": \"8-ID\"}],\n",
    "        \"publisher\": \"Automate\",\n",
    "        \"title\": fname,\n",
    "        \"subjects\": [{\"subject\": \"XPCS\"}, {\"subject\": \"8-ID\"}],\n",
    "        \"publicationYear\": \"2019\",\n",
    "        \"resourceType\": {\n",
    "            \"resourceType\": \"Dataset\",\n",
    "            \"resourceTypeGeneral\": \"Dataset\"\n",
    "        }\n",
    "    }\n",
    "}\n",
    "res = fxc.run(payload, endpoint_id=local_ep, function_id=process_hdf_func_uuid)\n",
    "print(res)"
   ]
  },
  {
   "cell_type": "code",
   "execution_count": null,
   "metadata": {},
   "outputs": [],
   "source": [
    "print(res)\n",
    "fxc.get_result(res)"
   ]
  },
  {
   "cell_type": "code",
   "execution_count": null,
   "metadata": {},
   "outputs": [],
   "source": []
  },
  {
   "cell_type": "code",
   "execution_count": null,
   "metadata": {},
   "outputs": [],
   "source": []
  },
  {
   "cell_type": "code",
   "execution_count": null,
   "metadata": {},
   "outputs": [],
   "source": []
  },
  {
   "cell_type": "code",
   "execution_count": null,
   "metadata": {},
   "outputs": [],
   "source": []
  },
  {
   "cell_type": "code",
   "execution_count": null,
   "metadata": {},
   "outputs": [],
   "source": [
    "# This flow does not return the result to APS.\n",
    "\n",
    "flow_definition = {\n",
    "  \"Comment\": \"Automate XPCS\",\n",
    "  \"StartAt\": \"Transfer1\",\n",
    "  \"States\": {\n",
    "    \"Transfer1\": {\n",
    "      \"Comment\": \"Initial Transfer from APS to ALCF\",\n",
    "      \"Type\": \"Action\",\n",
    "      \"ActionUrl\": \"https://actions.automate.globus.org/transfer/transfer\",\n",
    "      \"ActionScope\": \"https://auth.globus.org/scopes/actions.globus.org/transfer/transfer\",\n",
    "      \"InputPath\": \"$.Transfer1Input\",\n",
    "      \"ResultPath\": \"$.Transfer1Result\",\n",
    "      \"WaitTime\": 6000,\n",
    "      \"Next\": \"ExecCorr\"\n",
    "    },\n",
    "    \"ExecCorr\": {\n",
    "      \"Comment\": \"Use corr to process the data\",\n",
    "      \"Type\": \"Action\",\n",
    "      \"ActionUrl\": \"https://dev.funcx.org/automate\",\n",
    "      \"ActionScope\": \"https://auth.globus.org/scopes/facd7ccc-c5f4-42aa-916b-a0e270e2c2a9/automate2\",\n",
    "      \"InputPath\": \"$.Exec1Input\",\n",
    "      \"ResultPath\": \"$.Exec1Result\",\n",
    "      \"WaitTime\": 12000,\n",
    "      \"Next\": \"ExecPlots\"\n",
    "    },\n",
    "    \"ExecPlots\": {\n",
    "      \"Comment\": \"Generate plots from the data\",\n",
    "      \"Type\": \"Action\",\n",
    "      \"ActionUrl\": \"https://dev.funcx.org/automate\",\n",
    "      \"ActionScope\": \"https://auth.globus.org/scopes/facd7ccc-c5f4-42aa-916b-a0e270e2c2a9/automate2\",\n",
    "      \"InputPath\": \"$.Exec2Input\",\n",
    "      \"ResultPath\": \"$.Exec2Result\",\n",
    "      \"WaitTime\": 12000,\n",
    "      \"Next\": \"ExecPilot\"\n",
    "    },\n",
    "    \"ExecPilot\": {\n",
    "      \"Comment\": \"Generate plots from the data\",\n",
    "      \"Type\": \"Action\",\n",
    "      \"ActionUrl\": \"https://dev.funcx.org/automate\",\n",
    "      \"ActionScope\": \"https://auth.globus.org/scopes/facd7ccc-c5f4-42aa-916b-a0e270e2c2a9/automate2\",\n",
    "      \"InputPath\": \"$.Exec3Input\",\n",
    "      \"ResultPath\": \"$.Exec3Result\",\n",
    "      \"WaitTime\": 12000,\n",
    "      \"Next\": \"Transfer2\"\n",
    "    },\n",
    "    \"Transfer2\": {\n",
    "      \"Comment\": \"Initial Transfer from APS to ALCF\",\n",
    "      \"Type\": \"Action\",\n",
    "      \"ActionUrl\": \"https://actions.automate.globus.org/transfer/transfer\",\n",
    "      \"ActionScope\": \"https://auth.globus.org/scopes/actions.globus.org/transfer/transfer\",\n",
    "      \"InputPath\": \"$.Transfer2Input\",\n",
    "      \"ResultPath\": \"$.Transfer2Result\",\n",
    "      \"WaitTime\": 6000,\n",
    "      \"End\": True\n",
    "    }\n",
    "  }\n",
    "}"
   ]
  }
 ],
 "metadata": {
  "celltoolbar": "Attachments",
  "kernelspec": {
   "display_name": "Python 3",
   "language": "python",
   "name": "python3"
  },
  "language_info": {
   "codemirror_mode": {
    "name": "ipython",
    "version": 3
   },
   "file_extension": ".py",
   "mimetype": "text/x-python",
   "name": "python",
   "nbconvert_exporter": "python",
   "pygments_lexer": "ipython3",
   "version": "3.6.8"
  }
 },
 "nbformat": 4,
 "nbformat_minor": 2
}
