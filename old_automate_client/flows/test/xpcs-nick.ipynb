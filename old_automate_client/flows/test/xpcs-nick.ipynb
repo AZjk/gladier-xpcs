{
 "cells": [
  {
   "cell_type": "markdown",
   "metadata": {},
   "source": [
    "# Automate XPCS"
   ]
  },
  {
   "cell_type": "code",
   "execution_count": 1,
   "metadata": {},
   "outputs": [],
   "source": [
    "from globus_automate_client import (create_flows_client, graphviz_format, state_colors_for_log,\n",
    "                                    get_access_token_for_scope, create_action_client, \n",
    "                                    create_flows_client)\n",
    "from IPython.display import display, display_svg, clear_output\n",
    "from ipywidgets import widgets\n",
    "import time\n",
    "import json\n",
    "import sys\n",
    "import os\n",
    "\n",
    "from funcx.sdk.client import FuncXClient\n",
    "CLIENT_ID = \"e6c75d97-532a-4c88-b031-8584a319fa3e\"\n",
    "clutch_globus_ep = 'b0e921df-6d04-11e5-ba46-22000b92c6ec'\n",
    "theta_globus_ep = '08925f04-569f-11e7-bef8-22000b9a448b'\n",
    "petreldata_xpcs_globus_ep = 'e55b4eab-6d04-11e5-ba46-22000b92c6ec'"
   ]
  },
  {
   "cell_type": "markdown",
   "metadata": {},
   "source": [
    "## funcX\n",
    "\n",
    "This is an example of using funcX to perform work on Theta. This defines a simple function that will sleep for some period of time (determined by the input given to it), registers it with funcX, then calls it to run on an endpoint I have active on Theta.\n",
    "\n"
   ]
  },
  {
   "cell_type": "code",
   "execution_count": 2,
   "metadata": {},
   "outputs": [],
   "source": [
    "fxc = FuncXClient()\n",
    "login_funcx_ep = 'eb932339-a5b9-4124-9779-9aa4eae6dca0'\n",
    "theta_funcx_ep = '1199c811-2075-447c-bbcc-2cd15663b342'"
   ]
  },
  {
   "cell_type": "code",
   "execution_count": 3,
   "metadata": {},
   "outputs": [],
   "source": [
    "def check_dependencies_on_funcx_endpoint(event):\n",
    "    import h5py\n",
    "    import matplotlib\n",
    "    import pprint\n",
    "    # Install on the theta login node with: \n",
    "    # pip install -e git+https://github.com/globus-labs/globus-automation#egg=globus-automation\n",
    "    from XPCS.process.xpcs_metadata import gather\n",
    "    from XPCS.process.xpcs_plots import make_plots\n",
    "    from XPCS.process.xpcs_qc import check_hdf_dataset\n",
    "    # pip install -e git+https://github.com/globusonline/pilot1-tools@dev#egg=pilot1-tools\n",
    "    from pilot.client import PilotClient\n",
    "    pc = PilotClient()\n",
    "    assert pc.is_logged_in(), 'Not logged into client! Please run `pilot login --no-local-server` on theta login node.'\n",
    "    context = pc.context.get_context()\n",
    "    projects = pc.project.load_all()\n",
    "    \n",
    "    assert context['app_name'] == 'xpcs app', 'Wrong context set! Please run `pilot context set xpcs`'\n",
    "    pc.project.current = 'nick-testing'\n",
    "    return {'context': context, 'projects': projects}\n",
    "    \n",
    "\n",
    "check_dep_func = fxc.register_function(check_dependencies_on_funcx_endpoint)"
   ]
  },
  {
   "cell_type": "code",
   "execution_count": 4,
   "metadata": {},
   "outputs": [
    {
     "name": "stdout",
     "output_type": "stream",
     "text": [
      "Running Funcx Task on Login Node 40b96555-3dbb-4f46-8ec1-e04a546e6ae9\n",
      "................................................{\n",
      "    \"context\": {\n",
      "        \"app_name\": \"xpcs app\",\n",
      "        \"client_id\": \"e4d82438-00df-4dbd-ab90-b6258933c335\",\n",
      "        \"manifest_index\": \"6871e83e-866b-41bc-8430-e3cf83b43bdc\",\n",
      "        \"manifest_subject\": \"globus://project-manifest.json\",\n",
      "        \"projects_base_path\": \"/XPCSDATA\",\n",
      "        \"projects_cache_timeout\": \"86400\",\n",
      "        \"projects_default_resource_server\": \"petrel_https_server\",\n",
      "        \"projects_default_search_index\": \"6871e83e-866b-41bc-8430-e3cf83b43bdc\",\n",
      "        \"projects_endpoint\": \"e55b4eab-6d04-11e5-ba46-22000b92c6ec\",\n",
      "        \"projects_group\": \"368beb47-c9c5-11e9-b455-0efb3ba9a670\",\n",
      "        \"projects_portal_url\": \"https://petreldata.net/xpcs/projects/{project}/{subject}/\",\n",
      "        \"scopes\": [\n",
      "            \"profile\",\n",
      "            \"openid\",\n",
      "            \"urn:globus:auth:scope:search.api.globus.org:all\",\n",
      "            \"urn:globus:auth:scope:transfer.api.globus.org:all\"\n",
      "        ]\n",
      "    },\n",
      "    \"projects\": {\n",
      "        \"nick-testing\": {\n",
      "            \"base_path\": \"/XPCSDATA/test/nick-testing\",\n",
      "            \"description\": \"A project for nick to test\",\n",
      "            \"endpoint\": \"e55b4eab-6d04-11e5-ba46-22000b92c6ec\",\n",
      "            \"group\": \"public\",\n",
      "            \"resource_server\": \"petrel_https_server\",\n",
      "            \"search_index\": \"6871e83e-866b-41bc-8430-e3cf83b43bdc\",\n",
      "            \"title\": \"Nick Testing\"\n",
      "        },\n",
      "        \"xpcs-8id\": {\n",
      "            \"base_path\": \"/XPCSDATA/Automate/\",\n",
      "            \"description\": \"8-ID-I is dedicated to the study of equilibrium fluctuations and fluctuations about the evolution to equilibrium condensed matter in the small-angle x-ray scattering (SAXS) geometry via x-ray photon correlation spectroscopy (XPCS) or x-ray intensity fluctuation spectroscopy (XIFS). 8-ID-E is dedicated to the study of ordering and kinetics at surfaces and interfaces via the technique of grazing incidence x-ray-scattering (GIXS) in both small-angle (GISAXS) and wide-angle (GIWAXS) regimes. 8-ID-E also hosts programs to measure equilibrium dynamics via XPCS at large wave vector transfers and at liquid surfaces.\",\n",
      "            \"endpoint\": \"e55b4eab-6d04-11e5-ba46-22000b92c6ec\",\n",
      "            \"group\": \"public\",\n",
      "            \"resource_server\": \"petrel_https_server\",\n",
      "            \"search_index\": \"6871e83e-866b-41bc-8430-e3cf83b43bdc\",\n",
      "            \"title\": \"XPCS 8ID\"\n",
      "        }\n",
      "    }\n",
      "}\n"
     ]
    }
   ],
   "source": [
    "check_dep_task = fxc.run([], endpoint_id=login_funcx_ep, function_id=check_dep_func)\n",
    "print(f'Running Funcx Task on Login Node {check_dep_task}\\n', end='')\n",
    "while True:\n",
    "    try:\n",
    "        print(json.dumps(fxc.get_result(check_dep_task), indent=4))\n",
    "        break\n",
    "    except Exception as e:\n",
    "        if str(e) == 'Task pending':\n",
    "            print('.', end='')\n",
    "            time.sleep(1)\n",
    "            continue\n",
    "        raise"
   ]
  },
  {
   "cell_type": "code",
   "execution_count": 5,
   "metadata": {},
   "outputs": [
    {
     "name": "stdout",
     "output_type": "stream",
     "text": [
      "Running Funcx Task on Theta Node e13ac239-2a6b-4e09-b32b-8fe7edfc9aa0\n",
      "...................................{\n",
      "    \"context\": {\n",
      "        \"app_name\": \"xpcs app\",\n",
      "        \"client_id\": \"e4d82438-00df-4dbd-ab90-b6258933c335\",\n",
      "        \"manifest_index\": \"6871e83e-866b-41bc-8430-e3cf83b43bdc\",\n",
      "        \"manifest_subject\": \"globus://project-manifest.json\",\n",
      "        \"projects_base_path\": \"/XPCSDATA\",\n",
      "        \"projects_cache_timeout\": \"86400\",\n",
      "        \"projects_default_resource_server\": \"petrel_https_server\",\n",
      "        \"projects_default_search_index\": \"6871e83e-866b-41bc-8430-e3cf83b43bdc\",\n",
      "        \"projects_endpoint\": \"e55b4eab-6d04-11e5-ba46-22000b92c6ec\",\n",
      "        \"projects_group\": \"368beb47-c9c5-11e9-b455-0efb3ba9a670\",\n",
      "        \"projects_portal_url\": \"https://petreldata.net/xpcs/projects/{project}/{subject}/\",\n",
      "        \"scopes\": [\n",
      "            \"profile\",\n",
      "            \"openid\",\n",
      "            \"urn:globus:auth:scope:search.api.globus.org:all\",\n",
      "            \"urn:globus:auth:scope:transfer.api.globus.org:all\"\n",
      "        ]\n",
      "    },\n",
      "    \"projects\": {\n",
      "        \"nick-testing\": {\n",
      "            \"base_path\": \"/XPCSDATA/test/nick-testing\",\n",
      "            \"description\": \"A project for nick to test\",\n",
      "            \"endpoint\": \"e55b4eab-6d04-11e5-ba46-22000b92c6ec\",\n",
      "            \"group\": \"public\",\n",
      "            \"resource_server\": \"petrel_https_server\",\n",
      "            \"search_index\": \"6871e83e-866b-41bc-8430-e3cf83b43bdc\",\n",
      "            \"title\": \"Nick Testing\"\n",
      "        },\n",
      "        \"xpcs-8id\": {\n",
      "            \"base_path\": \"/XPCSDATA/Automate/\",\n",
      "            \"description\": \"8-ID-I is dedicated to the study of equilibrium fluctuations and fluctuations about the evolution to equilibrium condensed matter in the small-angle x-ray scattering (SAXS) geometry via x-ray photon correlation spectroscopy (XPCS) or x-ray intensity fluctuation spectroscopy (XIFS). 8-ID-E is dedicated to the study of ordering and kinetics at surfaces and interfaces via the technique of grazing incidence x-ray-scattering (GIXS) in both small-angle (GISAXS) and wide-angle (GIWAXS) regimes. 8-ID-E also hosts programs to measure equilibrium dynamics via XPCS at large wave vector transfers and at liquid surfaces.\",\n",
      "            \"endpoint\": \"e55b4eab-6d04-11e5-ba46-22000b92c6ec\",\n",
      "            \"group\": \"public\",\n",
      "            \"resource_server\": \"petrel_https_server\",\n",
      "            \"search_index\": \"6871e83e-866b-41bc-8430-e3cf83b43bdc\",\n",
      "            \"title\": \"XPCS 8ID\"\n",
      "        }\n",
      "    }\n",
      "}\n"
     ]
    }
   ],
   "source": [
    "check_dep_task = fxc.run([], endpoint_id=theta_funcx_ep, function_id=check_dep_func)\n",
    "print(f'Running Funcx Task on Theta Node {check_dep_task}\\n', end='')\n",
    "while True:\n",
    "    try:\n",
    "        print(json.dumps(fxc.get_result(check_dep_task), indent=4))\n",
    "        break\n",
    "    except Exception as e:\n",
    "        if str(e) == 'Task pending':\n",
    "            print('.', end='')\n",
    "            time.sleep(2)\n",
    "            continue\n",
    "        raise"
   ]
  },
  {
   "cell_type": "markdown",
   "metadata": {},
   "source": [
    "### Now create a funcX function to run XPCS Corr\n",
    "\n",
    "Now we can use the same principle to define a function to run the Corr code. The function requires an hdf and imm input to be given then uses subprocess to call the corr tool on the data."
   ]
  },
  {
   "cell_type": "code",
   "execution_count": 6,
   "metadata": {},
   "outputs": [
    {
     "ename": "FileNotFoundError",
     "evalue": "[Errno 2] No such file or directory: 'flows/clutch_theta_petreldata.json'",
     "output_type": "error",
     "traceback": [
      "\u001b[0;31m---------------------------------------------------------------------------\u001b[0m",
      "\u001b[0;31mFileNotFoundError\u001b[0m                         Traceback (most recent call last)",
      "\u001b[0;32m<ipython-input-6-49df45398eaa>\u001b[0m in \u001b[0;36m<module>\u001b[0;34m\u001b[0m\n\u001b[1;32m      3\u001b[0m \u001b[0mhdf_func_id\u001b[0m \u001b[0;34m=\u001b[0m \u001b[0mfxc\u001b[0m\u001b[0;34m.\u001b[0m\u001b[0mregister_function\u001b[0m\u001b[0;34m(\u001b[0m\u001b[0mprocess_corr\u001b[0m\u001b[0;34m,\u001b[0m \u001b[0mdescription\u001b[0m\u001b[0;34m=\u001b[0m\u001b[0;34m\"Plot images, generate metadata for petreldata.net\"\u001b[0m\u001b[0;34m)\u001b[0m\u001b[0;34m\u001b[0m\u001b[0;34m\u001b[0m\u001b[0m\n\u001b[1;32m      4\u001b[0m \u001b[0;34m\u001b[0m\u001b[0m\n\u001b[0;32m----> 5\u001b[0;31m \u001b[0;32mwith\u001b[0m \u001b[0mopen\u001b[0m\u001b[0;34m(\u001b[0m\u001b[0;34m'flows/clutch_theta_petreldata.json'\u001b[0m\u001b[0;34m)\u001b[0m \u001b[0;32mas\u001b[0m \u001b[0mf\u001b[0m\u001b[0;34m:\u001b[0m\u001b[0;34m\u001b[0m\u001b[0;34m\u001b[0m\u001b[0m\n\u001b[0m\u001b[1;32m      6\u001b[0m     \u001b[0mxpcs_flow_definition\u001b[0m \u001b[0;34m=\u001b[0m \u001b[0mjson\u001b[0m\u001b[0;34m.\u001b[0m\u001b[0mload\u001b[0m\u001b[0;34m(\u001b[0m\u001b[0mf\u001b[0m\u001b[0;34m)\u001b[0m\u001b[0;34m\u001b[0m\u001b[0;34m\u001b[0m\u001b[0m\n",
      "\u001b[0;31mFileNotFoundError\u001b[0m: [Errno 2] No such file or directory: 'flows/clutch_theta_petreldata.json'"
     ]
    }
   ],
   "source": [
    "from XPCS.process.funcx_functions import process_corr, process_hdf\n",
    "corr_func_id = fxc.register_function(process_corr, description=\"An XPCS corr function.\")\n",
    "hdf_func_id = fxc.register_function(process_corr, description=\"Plot images, generate metadata for petreldata.net\")\n"
   ]
  },
  {
   "cell_type": "code",
   "execution_count": 8,
   "metadata": {},
   "outputs": [],
   "source": [
    "# This flow does not return the result to APS.\n",
    "\n",
    "flow_definition = {\n",
    "  \"Comment\": \"Automate XPCS\",\n",
    "  \"StartAt\": \"Transfer1\",\n",
    "  \"States\": {\n",
    "    \"Transfer1\": {\n",
    "      \"Comment\": \"Initial Transfer from APS to ALCF\",\n",
    "      \"Type\": \"Action\",\n",
    "      \"ActionUrl\": \"https://actions.automate.globus.org/transfer/transfer\",\n",
    "      \"ActionScope\": \"https://auth.globus.org/scopes/actions.globus.org/transfer/transfer\",\n",
    "      \"InputPath\": \"$.Transfer1Input\",\n",
    "      \"ResultPath\": \"$.Transfer1Result\",\n",
    "      \"WaitTime\": 6000,\n",
    "      \"Next\": \"Transfer2\"\n",
    "    },\n",
    "    \"Transfer2\": {\n",
    "      \"Comment\": \"Second Transfer from APS to ALCF\",\n",
    "      \"Type\": \"Action\",\n",
    "      \"ActionUrl\": \"https://actions.automate.globus.org/transfer/transfer\",\n",
    "      \"ActionScope\": \"https://auth.globus.org/scopes/actions.globus.org/transfer/transfer\",\n",
    "      \"InputPath\": \"$.Transfer2Input\",\n",
    "      \"ResultPath\": \"$.Transfer2Result\",\n",
    "      \"WaitTime\": 6000,\n",
    "      \"Next\": \"ExecCorr\"\n",
    "    },\n",
    "    \"ExecCorr\": {\n",
    "      \"Comment\": \"Use corr to process the data\",\n",
    "      \"Type\": \"Action\",\n",
    "      \"ActionUrl\": \"https://dev.funcx.org/automate\",\n",
    "      \"ActionScope\": \"https://auth.globus.org/scopes/facd7ccc-c5f4-42aa-916b-a0e270e2c2a9/automate2\",\n",
    "      \"InputPath\": \"$.Exec1Input\",\n",
    "      \"ResultPath\": \"$.Exec1Result\",\n",
    "      \"WaitTime\": 12000,\n",
    "      \"Next\": \"ExecPlots\"\n",
    "    },\n",
    "    \"ExecPlots\": {\n",
    "      \"Comment\": \"Generate plots from the data\",\n",
    "      \"Type\": \"Action\",\n",
    "      \"ActionUrl\": \"https://dev.funcx.org/automate\",\n",
    "      \"ActionScope\": \"https://auth.globus.org/scopes/facd7ccc-c5f4-42aa-916b-a0e270e2c2a9/automate2\",\n",
    "      \"InputPath\": \"$.Exec2Input\",\n",
    "      \"ResultPath\": \"$.Exec2Result\",\n",
    "      \"WaitTime\": 12000,\n",
    "      \"Next\": \"ExecPilot\"\n",
    "    },\n",
    "    \"ExecPilot\": {\n",
    "      \"Comment\": \"Generate plots from the data\",\n",
    "      \"Type\": \"Action\",\n",
    "      \"ActionUrl\": \"https://funcx.org/automate\",\n",
    "      \"ActionScope\": \"https://auth.globus.org/scopes/facd7ccc-c5f4-42aa-916b-a0e270e2c2a9/automate2\",\n",
    "      \"InputPath\": \"$.Exec3Input\",\n",
    "      \"ResultPath\": \"$.Exec3Result\",\n",
    "      \"WaitTime\": 12000,\n",
    "      \"End\": True\n",
    "    }\n",
    "  }\n",
    "}"
   ]
  },
  {
   "cell_type": "markdown",
   "metadata": {},
   "source": [
    "## Automate XPCS\n",
    "\n",
    "Alright, now we have a function that can run corr on Theta given an input hdf and imm file. Now we can combine using the function with Automate to first transfer data to Theta, use funcX, then return the result.\n",
    "\n",
    "This example outlines a flow that does a transfer, runs funcX, then does another transfer. We can parameterize these steps with whatever commands and endpoints we like. We use longer timeouts to account for transfer and compute delays."
   ]
  },
  {
   "cell_type": "code",
   "execution_count": 7,
   "metadata": {
    "scrolled": true
   },
   "outputs": [
    {
     "ename": "NameError",
     "evalue": "name 'xpcs_flow_definition' is not defined",
     "output_type": "error",
     "traceback": [
      "\u001b[0;31m---------------------------------------------------------------------------\u001b[0m",
      "\u001b[0;31mNameError\u001b[0m                                 Traceback (most recent call last)",
      "\u001b[0;32m<ipython-input-7-35015dc369ad>\u001b[0m in \u001b[0;36m<module>\u001b[0;34m\u001b[0m\n\u001b[1;32m      2\u001b[0m \u001b[0mflows_client\u001b[0m \u001b[0;34m=\u001b[0m \u001b[0mcreate_flows_client\u001b[0m\u001b[0;34m(\u001b[0m\u001b[0mCLIENT_ID\u001b[0m\u001b[0;34m)\u001b[0m\u001b[0;34m\u001b[0m\u001b[0;34m\u001b[0m\u001b[0m\n\u001b[1;32m      3\u001b[0m \u001b[0;31m# Deploy the new flow\u001b[0m\u001b[0;34m\u001b[0m\u001b[0;34m\u001b[0m\u001b[0;34m\u001b[0m\u001b[0m\n\u001b[0;32m----> 4\u001b[0;31m \u001b[0mflow\u001b[0m \u001b[0;34m=\u001b[0m \u001b[0mflows_client\u001b[0m\u001b[0;34m.\u001b[0m\u001b[0mdeploy_flow\u001b[0m\u001b[0;34m(\u001b[0m\u001b[0mxpcs_flow_definition\u001b[0m\u001b[0;34m,\u001b[0m \u001b[0mtitle\u001b[0m\u001b[0;34m=\u001b[0m\u001b[0;34m\"XPCS\"\u001b[0m\u001b[0;34m)\u001b[0m\u001b[0;34m\u001b[0m\u001b[0;34m\u001b[0m\u001b[0m\n\u001b[0m\u001b[1;32m      5\u001b[0m \u001b[0mflow_id\u001b[0m \u001b[0;34m=\u001b[0m \u001b[0mflow\u001b[0m\u001b[0;34m.\u001b[0m\u001b[0mdata\u001b[0m\u001b[0;34m[\u001b[0m\u001b[0;34m'id'\u001b[0m\u001b[0;34m]\u001b[0m\u001b[0;34m\u001b[0m\u001b[0;34m\u001b[0m\u001b[0m\n\u001b[1;32m      6\u001b[0m \u001b[0mflow_scope\u001b[0m \u001b[0;34m=\u001b[0m \u001b[0mflow\u001b[0m\u001b[0;34m[\u001b[0m\u001b[0;34m'globus_auth_scope'\u001b[0m\u001b[0;34m]\u001b[0m\u001b[0;34m\u001b[0m\u001b[0;34m\u001b[0m\u001b[0m\n",
      "\u001b[0;31mNameError\u001b[0m: name 'xpcs_flow_definition' is not defined"
     ]
    }
   ],
   "source": [
    "# Create the client, and login\n",
    "flows_client = create_flows_client(CLIENT_ID)\n",
    "# Deploy the new flow\n",
    "flow = flows_client.deploy_flow(xpcs_flow_definition, title=\"XPCS\")\n",
    "flow_id = flow.data['id']\n",
    "flow_scope = flow['globus_auth_scope']\n",
    "print(f'Newly created flow with id:\\n{flow_id}\\nand scope:\\n{flow_scope}')\n",
    "\n",
    "# Display the visualization for the new flow\n",
    "get_resp = flows_client.get_flow(flow_id)\n",
    "flow_def = get_resp.data['definition']\n",
    "flow_graph = graphviz_format(flow_def)\n",
    "display(flow_graph)"
   ]
  },
  {
   "cell_type": "code",
   "execution_count": null,
   "metadata": {},
   "outputs": [],
   "source": [
    "flow_input = {\n",
    "  \"Transfer1Input\": {\n",
    "    \"source_endpoint_id\": clutch_globus_ep,\n",
    "    \"destination_endpoint_id\": theta_globus_ep,\n",
    "    \"transfer_items\": [\n",
    "      {\n",
    "        \"source_path\": \"/data/xpcs8/2019-1/comm201901/cluster_results/A001_Aerogel_1mm_att6_Lq0_001_0001-1000.hdf\",\n",
    "        \"destination_path\": \"/projects/APSDataAnalysis/Automate/1568234886/A001_Aerogel_1mm_att6_Lq0_001_0001-1000.hdf\",\n",
    "        \"recursive\": False\n",
    "      }\n",
    "    ],\n",
    "    \"sync_level\": \"exists\"\n",
    "  },\n",
    "  \"Transfer2Input\": {\n",
    "    \"source_endpoint_id\": clutch_globus_ep,\n",
    "    \"destination_endpoint_id\": theta_globus_ep,\n",
    "    \"transfer_items\": [\n",
    "      {\n",
    "        \"source_path\": \"/data/xpcs8/2019-1/comm201901/A001_Aerogel_1mm_att6_Lq0_001/A001_Aerogel_1mm_att6_Lq0_001_00001-01000.imm\",\n",
    "        \"destination_path\": \"/projects/APSDataAnalysis/Automate/1568234886/A001_Aerogel_1mm_att6_Lq0_001_00001-01000.imm\",\n",
    "        \"recursive\": False\n",
    "      }\n",
    "    ],\n",
    "    \"sync_level\": \"exists\"\n",
    "\n",
    "  },\n",
    "  \"Exec1Input\": {\n",
    "    \"endpoint\": theta_funcx_ep,\n",
    "    \"func\": corr_func_id,\n",
    "    \"data\": {\n",
    "      \"hdf\": \"/projects/APSDataAnalysis/Automate/1568234886/A001_Aerogel_1mm_att6_Lq0_001_0001-1000.hdf\",\n",
    "      \"imm\": \"/projects/APSDataAnalysis/Automate/1568234886/A001_Aerogel_1mm_att6_Lq0_001_00001-01000.imm\"\n",
    "    }\n",
    "  },\n",
    "  \"Exec2Input\": {\n",
    "    \"endpoint\": theta_funcx_ep,\n",
    "    \"func\": hdf_func_id,\n",
    "    \"data\": {\n",
    "      \"hdf\": \"/projects/APSDataAnalysis/Automate/1568234886/A001_Aerogel_1mm_att6_Lq0_001_0001-1000.hdf\",\n",
    "      \"custom_metadata\": {\n",
    "        \"description\": f\"funcx: Automated data processing.\",\n",
    "        \"creators\": [{\"creatorName\": \"8-ID\"}],\n",
    "        \"publisher\": \"Automate\",\n",
    "        \"title\": \"A001_Aerogel_1mm_att6_Lq0_001_0001-1000\",\n",
    "        \"subjects\": [{\"subject\": \"XPCS\"}, {\"subject\": \"8-ID\"}],\n",
    "        \"publicationYear\": \"2019\",\n",
    "        \"resourceType\": {\n",
    "            \"resourceType\": \"Dataset\",\n",
    "            \"resourceTypeGeneral\": \"Dataset\"\n",
    "        }\n",
    "      }\n",
    "    }\n",
    "  },\n",
    "  \"Transfer3Input\": {\n",
    "    \"source_endpoint_id\": theta_globus_ep,\n",
    "    \"destination_endpoint_id\": petreldata_xpcs_globus_ep,\n",
    "    \"transfer_items\": [\n",
    "      {\n",
    "        \"source_path\": \"/projects/APSDataAnalysis/Automate/1568234886/A001_Aerogel_1mm_att6_Lq0_001_0001-1000\",\n",
    "        \"destination_path\": \"/XPCSDATA/test/nick-testing\",\n",
    "        \"recursive\": False\n",
    "      }\n",
    "    ]\n",
    "  },\n",
    "}\n"
   ]
  },
  {
   "cell_type": "code",
   "execution_count": null,
   "metadata": {},
   "outputs": [],
   "source": [
    "flow_action = flows_client.run_flow(flow_id, flow_scope, flow_input)\n",
    "print(flow_action)\n",
    "flow_action_id = flow_action['action_id']\n",
    "flow_status = flow_action['status']\n",
    "print(f'Flow action started with id: {flow_action_id}')\n",
    "while flow_status == 'ACTIVE':\n",
    "    time.sleep(10)\n",
    "    flow_action = flows_client.flow_action_status(flow_id, flow_scope, flow_action_id)\n",
    "    flow_status = flow_action['status']\n",
    "    flow_description = flow_action['details'].get('description')\n",
    "    print(f'Flow status: {flow_status}: {flow_description}')"
   ]
  },
  {
   "cell_type": "code",
   "execution_count": null,
   "metadata": {},
   "outputs": [],
   "source": []
  }
 ],
 "metadata": {
  "celltoolbar": "Attachments",
  "kernelspec": {
   "display_name": "Python 3",
   "language": "python",
   "name": "python3"
  },
  "language_info": {
   "codemirror_mode": {
    "name": "ipython",
    "version": 3
   },
   "file_extension": ".py",
   "mimetype": "text/x-python",
   "name": "python",
   "nbconvert_exporter": "python",
   "pygments_lexer": "ipython3",
   "version": "3.6.8"
  }
 },
 "nbformat": 4,
 "nbformat_minor": 2
}
