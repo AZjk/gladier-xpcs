{
 "cells": [
  {
   "cell_type": "markdown",
   "metadata": {},
   "source": [
    "# Automate XPCS"
   ]
  },
  {
   "cell_type": "code",
   "execution_count": 1,
   "metadata": {},
   "outputs": [],
   "source": [
    "from globus_automate_client import (create_flows_client, graphviz_format, state_colors_for_log,\n",
    "                                    get_access_token_for_scope, create_action_client, \n",
    "                                    create_flows_client)\n",
    "from IPython.display import display, display_svg, clear_output\n",
    "from ipywidgets import widgets\n",
    "import time\n",
    "import json\n",
    "import sys\n",
    "import os\n",
    "\n",
    "from funcx.sdk.client import FuncXClient\n",
    "\n",
    "\n",
    "sys.path.append(\".\")\n",
    "os.environ['JUPYTER_PATH'] = '.'\n",
    "CLIENT_ID = \"e6c75d97-532a-4c88-b031-8584a319fa3e\""
   ]
  },
  {
   "cell_type": "markdown",
   "metadata": {},
   "source": [
    "## funcX\n",
    "\n",
    "Deine the analysis and plotting functions used in the flow."
   ]
  },
  {
   "cell_type": "code",
   "execution_count": 2,
   "metadata": {},
   "outputs": [],
   "source": [
    "fxc = FuncXClient()"
   ]
  },
  {
   "cell_type": "code",
   "execution_count": 3,
   "metadata": {},
   "outputs": [],
   "source": [
    "login_ep = '6c4323f4-a062-4551-a883-146a352a43f5'\n",
    "theta_ep = '9f84f41e-dfb6-4633-97be-b46901e9384c'"
   ]
  },
  {
   "cell_type": "code",
   "execution_count": 4,
   "metadata": {},
   "outputs": [
    {
     "name": "stdout",
     "output_type": "stream",
     "text": [
      "e53e57d9-e2b0-4d65-9a2b-a37068cede06\n"
     ]
    }
   ],
   "source": [
    "def alcf_xpcs_corr(event):\n",
    "    import time\n",
    "    import json\n",
    "    import subprocess\n",
    "    from subprocess import PIPE\n",
    "    \n",
    "    print(\"Starting XPCS Corr\")\n",
    "    \n",
    "    hdf_file = event['data']['hdf']\n",
    "    imm_file = event['data']['imm']\n",
    "    \n",
    "    flags = \"\"\n",
    "    if \"flags\" in event['data']:\n",
    "        flags = event['data']\n",
    "    \n",
    "    cmd = f\"/soft/datascience/xpcs_eigen/build/corr {hdf_file} -imm {imm_file} {flags}\"\n",
    "    cmd = cmd.strip().split(\" \")\n",
    "    \n",
    "    res = subprocess.run(cmd, stdout=PIPE, stderr=PIPE)\n",
    "    print(res.stdout)\n",
    "    print(res.stderr)\n",
    "    return str(res.stdout)\n",
    "\n",
    "alcf_xpcs_corr_func_uuid = fxc.register_function(alcf_xpcs_corr, description=\"An XPCS corr function.\")\n",
    "print(alcf_xpcs_corr_func_uuid)"
   ]
  },
  {
   "cell_type": "code",
   "execution_count": 5,
   "metadata": {},
   "outputs": [
    {
     "name": "stdout",
     "output_type": "stream",
     "text": [
      "add04aa4-4275-4532-bb17-4e73981975a9\n"
     ]
    }
   ],
   "source": [
    "def plot_xpcs(event):\n",
    "    import os\n",
    "    import time\n",
    "    import json\n",
    "    import shutil\n",
    "    import pickle\n",
    "    import subprocess\n",
    "    from subprocess import PIPE\n",
    "    \n",
    "    hdf_file = event['data']['hdf']\n",
    "    hdf_file_name = hdf_file.split(\"/\")[-1]\n",
    "    exp_name = \".\".join(hdf_file.split(\"/\")[-1].split(\".\")[:-1])\n",
    "    \n",
    "    dir_name = \"/\".join(hdf_file.split('/')[:-1])\n",
    "\n",
    "    os.chdir(dir_name)\n",
    "    \n",
    "    python = '/home/rchard/.conda/envs/funcx-theta/bin/python'\n",
    "    xpcs_plot = '/home/rchard/src/globus-automation/XPCS/tools/xpcs_plots.py'\n",
    "    xpcs_meta = '/home/rchard/src/globus-automation/XPCS/tools/xpcs_metadata.py'\n",
    "    xpcs_qc = '/home/rchard/src/globus-automation/XPCS/tools/xpcs_qc.py'\n",
    "\n",
    "    cmd = f\"{python} {xpcs_plot} {hdf_file}\"\n",
    "    print(cmd)\n",
    "    cmd = cmd.split(\" \")\n",
    "    res = subprocess.run(cmd, stdout=PIPE, stderr=PIPE)\n",
    "    print(res.stdout)\n",
    "    \n",
    "    cmd = f\"{python} {xpcs_meta} gather {hdf_file}\"\n",
    "    print(cmd)\n",
    "    \n",
    "    my_env = os.environ.copy()\n",
    "    my_env[\"LC_ALL\"] = \"C.UTF-8\"\n",
    "    my_env[\"LANG\"] = \"C.UTF-8\"\n",
    "    \n",
    "    cmd = cmd.split(\" \")\n",
    "    res = subprocess.run(cmd, stdout=PIPE, stderr=PIPE, env=my_env)\n",
    "    print(res.stdout)\n",
    "    print(res.stderr)\n",
    "\n",
    "    return cmd\n",
    "    return 'done'\n",
    "\n",
    "plot_xpcs_func_uuid = fxc.register_function(plot_xpcs, description=\"An XPCS corr function.\")\n",
    "print(plot_xpcs_func_uuid)"
   ]
  },
  {
   "cell_type": "code",
   "execution_count": 6,
   "metadata": {},
   "outputs": [
    {
     "name": "stdout",
     "output_type": "stream",
     "text": [
      "b0cbd84f-9670-437a-bd53-2d8119e8099e\n"
     ]
    }
   ],
   "source": [
    "def alcf_xpcs_pilot(event):\n",
    "    import os\n",
    "    import time\n",
    "    import json\n",
    "    import subprocess\n",
    "    from subprocess import PIPE\n",
    "    from XPCS.tools.xpcs_metadata import gather\n",
    "    from pilot.client import PilotClient\n",
    "    from pilot.search import gen_gmeta\n",
    "    try:\n",
    "        hdf_file = event['data']['hdf']\n",
    "        exp_dir = \"/\".join(event['data']['hdf'].split(\"/\")[:-1])\n",
    "        exp_name = event['data']['hdf'].split(\"/\")[-1].replace(\".hdf\", \"\")\n",
    "\n",
    "        # Create metadata file\n",
    "        metadata = gather(hdf_file)\n",
    "        metadata['title'] = exp_name\n",
    "        try:\n",
    "            metadata.pop('exchange.partition_norm_factor')\n",
    "        except:\n",
    "            pass\n",
    "\n",
    "        pc = PilotClient()\n",
    "        pc.project.current = 'xpcs-8id'\n",
    "\n",
    "        res = pc.upload(exp_dir, '/', metadata=metadata, dry_run=False, update=True)\n",
    "    except Exception as e:\n",
    "        return(f\"Failed: {e}\")\n",
    "    \n",
    "    return 'done'\n",
    "\n",
    "pilot_func_uuid = fxc.register_function(alcf_xpcs_pilot, description=\"An XPCS pilot function.\")\n",
    "print(pilot_func_uuid)"
   ]
  },
  {
   "cell_type": "markdown",
   "metadata": {},
   "source": [
    "## Automate XPCS\n",
    "\n",
    "Combine using the functions with Automate to first transfer data to Theta, use funcX, then return the result."
   ]
  },
  {
   "cell_type": "code",
   "execution_count": 7,
   "metadata": {},
   "outputs": [],
   "source": [
    "flow_definition = {\n",
    "  \"Comment\": \"Automate XPCS\",\n",
    "  \"StartAt\": \"Transfer1\",\n",
    "  \"States\": {\n",
    "    \"Transfer1\": {\n",
    "      \"Comment\": \"Initial Transfer from APS to ALCF\",\n",
    "      \"Type\": \"Action\",\n",
    "      \"ActionUrl\": \"https://actions.automate.globus.org/transfer/transfer\",\n",
    "      \"ActionScope\": \"https://auth.globus.org/scopes/actions.globus.org/transfer/transfer\",\n",
    "      \"InputPath\": \"$.Transfer1Input\",\n",
    "      \"ResultPath\": \"$.Transfer1Result\",\n",
    "      \"WaitTime\": 6000,\n",
    "      \"Next\": \"ExecCorr\"\n",
    "    },\n",
    "    \"ExecCorr\": {\n",
    "      \"Comment\": \"Use corr to process the data\",\n",
    "      \"Type\": \"Action\",\n",
    "      \"ActionUrl\": \"https://funcx.org/automate\",\n",
    "      \"ActionScope\": \"https://auth.globus.org/scopes/facd7ccc-c5f4-42aa-916b-a0e270e2c2a9/automate2\",\n",
    "      \"InputPath\": \"$.Exec1Input\",\n",
    "      \"ResultPath\": \"$.Exec1Result\",\n",
    "      \"WaitTime\": 12000,\n",
    "      \"Next\": \"Transfer2\"\n",
    "    },\n",
    "    \"Transfer2\": {\n",
    "      \"Comment\": \"Initial Transfer from APS to ALCF\",\n",
    "      \"Type\": \"Action\",\n",
    "      \"ActionUrl\": \"https://actions.automate.globus.org/transfer/transfer\",\n",
    "      \"ActionScope\": \"https://auth.globus.org/scopes/actions.globus.org/transfer/transfer\",\n",
    "      \"InputPath\": \"$.Transfer2Input\",\n",
    "      \"ResultPath\": \"$.Transfer2Result\",\n",
    "      \"WaitTime\": 6000,\n",
    "      \"Next\": \"ExecPlots\"\n",
    "    },\n",
    "    \"ExecPlots\": {\n",
    "      \"Comment\": \"Generate plots from the data\",\n",
    "      \"Type\": \"Action\",\n",
    "      \"ActionUrl\": \"https://funcx.org/automate\",\n",
    "      \"ActionScope\": \"https://auth.globus.org/scopes/facd7ccc-c5f4-42aa-916b-a0e270e2c2a9/automate2\",\n",
    "      \"InputPath\": \"$.Exec2Input\",\n",
    "      \"ResultPath\": \"$.Exec2Result\",\n",
    "      \"WaitTime\": 12000,\n",
    "      \"Next\": \"ExecPilot\"\n",
    "    },\n",
    "    \"ExecPilot\": {\n",
    "      \"Comment\": \"Generate plots from the data\",\n",
    "      \"Type\": \"Action\",\n",
    "      \"ActionUrl\": \"https://funcx.org/automate\",\n",
    "      \"ActionScope\": \"https://auth.globus.org/scopes/facd7ccc-c5f4-42aa-916b-a0e270e2c2a9/automate2\",\n",
    "      \"InputPath\": \"$.Exec3Input\",\n",
    "      \"ResultPath\": \"$.Exec3Result\",\n",
    "      \"WaitTime\": 12000,\n",
    "      \"End\": True\n",
    "    }\n",
    "  }\n",
    "}"
   ]
  },
  {
   "cell_type": "code",
   "execution_count": 8,
   "metadata": {
    "scrolled": true
   },
   "outputs": [
    {
     "name": "stdout",
     "output_type": "stream",
     "text": [
      "GlobusHTTPResponse({'action_url': 'http://flows.automate.globus.org/flows/37488591-c036-4756-8a88-194578d425ba', 'administered_by': [], 'api_version': '1.0', 'definition': {'Comment': 'Automate XPCS', 'StartAt': 'Transfer1', 'States': {'ExecCorr': {'ActionScope': 'https://auth.globus.org/scopes/facd7ccc-c5f4-42aa-916b-a0e270e2c2a9/automate2', 'ActionUrl': 'https://funcx.org/automate', 'Comment': 'Use corr to process the data', 'InputPath': '$.Exec1Input', 'Next': 'Transfer2', 'ResultPath': '$.Exec1Result', 'Type': 'Action', 'WaitTime': 12000}, 'ExecPilot': {'ActionScope': 'https://auth.globus.org/scopes/facd7ccc-c5f4-42aa-916b-a0e270e2c2a9/automate2', 'ActionUrl': 'https://funcx.org/automate', 'Comment': 'Generate plots from the data', 'End': True, 'InputPath': '$.Exec3Input', 'ResultPath': '$.Exec3Result', 'Type': 'Action', 'WaitTime': 12000}, 'ExecPlots': {'ActionScope': 'https://auth.globus.org/scopes/facd7ccc-c5f4-42aa-916b-a0e270e2c2a9/automate2', 'ActionUrl': 'https://funcx.org/automate', 'Comment': 'Generate plots from the data', 'InputPath': '$.Exec2Input', 'Next': 'ExecPilot', 'ResultPath': '$.Exec2Result', 'Type': 'Action', 'WaitTime': 12000}, 'Transfer1': {'ActionScope': 'https://auth.globus.org/scopes/actions.globus.org/transfer/transfer', 'ActionUrl': 'https://actions.automate.globus.org/transfer/transfer', 'Comment': 'Initial Transfer from APS to ALCF', 'InputPath': '$.Transfer1Input', 'Next': 'ExecCorr', 'ResultPath': '$.Transfer1Result', 'Type': 'Action', 'WaitTime': 6000}, 'Transfer2': {'ActionScope': 'https://auth.globus.org/scopes/actions.globus.org/transfer/transfer', 'ActionUrl': 'https://actions.automate.globus.org/transfer/transfer', 'Comment': 'Initial Transfer from APS to ALCF', 'InputPath': '$.Transfer2Input', 'Next': 'ExecPlots', 'ResultPath': '$.Transfer2Result', 'Type': 'Action', 'WaitTime': 6000}}}, 'description': '', 'globus_auth_scope': 'https://auth.globus.org/scopes/37488591-c036-4756-8a88-194578d425ba/flow_37488591_c036_4756_8a88_194578d425ba', 'globus_auth_username': '37488591-c036-4756-8a88-194578d425ba@clients.auth.globus.org', 'id': '37488591-c036-4756-8a88-194578d425ba', 'keywords': [], 'log_supported': True, 'principal_urn': 'urn:globus:auth:identity:37488591-c036-4756-8a88-194578d425ba', 'runnable_by': [], 'subtitle': '', 'synchronous': False, 'title': 'XPCS', 'types': ['Action'], 'visible_to': []})\n",
      "GlobusHTTPResponse({'action_url': 'http://flows.automate.globus.org/flows/37488591-c036-4756-8a88-194578d425ba', 'administered_by': [], 'api_version': '1.0', 'definition': {'Comment': 'Automate XPCS', 'StartAt': 'Transfer1', 'States': {'ExecCorr': {'ActionScope': 'https://auth.globus.org/scopes/facd7ccc-c5f4-42aa-916b-a0e270e2c2a9/automate2', 'ActionUrl': 'https://funcx.org/automate', 'Comment': 'Use corr to process the data', 'InputPath': '$.Exec1Input', 'Next': 'Transfer2', 'ResultPath': '$.Exec1Result', 'Type': 'Action', 'WaitTime': 12000}, 'ExecPilot': {'ActionScope': 'https://auth.globus.org/scopes/facd7ccc-c5f4-42aa-916b-a0e270e2c2a9/automate2', 'ActionUrl': 'https://funcx.org/automate', 'Comment': 'Generate plots from the data', 'End': True, 'InputPath': '$.Exec3Input', 'ResultPath': '$.Exec3Result', 'Type': 'Action', 'WaitTime': 12000}, 'ExecPlots': {'ActionScope': 'https://auth.globus.org/scopes/facd7ccc-c5f4-42aa-916b-a0e270e2c2a9/automate2', 'ActionUrl': 'https://funcx.org/automate', 'Comment': 'Generate plots from the data', 'InputPath': '$.Exec2Input', 'Next': 'ExecPilot', 'ResultPath': '$.Exec2Result', 'Type': 'Action', 'WaitTime': 12000}, 'Transfer1': {'ActionScope': 'https://auth.globus.org/scopes/actions.globus.org/transfer/transfer', 'ActionUrl': 'https://actions.automate.globus.org/transfer/transfer', 'Comment': 'Initial Transfer from APS to ALCF', 'InputPath': '$.Transfer1Input', 'Next': 'ExecCorr', 'ResultPath': '$.Transfer1Result', 'Type': 'Action', 'WaitTime': 6000}, 'Transfer2': {'ActionScope': 'https://auth.globus.org/scopes/actions.globus.org/transfer/transfer', 'ActionUrl': 'https://actions.automate.globus.org/transfer/transfer', 'Comment': 'Initial Transfer from APS to ALCF', 'InputPath': '$.Transfer2Input', 'Next': 'ExecPlots', 'ResultPath': '$.Transfer2Result', 'Type': 'Action', 'WaitTime': 6000}}}, 'description': '', 'globus_auth_scope': 'https://auth.globus.org/scopes/37488591-c036-4756-8a88-194578d425ba/flow_37488591_c036_4756_8a88_194578d425ba', 'globus_auth_username': '37488591-c036-4756-8a88-194578d425ba@clients.auth.globus.org', 'id': '37488591-c036-4756-8a88-194578d425ba', 'keywords': [], 'log_supported': True, 'principal_urn': 'urn:globus:auth:identity:37488591-c036-4756-8a88-194578d425ba', 'runnable_by': [], 'subtitle': '', 'synchronous': False, 'title': 'XPCS', 'types': ['Action'], 'visible_to': []})\n",
      "Newly created flow with id:\n",
      "37488591-c036-4756-8a88-194578d425ba\n",
      "and scope:\n",
      "https://auth.globus.org/scopes/37488591-c036-4756-8a88-194578d425ba/flow_37488591_c036_4756_8a88_194578d425ba\n"
     ]
    }
   ],
   "source": [
    "flows_client = create_flows_client(CLIENT_ID)\n",
    "flow = flows_client.deploy_flow(flow_definition, title=\"XPCS\")\n",
    "from pprint import pprint\n",
    "pprint(flow)\n",
    "flow_id = flow.data['id']\n",
    "print(flow)\n",
    "flow_scope = flow['globus_auth_scope']\n",
    "print(f'Newly created flow with id:\\n{flow_id}\\nand scope:\\n{flow_scope}')"
   ]
  },
  {
   "cell_type": "code",
   "execution_count": 9,
   "metadata": {},
   "outputs": [
    {
     "data": {
      "image/svg+xml": [
       "<?xml version=\"1.0\" encoding=\"UTF-8\" standalone=\"no\"?>\n",
       "<!DOCTYPE svg PUBLIC \"-//W3C//DTD SVG 1.1//EN\"\n",
       " \"http://www.w3.org/Graphics/SVG/1.1/DTD/svg11.dtd\">\n",
       "<!-- Generated by graphviz version 2.40.1 (20161225.0304)\n",
       " -->\n",
       "<!-- Title: %3 Pages: 1 -->\n",
       "<svg width=\"176pt\" height=\"342pt\"\n",
       " viewBox=\"0.00 0.00 176.00 342.00\" xmlns=\"http://www.w3.org/2000/svg\" xmlns:xlink=\"http://www.w3.org/1999/xlink\">\n",
       "<g id=\"graph0\" class=\"graph\" transform=\"scale(1 1) rotate(0) translate(4 338)\">\n",
       "<title>%3</title>\n",
       "<polygon fill=\"#ffffff\" stroke=\"transparent\" points=\"-4,4 -4,-338 172,-338 172,4 -4,4\"/>\n",
       "<!-- ExecCorr -->\n",
       "<g id=\"node1\" class=\"node\">\n",
       "<title>ExecCorr</title>\n",
       "<polygon fill=\"none\" stroke=\"#000000\" points=\"158.5,-260 9.5,-260 9.5,-222 158.5,-222 158.5,-260\"/>\n",
       "<text text-anchor=\"start\" x=\"58\" y=\"-244.8\" font-family=\"Times,serif\" font-size=\"14.00\" fill=\"#000000\">ExecCorr</text>\n",
       "<text text-anchor=\"start\" x=\"17.5\" y=\"-229.8\" font-family=\"Times,serif\" font-size=\"14.00\" fill=\"#000000\">InputPath: $.Exec1Input</text>\n",
       "</g>\n",
       "<!-- Transfer2 -->\n",
       "<g id=\"node2\" class=\"node\">\n",
       "<title>Transfer2</title>\n",
       "<polygon fill=\"none\" stroke=\"#000000\" points=\"168,-186 0,-186 0,-148 168,-148 168,-186\"/>\n",
       "<text text-anchor=\"start\" x=\"57.5\" y=\"-170.8\" font-family=\"Times,serif\" font-size=\"14.00\" fill=\"#000000\">Transfer2</text>\n",
       "<text text-anchor=\"start\" x=\"8\" y=\"-155.8\" font-family=\"Times,serif\" font-size=\"14.00\" fill=\"#000000\">InputPath: $.Transfer2Input</text>\n",
       "</g>\n",
       "<!-- ExecCorr&#45;&gt;Transfer2 -->\n",
       "<g id=\"edge1\" class=\"edge\">\n",
       "<title>ExecCorr&#45;&gt;Transfer2</title>\n",
       "<path fill=\"none\" stroke=\"#000000\" d=\"M84,-221.9432C84,-214.1493 84,-204.9538 84,-196.3381\"/>\n",
       "<polygon fill=\"#000000\" stroke=\"#000000\" points=\"87.5001,-196.2494 84,-186.2495 80.5001,-196.2495 87.5001,-196.2494\"/>\n",
       "</g>\n",
       "<!-- ExecPlots -->\n",
       "<g id=\"node4\" class=\"node\">\n",
       "<title>ExecPlots</title>\n",
       "<polygon fill=\"none\" stroke=\"#000000\" points=\"158.5,-112 9.5,-112 9.5,-74 158.5,-74 158.5,-112\"/>\n",
       "<text text-anchor=\"start\" x=\"56.5\" y=\"-96.8\" font-family=\"Times,serif\" font-size=\"14.00\" fill=\"#000000\">ExecPlots</text>\n",
       "<text text-anchor=\"start\" x=\"17.5\" y=\"-81.8\" font-family=\"Times,serif\" font-size=\"14.00\" fill=\"#000000\">InputPath: $.Exec2Input</text>\n",
       "</g>\n",
       "<!-- Transfer2&#45;&gt;ExecPlots -->\n",
       "<g id=\"edge4\" class=\"edge\">\n",
       "<title>Transfer2&#45;&gt;ExecPlots</title>\n",
       "<path fill=\"none\" stroke=\"#000000\" d=\"M84,-147.9432C84,-140.1493 84,-130.9538 84,-122.3381\"/>\n",
       "<polygon fill=\"#000000\" stroke=\"#000000\" points=\"87.5001,-122.2494 84,-112.2495 80.5001,-122.2495 87.5001,-122.2494\"/>\n",
       "</g>\n",
       "<!-- ExecPilot -->\n",
       "<g id=\"node3\" class=\"node\">\n",
       "<title>ExecPilot</title>\n",
       "<polygon fill=\"none\" stroke=\"#000000\" points=\"158.5,-38 9.5,-38 9.5,0 158.5,0 158.5,-38\"/>\n",
       "<text text-anchor=\"start\" x=\"57.5\" y=\"-22.8\" font-family=\"Times,serif\" font-size=\"14.00\" fill=\"#000000\">ExecPilot</text>\n",
       "<text text-anchor=\"start\" x=\"17.5\" y=\"-7.8\" font-family=\"Times,serif\" font-size=\"14.00\" fill=\"#000000\">InputPath: $.Exec3Input</text>\n",
       "</g>\n",
       "<!-- ExecPlots&#45;&gt;ExecPilot -->\n",
       "<g id=\"edge2\" class=\"edge\">\n",
       "<title>ExecPlots&#45;&gt;ExecPilot</title>\n",
       "<path fill=\"none\" stroke=\"#000000\" d=\"M84,-73.9432C84,-66.1493 84,-56.9538 84,-48.3381\"/>\n",
       "<polygon fill=\"#000000\" stroke=\"#000000\" points=\"87.5001,-48.2494 84,-38.2495 80.5001,-48.2495 87.5001,-48.2494\"/>\n",
       "</g>\n",
       "<!-- Transfer1 -->\n",
       "<g id=\"node5\" class=\"node\">\n",
       "<title>Transfer1</title>\n",
       "<polygon fill=\"none\" stroke=\"#000000\" points=\"168,-334 0,-334 0,-296 168,-296 168,-334\"/>\n",
       "<text text-anchor=\"start\" x=\"57.5\" y=\"-318.8\" font-family=\"Times,serif\" font-size=\"14.00\" fill=\"#000000\">Transfer1</text>\n",
       "<text text-anchor=\"start\" x=\"8\" y=\"-303.8\" font-family=\"Times,serif\" font-size=\"14.00\" fill=\"#000000\">InputPath: $.Transfer1Input</text>\n",
       "</g>\n",
       "<!-- Transfer1&#45;&gt;ExecCorr -->\n",
       "<g id=\"edge3\" class=\"edge\">\n",
       "<title>Transfer1&#45;&gt;ExecCorr</title>\n",
       "<path fill=\"none\" stroke=\"#000000\" d=\"M84,-295.9432C84,-288.1493 84,-278.9538 84,-270.3381\"/>\n",
       "<polygon fill=\"#000000\" stroke=\"#000000\" points=\"87.5001,-270.2494 84,-260.2495 80.5001,-270.2495 87.5001,-270.2494\"/>\n",
       "</g>\n",
       "</g>\n",
       "</svg>\n"
      ],
      "text/plain": [
       "<graphviz.dot.Digraph at 0x7f7be480ec50>"
      ]
     },
     "metadata": {},
     "output_type": "display_data"
    }
   ],
   "source": [
    "get_resp = flows_client.get_flow(flow_id)\n",
    "flow_def = get_resp.data['definition']\n",
    "flow_graph = graphviz_format(flow_def)\n",
    "display(flow_graph)"
   ]
  },
  {
   "cell_type": "markdown",
   "metadata": {},
   "source": [
    "Define a function to serialize inputs for funcX"
   ]
  },
  {
   "cell_type": "code",
   "execution_count": 10,
   "metadata": {},
   "outputs": [],
   "source": [
    "def serialize_fx_inputs(*args, **kwargs):\n",
    "    from funcx.serialize import FuncXSerializer\n",
    "    fx_serializer = FuncXSerializer()\n",
    "    ser_args = fx_serializer.serialize(args)\n",
    "    ser_kwargs = fx_serializer.serialize(kwargs)\n",
    "    payload = fx_serializer.pack_buffers([ser_args, ser_kwargs])\n",
    "    return payload"
   ]
  },
  {
   "cell_type": "code",
   "execution_count": 11,
   "metadata": {},
   "outputs": [],
   "source": [
    "event = {\"data\": {\n",
    "         \"hdf\": \"/projects/APSDataAnalysis/Automate/A001_Aerogel5-4/A001_Aerogel5-4.hdf\",\n",
    "         \"imm\": \"/projects/APSDataAnalysis/Automate/A001_Aerogel5-4/A001_Aerogel5-4.imm\",\n",
    "#          \"flags\": \"--rigaku\",\n",
    "     }}\n",
    "funcx_payload = serialize_fx_inputs(event=event)\n",
    "# print(funcx_payload)"
   ]
  },
  {
   "cell_type": "code",
   "execution_count": 12,
   "metadata": {},
   "outputs": [],
   "source": [
    "flow_input = {\n",
    "  \"Transfer1Input\": {\n",
    "    \"source_endpoint_id\": \"fdc7e74a-fa78-11e8-9342-0e3d676669f4\",\n",
    "    \"destination_endpoint_id\": \"08925f04-569f-11e7-bef8-22000b9a448b\",\n",
    "    \"transfer_items\": [\n",
    "      {\n",
    "        \"source_path\": \"/data/xpcs8/2019-1/comm201901/cluster_results/A001_Aerogel_1mm_att6_Lq0_001_0001-1000.hdf\",\n",
    "        \"destination_path\": event['data']['hdf'],\n",
    "        \"recursive\": False\n",
    "      },\n",
    "      {\n",
    "        \"source_path\": \"/data/xpcs8/2019-1/comm201901/A001_Aerogel_1mm_att6_Lq0_001/A001_Aerogel_1mm_att6_Lq0_001_00001-01000.imm\",\n",
    "        \"destination_path\": event['data']['imm'],\n",
    "        \"recursive\": False\n",
    "      }\n",
    "    ]\n",
    "  },\n",
    "  \"Exec1Input\": {\n",
    "    \"endpoint\":theta_ep,\n",
    "     \"func\":alcf_xpcs_corr_func_uuid,\n",
    "     \"payload\": funcx_payload\n",
    "  },\n",
    "  \"Exec2Input\": {\n",
    "    \"endpoint\":theta_ep,\n",
    "     \"func\":plot_xpcs_func_uuid,\n",
    "     \"payload\": funcx_payload\n",
    "  },\n",
    "  \"Exec3Input\": {\n",
    "      \"endpoint\": login_ep,\n",
    "      \"func\": pilot_func_uuid,\n",
    "      \"payload\": funcx_payload\n",
    "  },\n",
    "  \"Transfer2Input\": {\n",
    "      \"source_endpoint_id\": \"08925f04-569f-11e7-bef8-22000b9a448b\",\n",
    "      \"destination_endpoint_id\": \"fdc7e74a-fa78-11e8-9342-0e3d676669f4\",\n",
    "      \"transfer_items\": [\n",
    "        {\n",
    "          \"source_path\": event['data']['hdf'],\n",
    "          \"destination_path\": \"/data/xpcs8/2019-1/comm201901/ALCF_results/test.hdf\",\n",
    "          \"recursive\": False\n",
    "        }\n",
    "      ]\n",
    "    }\n",
    "}\n"
   ]
  },
  {
   "cell_type": "code",
   "execution_count": 13,
   "metadata": {},
   "outputs": [
    {
     "name": "stdout",
     "output_type": "stream",
     "text": [
      "Login Here:\n",
      "\n",
      "https://auth.globus.org/v2/oauth2/authorize?client_id=e6c75d97-532a-4c88-b031-8584a319fa3e&redirect_uri=https%3A%2F%2Fauth.globus.org%2Fv2%2Fweb%2Fauth-code&scope=https%3A%2F%2Fauth.globus.org%2Fscopes%2F37488591-c036-4756-8a88-194578d425ba%2Fflow_37488591_c036_4756_8a88_194578d425ba&state=_default&response_type=code&code_challenge=6l0a-8QHV2u0sILdbX6rxcjbsb4-xKFipTDu3fKyPGc&code_challenge_method=S256&access_type=offline&prefill_named_grant=Globus+Automate+Client\n",
      "\n",
      "\n",
      "Note that this link can only be used once! If login or a later step in the flow fails, you must restart it.\n",
      "Enter resulting code:lDK9PhhAleNxFjf9mRFosVKZSw5GEO\n",
      "GlobusHTTPResponse({'action_id': '5e32009f-697e-44ca-9561-b8acc7ba712e', 'completion_time': 'None', 'created_by': 'urn:globus:auth:identity:c4765424-d274-11e5-b894-cb4139f74ecf', 'details': {'code': 'ActionStarted', 'description': 'State Transfer1 of type Action started', 'details': {'input': {'Exec1Input': {'endpoint': '9f84f41e-dfb6-4633-97be-b46901e9384c', 'func': 'e53e57d9-e2b0-4d65-9a2b-a37068cede06', 'payload': '12\\n01\\ngAMpLg==\\n291\\n01\\ngAN9cQBYBQAAAGV2ZW50cQF9cQJYBAAAAGRhdGFxA31xBChYAwAAAGhkZnEFWEYAAAAvcHJvamVj\\ndHMvQVBTRGF0YUFuYWx5c2lzL0F1dG9tYXRlL0EwMDFfQWVyb2dlbDUtNC9BMDAxX0Flcm9nZWw1\\nLTQuaGRmcQZYAwAAAGltbXEHWEYAAAAvcHJvamVjdHMvQVBTRGF0YUFuYWx5c2lzL0F1dG9tYXRl\\nL0EwMDFfQWVyb2dlbDUtNC9BMDAxX0Flcm9nZWw1LTQuaW1tcQh1c3Mu\\n'}, 'Exec2Input': {'endpoint': '9f84f41e-dfb6-4633-97be-b46901e9384c', 'func': 'add04aa4-4275-4532-bb17-4e73981975a9', 'payload': '12\\n01\\ngAMpLg==\\n291\\n01\\ngAN9cQBYBQAAAGV2ZW50cQF9cQJYBAAAAGRhdGFxA31xBChYAwAAAGhkZnEFWEYAAAAvcHJvamVj\\ndHMvQVBTRGF0YUFuYWx5c2lzL0F1dG9tYXRlL0EwMDFfQWVyb2dlbDUtNC9BMDAxX0Flcm9nZWw1\\nLTQuaGRmcQZYAwAAAGltbXEHWEYAAAAvcHJvamVjdHMvQVBTRGF0YUFuYWx5c2lzL0F1dG9tYXRl\\nL0EwMDFfQWVyb2dlbDUtNC9BMDAxX0Flcm9nZWw1LTQuaW1tcQh1c3Mu\\n'}, 'Exec3Input': {'endpoint': '6c4323f4-a062-4551-a883-146a352a43f5', 'func': 'b0cbd84f-9670-437a-bd53-2d8119e8099e', 'payload': '12\\n01\\ngAMpLg==\\n291\\n01\\ngAN9cQBYBQAAAGV2ZW50cQF9cQJYBAAAAGRhdGFxA31xBChYAwAAAGhkZnEFWEYAAAAvcHJvamVj\\ndHMvQVBTRGF0YUFuYWx5c2lzL0F1dG9tYXRlL0EwMDFfQWVyb2dlbDUtNC9BMDAxX0Flcm9nZWw1\\nLTQuaGRmcQZYAwAAAGltbXEHWEYAAAAvcHJvamVjdHMvQVBTRGF0YUFuYWx5c2lzL0F1dG9tYXRl\\nL0EwMDFfQWVyb2dlbDUtNC9BMDAxX0Flcm9nZWw1LTQuaW1tcQh1c3Mu\\n'}, 'Transfer1Input': {'destination_endpoint_id': '08925f04-569f-11e7-bef8-22000b9a448b', 'source_endpoint_id': 'fdc7e74a-fa78-11e8-9342-0e3d676669f4', 'transfer_items': [{'destination_path': '/projects/APSDataAnalysis/Automate/A001_Aerogel5-4/A001_Aerogel5-4.hdf', 'recursive': False, 'source_path': '/data/xpcs8/2019-1/comm201901/cluster_results/A001_Aerogel_1mm_att6_Lq0_001_0001-1000.hdf'}, {'destination_path': '/projects/APSDataAnalysis/Automate/A001_Aerogel5-4/A001_Aerogel5-4.imm', 'recursive': False, 'source_path': '/data/xpcs8/2019-1/comm201901/A001_Aerogel_1mm_att6_Lq0_001/A001_Aerogel_1mm_att6_Lq0_001_00001-01000.imm'}]}, 'Transfer2Input': {'destination_endpoint_id': 'fdc7e74a-fa78-11e8-9342-0e3d676669f4', 'source_endpoint_id': '08925f04-569f-11e7-bef8-22000b9a448b', 'transfer_items': [{'destination_path': '/data/xpcs8/2019-1/comm201901/ALCF_results/test.hdf', 'recursive': False, 'source_path': '/projects/APSDataAnalysis/Automate/A001_Aerogel5-4/A001_Aerogel5-4.hdf'}]}}, 'state_name': 'Transfer1', 'state_type': 'Action'}, 'time': '2020-04-29T17:58:52.714000+00:00'}, 'start_time': '2020-04-29T17:58:52.662000+00:00', 'status': 'ACTIVE'})\n",
      "Flow action started with id: 5e32009f-697e-44ca-9561-b8acc7ba712e\n",
      "Flow status: ACTIVE\n",
      "Flow status: ACTIVE\n",
      "Flow status: ACTIVE\n",
      "Flow status: ACTIVE\n",
      "Flow status: ACTIVE\n",
      "Flow status: ACTIVE\n",
      "Flow status: ACTIVE\n",
      "Flow status: ACTIVE\n",
      "Flow status: ACTIVE\n",
      "Flow status: ACTIVE\n",
      "Flow status: ACTIVE\n",
      "Flow status: ACTIVE\n",
      "Flow status: ACTIVE\n",
      "Flow status: ACTIVE\n",
      "Flow status: ACTIVE\n",
      "Flow status: ACTIVE\n",
      "Flow status: ACTIVE\n",
      "Flow status: ACTIVE\n",
      "Flow status: ACTIVE\n",
      "Flow status: ACTIVE\n",
      "Flow status: ACTIVE\n",
      "Flow status: ACTIVE\n",
      "Flow status: ACTIVE\n",
      "Flow status: ACTIVE\n",
      "Flow status: ACTIVE\n"
     ]
    },
    {
     "ename": "KeyboardInterrupt",
     "evalue": "",
     "output_type": "error",
     "traceback": [
      "\u001b[0;31m---------------------------------------------------------------------------\u001b[0m",
      "\u001b[0;31mKeyboardInterrupt\u001b[0m                         Traceback (most recent call last)",
      "\u001b[0;32m<ipython-input-13-1b832815c669>\u001b[0m in \u001b[0;36m<module>\u001b[0;34m\u001b[0m\n\u001b[1;32m      5\u001b[0m \u001b[0mprint\u001b[0m\u001b[0;34m(\u001b[0m\u001b[0;34mf'Flow action started with id: {flow_action_id}'\u001b[0m\u001b[0;34m)\u001b[0m\u001b[0;34m\u001b[0m\u001b[0;34m\u001b[0m\u001b[0m\n\u001b[1;32m      6\u001b[0m \u001b[0;32mwhile\u001b[0m \u001b[0mflow_status\u001b[0m \u001b[0;34m==\u001b[0m \u001b[0;34m'ACTIVE'\u001b[0m\u001b[0;34m:\u001b[0m\u001b[0;34m\u001b[0m\u001b[0;34m\u001b[0m\u001b[0m\n\u001b[0;32m----> 7\u001b[0;31m     \u001b[0mtime\u001b[0m\u001b[0;34m.\u001b[0m\u001b[0msleep\u001b[0m\u001b[0;34m(\u001b[0m\u001b[0;36m10\u001b[0m\u001b[0;34m)\u001b[0m\u001b[0;34m\u001b[0m\u001b[0;34m\u001b[0m\u001b[0m\n\u001b[0m\u001b[1;32m      8\u001b[0m     \u001b[0mflow_action\u001b[0m \u001b[0;34m=\u001b[0m \u001b[0mflows_client\u001b[0m\u001b[0;34m.\u001b[0m\u001b[0mflow_action_status\u001b[0m\u001b[0;34m(\u001b[0m\u001b[0mflow_id\u001b[0m\u001b[0;34m,\u001b[0m \u001b[0mflow_scope\u001b[0m\u001b[0;34m,\u001b[0m \u001b[0mflow_action_id\u001b[0m\u001b[0;34m)\u001b[0m\u001b[0;34m\u001b[0m\u001b[0;34m\u001b[0m\u001b[0m\n\u001b[1;32m      9\u001b[0m     \u001b[0mflow_status\u001b[0m \u001b[0;34m=\u001b[0m \u001b[0mflow_action\u001b[0m\u001b[0;34m[\u001b[0m\u001b[0;34m'status'\u001b[0m\u001b[0;34m]\u001b[0m\u001b[0;34m\u001b[0m\u001b[0;34m\u001b[0m\u001b[0m\n",
      "\u001b[0;31mKeyboardInterrupt\u001b[0m: "
     ]
    }
   ],
   "source": [
    "flow_action = flows_client.run_flow(flow_id, flow_scope, flow_input)\n",
    "print(flow_action)\n",
    "flow_action_id = flow_action['action_id']\n",
    "flow_status = flow_action['status']\n",
    "print(f'Flow action started with id: {flow_action_id}')\n",
    "while flow_status == 'ACTIVE':\n",
    "    time.sleep(10)\n",
    "    flow_action = flows_client.flow_action_status(flow_id, flow_scope, flow_action_id)\n",
    "    flow_status = flow_action['status']\n",
    "    print(f'Flow status: {flow_status}')"
   ]
  },
  {
   "cell_type": "code",
   "execution_count": 19,
   "metadata": {},
   "outputs": [
    {
     "name": "stdout",
     "output_type": "stream",
     "text": [
      "# funcX endpoints\n",
      "FUNCX_THETA_ENDPOINT = \"9f84f41e-dfb6-4633-97be-b46901e9384c\"\n",
      "FUNCX_LOGIN_ENDPOINT = \"6c4323f4-a062-4551-a883-146a352a43f5\"\n",
      "\n",
      "# funcX functions\n",
      "FUNCX_CORR_FUNCID = \"e53e57d9-e2b0-4d65-9a2b-a37068cede06\"\n",
      "FUNCX_PLOT_FUNCID = \"add04aa4-4275-4532-bb17-4e73981975a9\"\n",
      "FUNCX_PILOT_FUNCID = \"b0cbd84f-9670-437a-bd53-2d8119e8099e\"\n",
      "\n",
      "# flow details\n",
      "FLOW_ID = \"37488591-c036-4756-8a88-194578d425ba\"\n",
      "FLOW_SCOPE = \"https://auth.globus.org/scopes/37488591-c036-4756-8a88-194578d425ba/flow_37488591_c036_4756_8a88_194578d425ba\"\n"
     ]
    }
   ],
   "source": [
    "# Values to paste into the kickoff and wait scripts\n",
    "\n",
    "# funcX Endpoints\n",
    "print(f\"\"\"# funcX endpoints\n",
    "FUNCX_THETA_ENDPOINT = \"{theta_ep}\"\n",
    "FUNCX_LOGIN_ENDPOINT = \"{login_ep}\"\n",
    "\n",
    "# funcX functions\n",
    "FUNCX_CORR_FUNCID = \"{alcf_xpcs_corr_func_uuid}\"\n",
    "FUNCX_PLOT_FUNCID = \"{plot_xpcs_func_uuid}\"\n",
    "FUNCX_PILOT_FUNCID = \"{pilot_func_uuid}\"\n",
    "\n",
    "# flow details\n",
    "FLOW_ID = \"{flow_id}\"\n",
    "FLOW_SCOPE = \"{flow_scope}\\\"\"\"\")\n"
   ]
  },
  {
   "cell_type": "code",
   "execution_count": null,
   "metadata": {},
   "outputs": [],
   "source": []
  },
  {
   "cell_type": "code",
   "execution_count": null,
   "metadata": {},
   "outputs": [],
   "source": []
  },
  {
   "cell_type": "markdown",
   "metadata": {},
   "source": [
    "# Testing"
   ]
  },
  {
   "cell_type": "code",
   "execution_count": 32,
   "metadata": {},
   "outputs": [],
   "source": [
    "event = {\"data\": {\n",
    "         \"hdf\": \"/projects/APSDataAnalysis/Automate/A001_Aerogel5-2/A001_Aerogel5-2.hdf\",\n",
    "         \"imm\": \"/projects/APSDataAnalysis/Automate/A001_Aerogel5-2/A001_Aerogel5-2.imm\",\n",
    "     }}\n",
    "\n",
    "res = fxc.run(event, endpoint_id=theta_ep, function_id=plot_xpcs_func_uuid)\n",
    "# res = fxc.run(event, endpoint_id=login_ep, function_id=pilot_func_uuid)"
   ]
  },
  {
   "cell_type": "code",
   "execution_count": 33,
   "metadata": {},
   "outputs": [],
   "source": [
    "# event = {\"data\": {\n",
    "#          \"hdf\": \"/projects/APSDataAnalysis/Automate/A010_MJ_PMA_47g136kDa_att2_180C_Lq0_002_0002-0400/A010_MJ_PMA_47g136kDa_att2_180C_Lq0_002_0002-0400.hdf\",\n",
    "#          \"imm\": \"/projects/APSDataAnalysis/Automate/A010_MJ_PMA_47g136kDa_att2_180C_Lq0_002_0002-0400/A010_MJ_PMA_47g136kDa_att2_180C_Lq0_002_00001-00400.imm\",\n",
    "# #          \"flags\": \"--rigaku\",     \n",
    "#          \"metadata\": \"/projects/APSDataAnalysis/Automate/A010_MJ_PMA_47g136kDa_att2_180C_Lq0_002_0002-0400/A010_MJ_PMA_47g136kDa_att2_180C_Lq0_002_0002-0400.json\"      \n",
    "#      }}"
   ]
  },
  {
   "cell_type": "code",
   "execution_count": 34,
   "metadata": {},
   "outputs": [],
   "source": [
    "# res = fxc.run(event, endpoint_id=login_ep, function_id=p)"
   ]
  },
  {
   "cell_type": "code",
   "execution_count": 35,
   "metadata": {},
   "outputs": [
    {
     "data": {
      "text/plain": [
       "'156f680b-3bee-4b1f-853d-f2226b31987b'"
      ]
     },
     "execution_count": 35,
     "metadata": {},
     "output_type": "execute_result"
    }
   ],
   "source": [
    "res"
   ]
  },
  {
   "cell_type": "code",
   "execution_count": 36,
   "metadata": {},
   "outputs": [
    {
     "ename": "Exception",
     "evalue": "Task pending",
     "output_type": "error",
     "traceback": [
      "\u001b[0;31m---------------------------------------------------------------------------\u001b[0m",
      "\u001b[0;31mException\u001b[0m                                 Traceback (most recent call last)",
      "\u001b[0;32m<ipython-input-36-a2cd871b617a>\u001b[0m in \u001b[0;36m<module>\u001b[0;34m\u001b[0m\n\u001b[0;32m----> 1\u001b[0;31m \u001b[0mfxc\u001b[0m\u001b[0;34m.\u001b[0m\u001b[0mget_result\u001b[0m\u001b[0;34m(\u001b[0m\u001b[0mres\u001b[0m\u001b[0;34m)\u001b[0m\u001b[0;34m\u001b[0m\u001b[0;34m\u001b[0m\u001b[0m\n\u001b[0m",
      "\u001b[0;32m~/.miniconda3/envs/automate/lib/python3.6/site-packages/funcx/sdk/client.py\u001b[0m in \u001b[0;36mget_result\u001b[0;34m(self, task_id)\u001b[0m\n\u001b[1;32m    138\u001b[0m \u001b[0;34m\u001b[0m\u001b[0m\n\u001b[1;32m    139\u001b[0m         \u001b[0;32melse\u001b[0m\u001b[0;34m:\u001b[0m\u001b[0;34m\u001b[0m\u001b[0;34m\u001b[0m\u001b[0m\n\u001b[0;32m--> 140\u001b[0;31m             \u001b[0;32mraise\u001b[0m \u001b[0mException\u001b[0m\u001b[0;34m(\u001b[0m\u001b[0;34m\"Task pending\"\u001b[0m\u001b[0;34m)\u001b[0m\u001b[0;34m\u001b[0m\u001b[0;34m\u001b[0m\u001b[0m\n\u001b[0m\u001b[1;32m    141\u001b[0m \u001b[0;34m\u001b[0m\u001b[0m\n\u001b[1;32m    142\u001b[0m \u001b[0;34m\u001b[0m\u001b[0m\n",
      "\u001b[0;31mException\u001b[0m: Task pending"
     ]
    }
   ],
   "source": [
    "fxc.get_result(res)"
   ]
  },
  {
   "cell_type": "code",
   "execution_count": null,
   "metadata": {},
   "outputs": [],
   "source": []
  },
  {
   "cell_type": "code",
   "execution_count": null,
   "metadata": {},
   "outputs": [],
   "source": []
  },
  {
   "cell_type": "code",
   "execution_count": null,
   "metadata": {},
   "outputs": [],
   "source": []
  },
  {
   "cell_type": "code",
   "execution_count": null,
   "metadata": {},
   "outputs": [],
   "source": []
  },
  {
   "cell_type": "code",
   "execution_count": null,
   "metadata": {},
   "outputs": [],
   "source": []
  },
  {
   "cell_type": "markdown",
   "metadata": {},
   "source": [
    "### Testing Pilot ingest\n",
    "\n",
    "Need to figure out either using -s or renaming the directory the data is being processed in. Perhaps easiest if we just force everything to be worked on in the experiment name dir? then do a chdir to that exp?"
   ]
  },
  {
   "cell_type": "code",
   "execution_count": 34,
   "metadata": {},
   "outputs": [
    {
     "name": "stdout",
     "output_type": "stream",
     "text": [
      "4f63f171-a154-4a02-98a1-3d27551017a4\n"
     ]
    }
   ],
   "source": [
    "def alcf_xpcs_pilot(event):\n",
    "    import os\n",
    "    import time\n",
    "    import json\n",
    "    import subprocess\n",
    "    from subprocess import PIPE\n",
    "    \n",
    "    print(\"Starting XPCS Pilot\")\n",
    "    \n",
    "    meta_file = event['data']['metadata']\n",
    "    exp_dir = \"/\".join(event['data']['hdf'].split(\"/\")[:-1])\n",
    "    exp_name = event['data']['hdf'].split(\"/\")[-1].replace(\".hdf\", \"\")\n",
    "    \n",
    "    os.chdir(exp_dir)\n",
    "    \n",
    "    pilot = '/home/rchard/.conda/envs/funcx-theta/bin/pilot'\n",
    "\n",
    "    cmd = f\"{pilot} upload -u -j {meta_file} {exp_name} /\"\n",
    "    print(cmd)\n",
    "    return cmd\n",
    "    res = subprocess.run(cmd.split(\" \"), stdout=PIPE, stderr=PIPE,\n",
    "    env={'LC_ALL': 'C.UTF-8', 'LANG': 'C.UTF-8'})\n",
    "    \n",
    "    print(res.stdout)\n",
    "    print(res.stderr)\n",
    "    return str(res.stdout)\n",
    "\n",
    "pilot_func_uuid = fxc.register_function(alcf_xpcs_pilot, description=\"An XPCS pilot function.\")\n",
    "print(pilot_func_uuid)"
   ]
  },
  {
   "cell_type": "code",
   "execution_count": 79,
   "metadata": {},
   "outputs": [
    {
     "name": "stdout",
     "output_type": "stream",
     "text": [
      "8ef2d684-3fb6-4beb-864b-876051e94dd9\n"
     ]
    }
   ],
   "source": [
    "event = {\"data\": {\n",
    "         \"hdf\": \"/projects/APSDataAnalysis/Automate/A047_test_001_0001-0256/A047_test_001_0001-0256.hdf\",\n",
    "         \"imm\": \"/projects/APSDataAnalysis/Automate/A047_test_001_0001-0256/A047_test_001_00001-00256.imm\",\n",
    "         \"metadata\": \"/projects/APSDataAnalysis/Automate/A047_test_001_0001-0256/A047_test_001_0001-0256.json\"\n",
    "     }}\n",
    "res = fxc.run(event, endpoint_id=login_ep, function_id=pilot_func_uuid)\n",
    "print(res)"
   ]
  },
  {
   "cell_type": "code",
   "execution_count": 82,
   "metadata": {},
   "outputs": [
    {
     "ename": "Exception",
     "evalue": "Task pending",
     "output_type": "error",
     "traceback": [
      "\u001b[0;31m---------------------------------------------------------------------------\u001b[0m",
      "\u001b[0;31mException\u001b[0m                                 Traceback (most recent call last)",
      "\u001b[0;32m<ipython-input-82-c360f85c5a4d>\u001b[0m in \u001b[0;36m<module>\u001b[0;34m\u001b[0m\n\u001b[0;32m----> 1\u001b[0;31m \u001b[0mprint\u001b[0m\u001b[0;34m(\u001b[0m\u001b[0mfxc\u001b[0m\u001b[0;34m.\u001b[0m\u001b[0mget_result\u001b[0m\u001b[0;34m(\u001b[0m\u001b[0mres\u001b[0m\u001b[0;34m)\u001b[0m\u001b[0;34m)\u001b[0m\u001b[0;34m\u001b[0m\u001b[0;34m\u001b[0m\u001b[0m\n\u001b[0m",
      "\u001b[0;32m~/.miniconda3/envs/funcx/lib/python3.6/site-packages/funcx-0.0.1a2-py3.6.egg/funcx/sdk/client.py\u001b[0m in \u001b[0;36mget_result\u001b[0;34m(self, task_id)\u001b[0m\n\u001b[1;32m    133\u001b[0m \u001b[0;34m\u001b[0m\u001b[0m\n\u001b[1;32m    134\u001b[0m         \u001b[0;32melse\u001b[0m\u001b[0;34m:\u001b[0m\u001b[0;34m\u001b[0m\u001b[0;34m\u001b[0m\u001b[0m\n\u001b[0;32m--> 135\u001b[0;31m             \u001b[0;32mraise\u001b[0m \u001b[0mException\u001b[0m\u001b[0;34m(\u001b[0m\u001b[0;34m\"Task pending\"\u001b[0m\u001b[0;34m)\u001b[0m\u001b[0;34m\u001b[0m\u001b[0;34m\u001b[0m\u001b[0m\n\u001b[0m\u001b[1;32m    136\u001b[0m \u001b[0;34m\u001b[0m\u001b[0m\n\u001b[1;32m    137\u001b[0m \u001b[0;34m\u001b[0m\u001b[0m\n",
      "\u001b[0;31mException\u001b[0m: Task pending"
     ]
    }
   ],
   "source": [
    "print(fxc.get_result(res))"
   ]
  },
  {
   "cell_type": "code",
   "execution_count": null,
   "metadata": {},
   "outputs": [],
   "source": []
  },
  {
   "cell_type": "code",
   "execution_count": null,
   "metadata": {},
   "outputs": [],
   "source": []
  },
  {
   "cell_type": "code",
   "execution_count": null,
   "metadata": {},
   "outputs": [],
   "source": []
  },
  {
   "cell_type": "code",
   "execution_count": 39,
   "metadata": {},
   "outputs": [
    {
     "ename": "Exception",
     "evalue": "Invalid header: 170 in data payload",
     "output_type": "error",
     "traceback": [
      "\u001b[0;31m---------------------------------------------------------------------------\u001b[0m",
      "\u001b[0;31mException\u001b[0m                                 Traceback (most recent call last)",
      "\u001b[0;32m<ipython-input-39-34b8d4539f9a>\u001b[0m in \u001b[0;36m<module>\u001b[0;34m\u001b[0m\n\u001b[1;32m      5\u001b[0m gANYCQAAAHBsb3RfeHBjc3EAWM4EAABkZWYgcGxvdF94cGNzKGV2ZW50KToKICAgIGltcG9ydCBvcwogICAgaW1wb3J0IHRpbWUKICAgIGltcG9ydCBqc29uCiAgICBpbXBvcnQgc2h1dGlsCiAgICBpbXBvcnQgcGlja2xlCiAgICBpbXBvcnQgc3VicHJvY2VzcwogICAgZnJvbSBzdWJwcm9jZXNzIGltcG9ydCBQSVBFCiAgICAKICAgIGhkZl9maWxlID0gZXZlbnRbJ2RhdGEnXVsnaGRmJ10KICAgIGhkZl9maWxlX25hbWUgPSBoZGZfZmlsZS5zcGxpdCgiLyIpWy0xXQogICAgZXhwX25hbWUgPSAiLiIuam9pbihoZGZfZmlsZS5zcGxpdCgiLyIpWy0xXS5zcGxpdCgiLiIpWzotMV0pCiAgICAKICAgIGRpcl9uYW1lID0gIi8iLmpvaW4oaGRmX2ZpbGUuc3BsaXQoJy8nKVs6LTFdKQoKICAgIG9zLmNoZGlyKGRpcl9uYW1lKQogICAgCiAgICBweXRob24gPSAnL2hvbWUvcmNoYXJkLy5jb25kYS9lbnZzL2Z1bmN4LXRoZXRhL2Jpbi9weXRob24nCiAgICB4cGNzX3Bsb3QgPSAnL2hvbWUvcmNoYXJkL0FQU0RhdGFBbmFseXNpcy90b29scy9waWxvdDEtdG9vbHMvc2NyaXB0cy94cGNzX3Bsb3RzLnB5JwogICAgeHBjc19tZXRhID0gJy9ob21lL3JjaGFyZC9BUFNEYXRhQW5hbHlzaXMvdG9vbHMvcGlsb3QxLXRvb2xzL3NjcmlwdHMveHBjc19tZXRhZGF0YS5weScKICAgIHhwY3NfcWMgPSAnL2hvbWUvcmNoYXJkL0FQU0RhdGFBbmFseXNpcy90b29scy9waWxvdDEtdG9vbHMvc2NyaXB0cy94cGNzX3FjLnB5JwoKICAgIGNtZCA9IGYie3B5dGhvbn0ge3hwY3NfcGxvdH0ge2hkZl9maWxlfSIKICAgIHByaW50KGNtZCkKICAgIGNtZCA9IGNtZC5zcGxpdCgiICIpCiAgICByZXMgPSBzdWJwcm9jZXNzLnJ1bihjbWQsIHN0ZG91dD1QSVBFLCBzdGRlcnI9UElQRSkKICAgIHByaW50KHJlcy5zdGRvdXQpCiAgICAKICAgIGNtZCA9IGYie3B5dGhvbn0ge3hwY3NfbWV0YX0gZ2F0aGVyIHtoZGZfZmlsZX0iCiAgICBwcmludChjbWQpCiAgICAKICAgIG15X2VudiA9IG9zLmVudmlyb24uY29weSgpCiAgICBteV9lbnZbIkxDX0FMTCJdID0gIkMuVVRGLTgiCiAgICBteV9lbnZbIkxBTkciXSA9ICJDLlVURi04IgogICAgCiAgICBjbWQgPSBjbWQuc3BsaXQoIiAiKQogICAgcmVzID0gc3VicHJvY2Vzcy5ydW4oY21kLCBzdGRvdXQ9UElQRSwgc3RkZXJyPVBJUEUsIGVudj1teV9lbnYpCiAgICBwcmludChyZXMuc3Rkb3V0KQogICAgcHJpbnQocmVzLnN0ZGVycikgCgogICAgcmV0dXJuIGNtZAogICAgcmV0dXJuICdkb25lJwpxAYZxAi4=\"\"\"\n\u001b[1;32m      6\u001b[0m \u001b[0;34m\u001b[0m\u001b[0m\n\u001b[0;32m----> 7\u001b[0;31m \u001b[0mx\u001b[0m \u001b[0;34m=\u001b[0m \u001b[0mfx_serializer\u001b[0m\u001b[0;34m.\u001b[0m\u001b[0mdeserialize\u001b[0m\u001b[0;34m(\u001b[0m\u001b[0mres\u001b[0m\u001b[0;34m)\u001b[0m\u001b[0;34m\u001b[0m\u001b[0;34m\u001b[0m\u001b[0m\n\u001b[0m\u001b[1;32m      8\u001b[0m \u001b[0mx\u001b[0m\u001b[0;34m\u001b[0m\u001b[0;34m\u001b[0m\u001b[0m\n",
      "\u001b[0;32m~/.miniconda3/envs/funcx/lib/python3.6/site-packages/funcx/serialize/facade.py\u001b[0m in \u001b[0;36mdeserialize\u001b[0;34m(self, payload)\u001b[0m\n\u001b[1;32m     81\u001b[0m             \u001b[0mresult\u001b[0m \u001b[0;34m=\u001b[0m \u001b[0mself\u001b[0m\u001b[0;34m.\u001b[0m\u001b[0mmethods_for_data\u001b[0m\u001b[0;34m[\u001b[0m\u001b[0mheader\u001b[0m\u001b[0;34m]\u001b[0m\u001b[0;34m.\u001b[0m\u001b[0mdeserialize\u001b[0m\u001b[0;34m(\u001b[0m\u001b[0mpayload\u001b[0m\u001b[0;34m)\u001b[0m\u001b[0;34m\u001b[0m\u001b[0;34m\u001b[0m\u001b[0m\n\u001b[1;32m     82\u001b[0m         \u001b[0;32melse\u001b[0m\u001b[0;34m:\u001b[0m\u001b[0;34m\u001b[0m\u001b[0;34m\u001b[0m\u001b[0m\n\u001b[0;32m---> 83\u001b[0;31m             \u001b[0;32mraise\u001b[0m \u001b[0mException\u001b[0m\u001b[0;34m(\u001b[0m\u001b[0;34m\"Invalid header: {} in data payload\"\u001b[0m\u001b[0;34m.\u001b[0m\u001b[0mformat\u001b[0m\u001b[0;34m(\u001b[0m\u001b[0mheader\u001b[0m\u001b[0;34m)\u001b[0m\u001b[0;34m)\u001b[0m\u001b[0;34m\u001b[0m\u001b[0;34m\u001b[0m\u001b[0m\n\u001b[0m\u001b[1;32m     84\u001b[0m \u001b[0;34m\u001b[0m\u001b[0m\n\u001b[1;32m     85\u001b[0m         \u001b[0;32mreturn\u001b[0m \u001b[0mresult\u001b[0m\u001b[0;34m\u001b[0m\u001b[0;34m\u001b[0m\u001b[0m\n",
      "\u001b[0;31mException\u001b[0m: Invalid header: 170 in data payload"
     ]
    }
   ],
   "source": [
    "from funcx.serialize import FuncXSerializer\n",
    "fx_serializer = FuncXSerializer()\n",
    "res = \"\"\"1706\n",
    "04\n",
    "gANYCQAAAHBsb3RfeHBjc3EAWM4EAABkZWYgcGxvdF94cGNzKGV2ZW50KToKICAgIGltcG9ydCBvcwogICAgaW1wb3J0IHRpbWUKICAgIGltcG9ydCBqc29uCiAgICBpbXBvcnQgc2h1dGlsCiAgICBpbXBvcnQgcGlja2xlCiAgICBpbXBvcnQgc3VicHJvY2VzcwogICAgZnJvbSBzdWJwcm9jZXNzIGltcG9ydCBQSVBFCiAgICAKICAgIGhkZl9maWxlID0gZXZlbnRbJ2RhdGEnXVsnaGRmJ10KICAgIGhkZl9maWxlX25hbWUgPSBoZGZfZmlsZS5zcGxpdCgiLyIpWy0xXQogICAgZXhwX25hbWUgPSAiLiIuam9pbihoZGZfZmlsZS5zcGxpdCgiLyIpWy0xXS5zcGxpdCgiLiIpWzotMV0pCiAgICAKICAgIGRpcl9uYW1lID0gIi8iLmpvaW4oaGRmX2ZpbGUuc3BsaXQoJy8nKVs6LTFdKQoKICAgIG9zLmNoZGlyKGRpcl9uYW1lKQogICAgCiAgICBweXRob24gPSAnL2hvbWUvcmNoYXJkLy5jb25kYS9lbnZzL2Z1bmN4LXRoZXRhL2Jpbi9weXRob24nCiAgICB4cGNzX3Bsb3QgPSAnL2hvbWUvcmNoYXJkL0FQU0RhdGFBbmFseXNpcy90b29scy9waWxvdDEtdG9vbHMvc2NyaXB0cy94cGNzX3Bsb3RzLnB5JwogICAgeHBjc19tZXRhID0gJy9ob21lL3JjaGFyZC9BUFNEYXRhQW5hbHlzaXMvdG9vbHMvcGlsb3QxLXRvb2xzL3NjcmlwdHMveHBjc19tZXRhZGF0YS5weScKICAgIHhwY3NfcWMgPSAnL2hvbWUvcmNoYXJkL0FQU0RhdGFBbmFseXNpcy90b29scy9waWxvdDEtdG9vbHMvc2NyaXB0cy94cGNzX3FjLnB5JwoKICAgIGNtZCA9IGYie3B5dGhvbn0ge3hwY3NfcGxvdH0ge2hkZl9maWxlfSIKICAgIHByaW50KGNtZCkKICAgIGNtZCA9IGNtZC5zcGxpdCgiICIpCiAgICByZXMgPSBzdWJwcm9jZXNzLnJ1bihjbWQsIHN0ZG91dD1QSVBFLCBzdGRlcnI9UElQRSkKICAgIHByaW50KHJlcy5zdGRvdXQpCiAgICAKICAgIGNtZCA9IGYie3B5dGhvbn0ge3hwY3NfbWV0YX0gZ2F0aGVyIHtoZGZfZmlsZX0iCiAgICBwcmludChjbWQpCiAgICAKICAgIG15X2VudiA9IG9zLmVudmlyb24uY29weSgpCiAgICBteV9lbnZbIkxDX0FMTCJdID0gIkMuVVRGLTgiCiAgICBteV9lbnZbIkxBTkciXSA9ICJDLlVURi04IgogICAgCiAgICBjbWQgPSBjbWQuc3BsaXQoIiAiKQogICAgcmVzID0gc3VicHJvY2Vzcy5ydW4oY21kLCBzdGRvdXQ9UElQRSwgc3RkZXJyPVBJUEUsIGVudj1teV9lbnYpCiAgICBwcmludChyZXMuc3Rkb3V0KQogICAgcHJpbnQocmVzLnN0ZGVycikgCgogICAgcmV0dXJuIGNtZAogICAgcmV0dXJuICdkb25lJwpxAYZxAi4=\"\"\"\n",
    "\n",
    "x = fx_serializer.deserialize(res)\n",
    "x\n"
   ]
  },
  {
   "cell_type": "code",
   "execution_count": 40,
   "metadata": {},
   "outputs": [
    {
     "ename": "AssertionError",
     "evalue": "Unpack expects 3 buffers, got 1",
     "output_type": "error",
     "traceback": [
      "\u001b[0;31m---------------------------------------------------------------------------\u001b[0m",
      "\u001b[0;31mAssertionError\u001b[0m                            Traceback (most recent call last)",
      "\u001b[0;32m<ipython-input-40-56b6e9175257>\u001b[0m in \u001b[0;36m<module>\u001b[0;34m\u001b[0m\n\u001b[0;32m----> 1\u001b[0;31m \u001b[0mfx_serializer\u001b[0m\u001b[0;34m.\u001b[0m\u001b[0munpack_and_deserialize\u001b[0m\u001b[0;34m(\u001b[0m\u001b[0mres\u001b[0m\u001b[0;34m)\u001b[0m\u001b[0;34m\u001b[0m\u001b[0;34m\u001b[0m\u001b[0m\n\u001b[0m",
      "\u001b[0;32m~/.miniconda3/envs/funcx/lib/python3.6/site-packages/funcx/serialize/facade.py\u001b[0m in \u001b[0;36munpack_and_deserialize\u001b[0;34m(self, packed_buffer)\u001b[0m\n\u001b[1;32m    128\u001b[0m             \u001b[0munpacked\u001b[0m\u001b[0;34m.\u001b[0m\u001b[0mextend\u001b[0m\u001b[0;34m(\u001b[0m\u001b[0;34m[\u001b[0m\u001b[0mdeserialized\u001b[0m\u001b[0;34m]\u001b[0m\u001b[0;34m)\u001b[0m\u001b[0;34m\u001b[0m\u001b[0;34m\u001b[0m\u001b[0m\n\u001b[1;32m    129\u001b[0m \u001b[0;34m\u001b[0m\u001b[0m\n\u001b[0;32m--> 130\u001b[0;31m         \u001b[0;32massert\u001b[0m \u001b[0mlen\u001b[0m\u001b[0;34m(\u001b[0m\u001b[0munpacked\u001b[0m\u001b[0;34m)\u001b[0m \u001b[0;34m==\u001b[0m \u001b[0;36m3\u001b[0m\u001b[0;34m,\u001b[0m \u001b[0;34m\"Unpack expects 3 buffers, got {}\"\u001b[0m\u001b[0;34m.\u001b[0m\u001b[0mformat\u001b[0m\u001b[0;34m(\u001b[0m\u001b[0mlen\u001b[0m\u001b[0;34m(\u001b[0m\u001b[0munpacked\u001b[0m\u001b[0;34m)\u001b[0m\u001b[0;34m)\u001b[0m\u001b[0;34m\u001b[0m\u001b[0;34m\u001b[0m\u001b[0m\n\u001b[0m\u001b[1;32m    131\u001b[0m \u001b[0;34m\u001b[0m\u001b[0m\n\u001b[1;32m    132\u001b[0m         \u001b[0;32mreturn\u001b[0m \u001b[0munpacked\u001b[0m\u001b[0;34m\u001b[0m\u001b[0;34m\u001b[0m\u001b[0m\n",
      "\u001b[0;31mAssertionError\u001b[0m: Unpack expects 3 buffers, got 1"
     ]
    }
   ],
   "source": [
    "fx_serializer.unpack_and_deserialize(res)\n"
   ]
  },
  {
   "cell_type": "markdown",
   "metadata": {},
   "source": [
    "### Nick testing"
   ]
  },
  {
   "cell_type": "code",
   "execution_count": null,
   "metadata": {},
   "outputs": [],
   "source": [
    "def process_hdf(event):\n",
    "    import os\n",
    "    import shutil\n",
    "    from XPCS.scripts.xpcs_metadata import gather\n",
    "    from XPCS.scripts.xpcs_plots import make_plots\n",
    "    from XPCS.scripts.xpcs_qc import check_hdf_dataset\n",
    "    from pilot.client import PilotClient\n",
    "\n",
    "    hdf_file = event['data']['hdf']\n",
    "    hdf_dir, extension = os.path.splitext(hdf_file)\n",
    "    try:\n",
    "        os.mkdir(hdf_dir)\n",
    "        shutil.move(hdf_file, hdf_dir)\n",
    "    except Exception as e:\n",
    "        print(e)\n",
    "    hdf_file = os.path.join(hdf_dir, os.path.basename(hdf_file))\n",
    "    os.chdir(hdf_dir)\n",
    "    assert os.path.exists(hdf_file), 'HDF File {hdf_file} does not exist!'\n",
    "\n",
    "    if check_hdf_dataset(hdf_file) is False:\n",
    "        print('HDF Check failed, skipping...')\n",
    "        return {}\n",
    "    metadata = gather(hdf_file)\n",
    "    make_plots(hdf_file)\n",
    "    metadata.update(event['custom_metadata'])\n",
    "    pc = PilotClient()\n",
    "    uploaded_metadata = pc.register(hdf_dir, '/', metadata=metadata,\n",
    "                                    update=True, skip_analysis=True)\n",
    "    print('Everything worked, register called')\n",
    "    return uploaded_metadata"
   ]
  },
  {
   "cell_type": "code",
   "execution_count": null,
   "metadata": {},
   "outputs": [],
   "source": [
    "process_hdf_func_uuid = fxc.register_function(\n",
    "    process_hdf, description=\"Put hdf file into dir, make plots, gather metadata.\"\n",
    ")\n",
    "print(process_hdf_func_uuid)"
   ]
  },
  {
   "cell_type": "code",
   "execution_count": null,
   "metadata": {},
   "outputs": [],
   "source": [
    "fname = '/Users/nick/globus/aps/globus-automation/XPCS/data/A001_Aerogel_1mm_att3_Lq0_001_0001-1000.hdf'\n",
    "payload = {\n",
    "    'data': {\n",
    "        \"hdf\": f\"{fname}\"\n",
    "    },\n",
    "    'custom_metadata': {\n",
    "        \"description\": f\"{fname}: Automated data processing.\",\n",
    "        \"creators\": [{\"creatorName\": \"8-ID\"}],\n",
    "        \"publisher\": \"Automate\",\n",
    "        \"title\": fname,\n",
    "        \"subjects\": [{\"subject\": \"XPCS\"}, {\"subject\": \"8-ID\"}],\n",
    "        \"publicationYear\": \"2019\",\n",
    "        \"resourceType\": {\n",
    "            \"resourceType\": \"Dataset\",\n",
    "            \"resourceTypeGeneral\": \"Dataset\"\n",
    "        }\n",
    "    }\n",
    "}\n",
    "res = fxc.run(payload, endpoint_id=local_ep, function_id=process_hdf_func_uuid)\n",
    "print(res)"
   ]
  },
  {
   "cell_type": "code",
   "execution_count": null,
   "metadata": {},
   "outputs": [],
   "source": [
    "print(res)\n",
    "fxc.get_result(res)"
   ]
  },
  {
   "cell_type": "code",
   "execution_count": null,
   "metadata": {},
   "outputs": [],
   "source": []
  }
 ],
 "metadata": {
  "celltoolbar": "Attachments",
  "kernelspec": {
   "display_name": "Python 3",
   "language": "python",
   "name": "python3"
  },
  "language_info": {
   "codemirror_mode": {
    "name": "ipython",
    "version": 3
   },
   "file_extension": ".py",
   "mimetype": "text/x-python",
   "name": "python",
   "nbconvert_exporter": "python",
   "pygments_lexer": "ipython3",
   "version": "3.6.8"
  }
 },
 "nbformat": 4,
 "nbformat_minor": 2
}
